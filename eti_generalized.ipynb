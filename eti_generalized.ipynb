{
 "cells": [
  {
   "cell_type": "code",
   "execution_count": 1,
   "metadata": {},
   "outputs": [],
   "source": [
    "import warnings\n",
    "warnings.filterwarnings(action='ignore')"
   ]
  },
  {
   "cell_type": "code",
   "execution_count": 2,
   "metadata": {},
   "outputs": [],
   "source": [
    "import numpy as np\n",
    "import pandas as pd\n",
    "import sqlite3\n",
    "import matplotlib.pyplot as plt"
   ]
  },
  {
   "cell_type": "code",
   "execution_count": 3,
   "metadata": {},
   "outputs": [],
   "source": [
    "_4dm3_data_fp = 'dataset/4dm3.db'\n",
    "_4dm4_data_fp = 'dataset/4dm4.db'\n",
    "soft6_data_fp = 'dataset/soft6.db'\n",
    "\n",
    "_4dm4_connection = sqlite3.connect(_4dm4_data_fp)\n",
    "_4dm3_connection = sqlite3.connect(_4dm3_data_fp)\n",
    "soft6_connection = sqlite3.connect(soft6_data_fp)"
   ]
  },
  {
   "cell_type": "code",
   "execution_count": 4,
   "metadata": {},
   "outputs": [],
   "source": [
    "_4dm4_sql = \"\"\"SELECT * FROM scores WHERE beatmap_type != \\\"SV\\\"\"\"\"\n",
    "_4dm3_sql = \"\"\"SELECT * FROM scores WHERE beatmap_type != \\\"SV\\\"\"\"\"\n",
    "\n",
    "soft_sql = \"\"\"SELECT players.name as player_name, scores.beatmap_id, mappools.round, mappools.beatmap_type, scores.score\n",
    "FROM scores LEFT JOIN mappools ON (scores.beatmap_id = mappools.beatmap_id)\n",
    "INNER JOIN players ON (scores.player_id = players.id)\"\"\"\n",
    "\n",
    "_4dm4_dataset = pd.read_sql(_4dm4_sql, _4dm4_connection)\n",
    "_4dm3_dataset = pd.read_sql(_4dm3_sql, _4dm3_connection)\n",
    "soft6_dataset = pd.read_sql(soft_sql, soft6_connection)"
   ]
  },
  {
   "cell_type": "code",
   "execution_count": 5,
   "metadata": {},
   "outputs": [],
   "source": [
    "def logit(x):\n",
    "    return np.log(x / (1e6 - x))\n",
    "\n",
    "soft6_dataset['score_logit'] = soft6_dataset['score'].apply(logit)\n",
    "soft6_dataset = soft6_dataset.rename({'beatmap_id': 'beatmap_tag'}, axis=1)"
   ]
  },
  {
   "cell_type": "code",
   "execution_count": 6,
   "metadata": {},
   "outputs": [],
   "source": [
    "from utils.etimodel import GeneralizedETIModel\n",
    "\n",
    "main_beatmap_category = ['RC', 'HB', 'LN']\n",
    "\n",
    "_4dm3_model = GeneralizedETIModel(_4dm4_dataset, main_beatmap_category)\n",
    "soft6_model = GeneralizedETIModel(_4dm4_dataset, main_beatmap_category)"
   ]
  },
  {
   "cell_type": "code",
   "execution_count": 7,
   "metadata": {},
   "outputs": [],
   "source": [
    "_4dm3_model.fit_regression(_4dm3_dataset)\n",
    "soft6_model.fit_regression(soft6_dataset)"
   ]
  },
  {
   "cell_type": "code",
   "execution_count": 8,
   "metadata": {},
   "outputs": [],
   "source": [
    "_4dm3_etis = _4dm3_model.predict(_4dm3_dataset)\n",
    "soft6_etis = soft6_model.predict(soft6_dataset)"
   ]
  },
  {
   "cell_type": "code",
   "execution_count": 9,
   "metadata": {},
   "outputs": [],
   "source": [
    "_4dm4_etis = _4dm3_model._4dm_eti().mean(axis=1)\n",
    "_4dm4_etis = pd.DataFrame(_4dm4_etis)"
   ]
  },
  {
   "cell_type": "code",
   "execution_count": 10,
   "metadata": {},
   "outputs": [],
   "source": [
    "_4dm4_etis['source'] = '4dm4'\n",
    "_4dm3_etis['source'] = '4dm3'\n",
    "soft6_etis['source'] = 'soft6'"
   ]
  },
  {
   "cell_type": "code",
   "execution_count": 11,
   "metadata": {},
   "outputs": [],
   "source": [
    "etis = pd.concat((soft6_etis, _4dm3_etis, _4dm4_etis)).reset_index().groupby('index').max()"
   ]
  },
  {
   "cell_type": "code",
   "execution_count": 12,
   "metadata": {},
   "outputs": [],
   "source": [
    "_4dm4_and_soft6_etis = etis[etis['source'] != '4dm3']"
   ]
  },
  {
   "cell_type": "code",
   "execution_count": 13,
   "metadata": {},
   "outputs": [],
   "source": [
    "_4dm4_and_soft6_etis['skillban_prob'] = _4dm4_and_soft6_etis['source'].apply(lambda x: 0 if x == '4dm4' else 1)"
   ]
  },
  {
   "cell_type": "code",
   "execution_count": 14,
   "metadata": {},
   "outputs": [],
   "source": [
    "from sklearn.linear_model import LogisticRegression\n",
    "\n",
    "x = _4dm4_and_soft6_etis[0].values.reshape(-1, 1)\n",
    "y = _4dm4_and_soft6_etis['skillban_prob'].values"
   ]
  },
  {
   "cell_type": "code",
   "execution_count": 15,
   "metadata": {},
   "outputs": [
    {
     "data": {
      "text/html": [
       "<style>#sk-container-id-1 {color: black;background-color: white;}#sk-container-id-1 pre{padding: 0;}#sk-container-id-1 div.sk-toggleable {background-color: white;}#sk-container-id-1 label.sk-toggleable__label {cursor: pointer;display: block;width: 100%;margin-bottom: 0;padding: 0.3em;box-sizing: border-box;text-align: center;}#sk-container-id-1 label.sk-toggleable__label-arrow:before {content: \"▸\";float: left;margin-right: 0.25em;color: #696969;}#sk-container-id-1 label.sk-toggleable__label-arrow:hover:before {color: black;}#sk-container-id-1 div.sk-estimator:hover label.sk-toggleable__label-arrow:before {color: black;}#sk-container-id-1 div.sk-toggleable__content {max-height: 0;max-width: 0;overflow: hidden;text-align: left;background-color: #f0f8ff;}#sk-container-id-1 div.sk-toggleable__content pre {margin: 0.2em;color: black;border-radius: 0.25em;background-color: #f0f8ff;}#sk-container-id-1 input.sk-toggleable__control:checked~div.sk-toggleable__content {max-height: 200px;max-width: 100%;overflow: auto;}#sk-container-id-1 input.sk-toggleable__control:checked~label.sk-toggleable__label-arrow:before {content: \"▾\";}#sk-container-id-1 div.sk-estimator input.sk-toggleable__control:checked~label.sk-toggleable__label {background-color: #d4ebff;}#sk-container-id-1 div.sk-label input.sk-toggleable__control:checked~label.sk-toggleable__label {background-color: #d4ebff;}#sk-container-id-1 input.sk-hidden--visually {border: 0;clip: rect(1px 1px 1px 1px);clip: rect(1px, 1px, 1px, 1px);height: 1px;margin: -1px;overflow: hidden;padding: 0;position: absolute;width: 1px;}#sk-container-id-1 div.sk-estimator {font-family: monospace;background-color: #f0f8ff;border: 1px dotted black;border-radius: 0.25em;box-sizing: border-box;margin-bottom: 0.5em;}#sk-container-id-1 div.sk-estimator:hover {background-color: #d4ebff;}#sk-container-id-1 div.sk-parallel-item::after {content: \"\";width: 100%;border-bottom: 1px solid gray;flex-grow: 1;}#sk-container-id-1 div.sk-label:hover label.sk-toggleable__label {background-color: #d4ebff;}#sk-container-id-1 div.sk-serial::before {content: \"\";position: absolute;border-left: 1px solid gray;box-sizing: border-box;top: 0;bottom: 0;left: 50%;z-index: 0;}#sk-container-id-1 div.sk-serial {display: flex;flex-direction: column;align-items: center;background-color: white;padding-right: 0.2em;padding-left: 0.2em;position: relative;}#sk-container-id-1 div.sk-item {position: relative;z-index: 1;}#sk-container-id-1 div.sk-parallel {display: flex;align-items: stretch;justify-content: center;background-color: white;position: relative;}#sk-container-id-1 div.sk-item::before, #sk-container-id-1 div.sk-parallel-item::before {content: \"\";position: absolute;border-left: 1px solid gray;box-sizing: border-box;top: 0;bottom: 0;left: 50%;z-index: -1;}#sk-container-id-1 div.sk-parallel-item {display: flex;flex-direction: column;z-index: 1;position: relative;background-color: white;}#sk-container-id-1 div.sk-parallel-item:first-child::after {align-self: flex-end;width: 50%;}#sk-container-id-1 div.sk-parallel-item:last-child::after {align-self: flex-start;width: 50%;}#sk-container-id-1 div.sk-parallel-item:only-child::after {width: 0;}#sk-container-id-1 div.sk-dashed-wrapped {border: 1px dashed gray;margin: 0 0.4em 0.5em 0.4em;box-sizing: border-box;padding-bottom: 0.4em;background-color: white;}#sk-container-id-1 div.sk-label label {font-family: monospace;font-weight: bold;display: inline-block;line-height: 1.2em;}#sk-container-id-1 div.sk-label-container {text-align: center;}#sk-container-id-1 div.sk-container {/* jupyter's `normalize.less` sets `[hidden] { display: none; }` but bootstrap.min.css set `[hidden] { display: none !important; }` so we also need the `!important` here to be able to override the default hidden behavior on the sphinx rendered scikit-learn.org. See: https://github.com/scikit-learn/scikit-learn/issues/21755 */display: inline-block !important;position: relative;}#sk-container-id-1 div.sk-text-repr-fallback {display: none;}</style><div id=\"sk-container-id-1\" class=\"sk-top-container\"><div class=\"sk-text-repr-fallback\"><pre>LogisticRegression()</pre><b>In a Jupyter environment, please rerun this cell to show the HTML representation or trust the notebook. <br />On GitHub, the HTML representation is unable to render, please try loading this page with nbviewer.org.</b></div><div class=\"sk-container\" hidden><div class=\"sk-item\"><div class=\"sk-estimator sk-toggleable\"><input class=\"sk-toggleable__control sk-hidden--visually\" id=\"sk-estimator-id-1\" type=\"checkbox\" checked><label for=\"sk-estimator-id-1\" class=\"sk-toggleable__label sk-toggleable__label-arrow\">LogisticRegression</label><div class=\"sk-toggleable__content\"><pre>LogisticRegression()</pre></div></div></div></div></div>"
      ],
      "text/plain": [
       "LogisticRegression()"
      ]
     },
     "execution_count": 15,
     "metadata": {},
     "output_type": "execute_result"
    }
   ],
   "source": [
    "skillban_model = LogisticRegression()\n",
    "\n",
    "skillban_model.fit(x, y)"
   ]
  },
  {
   "cell_type": "code",
   "execution_count": 16,
   "metadata": {},
   "outputs": [],
   "source": [
    "def predict(x: pd.DataFrame):\n",
    "    return skillban_model.predict_proba(x[0].values.reshape(-1, 1))"
   ]
  },
  {
   "cell_type": "code",
   "execution_count": 17,
   "metadata": {},
   "outputs": [],
   "source": [
    "_4kpp_estimate_dataset = pd.read_csv('4kpp_estimate.csv')\n",
    "_4digit_players = _4kpp_estimate_dataset[_4kpp_estimate_dataset['rank'] >= 1000]"
   ]
  },
  {
   "cell_type": "code",
   "execution_count": 18,
   "metadata": {},
   "outputs": [],
   "source": [
    "soft6_player_ids = pd.read_sql(\"\"\"SELECT id, name FROM players\"\"\", soft6_connection)\n",
    "soft6_player_ids.index = soft6_player_ids['id']\n",
    "list_players = np.intersect1d(_4digit_players['user_id'], soft6_player_ids['id'])\n",
    "_4digit_in_soft = soft6_player_ids.loc[list_players]['name'].values"
   ]
  },
  {
   "cell_type": "code",
   "execution_count": 19,
   "metadata": {},
   "outputs": [],
   "source": [
    "soft6_etis_4digit = soft6_etis[soft6_etis.index.isin(_4digit_in_soft)]"
   ]
  },
  {
   "cell_type": "code",
   "execution_count": 20,
   "metadata": {},
   "outputs": [],
   "source": [
    "etis_final = pd.concat((_4dm4_etis, _4dm3_etis, soft6_etis_4digit))"
   ]
  },
  {
   "cell_type": "code",
   "execution_count": 21,
   "metadata": {},
   "outputs": [
    {
     "data": {
      "text/html": [
       "<div>\n",
       "<style scoped>\n",
       "    .dataframe tbody tr th:only-of-type {\n",
       "        vertical-align: middle;\n",
       "    }\n",
       "\n",
       "    .dataframe tbody tr th {\n",
       "        vertical-align: top;\n",
       "    }\n",
       "\n",
       "    .dataframe thead th {\n",
       "        text-align: right;\n",
       "    }\n",
       "</style>\n",
       "<table border=\"1\" class=\"dataframe\">\n",
       "  <thead>\n",
       "    <tr style=\"text-align: right;\">\n",
       "      <th></th>\n",
       "      <th>0</th>\n",
       "      <th>source</th>\n",
       "    </tr>\n",
       "  </thead>\n",
       "  <tbody>\n",
       "    <tr>\n",
       "      <th>drag_</th>\n",
       "      <td>-1.991885</td>\n",
       "      <td>4dm4</td>\n",
       "    </tr>\n",
       "    <tr>\n",
       "      <th>JPBenedictGame</th>\n",
       "      <td>-1.800725</td>\n",
       "      <td>4dm4</td>\n",
       "    </tr>\n",
       "    <tr>\n",
       "      <th>iVALORUS</th>\n",
       "      <td>-2.036732</td>\n",
       "      <td>4dm4</td>\n",
       "    </tr>\n",
       "    <tr>\n",
       "      <th>BL5</th>\n",
       "      <td>-1.438920</td>\n",
       "      <td>4dm4</td>\n",
       "    </tr>\n",
       "    <tr>\n",
       "      <th>-Tebo-</th>\n",
       "      <td>0.060721</td>\n",
       "      <td>4dm4</td>\n",
       "    </tr>\n",
       "    <tr>\n",
       "      <th>...</th>\n",
       "      <td>...</td>\n",
       "      <td>...</td>\n",
       "    </tr>\n",
       "    <tr>\n",
       "      <th>Enthalpy</th>\n",
       "      <td>0.690473</td>\n",
       "      <td>soft6</td>\n",
       "    </tr>\n",
       "    <tr>\n",
       "      <th>Minisora</th>\n",
       "      <td>1.971434</td>\n",
       "      <td>soft6</td>\n",
       "    </tr>\n",
       "    <tr>\n",
       "      <th>MIkuaimbot</th>\n",
       "      <td>2.351488</td>\n",
       "      <td>soft6</td>\n",
       "    </tr>\n",
       "    <tr>\n",
       "      <th>DemiFiendSMT</th>\n",
       "      <td>5.285878</td>\n",
       "      <td>soft6</td>\n",
       "    </tr>\n",
       "    <tr>\n",
       "      <th>Stability</th>\n",
       "      <td>7.911546</td>\n",
       "      <td>soft6</td>\n",
       "    </tr>\n",
       "  </tbody>\n",
       "</table>\n",
       "<p>423 rows × 2 columns</p>\n",
       "</div>"
      ],
      "text/plain": [
       "                       0 source\n",
       "drag_          -1.991885   4dm4\n",
       "JPBenedictGame -1.800725   4dm4\n",
       "iVALORUS       -2.036732   4dm4\n",
       "BL5            -1.438920   4dm4\n",
       "-Tebo-          0.060721   4dm4\n",
       "...                  ...    ...\n",
       "Enthalpy        0.690473  soft6\n",
       "Minisora        1.971434  soft6\n",
       "MIkuaimbot      2.351488  soft6\n",
       "DemiFiendSMT    5.285878  soft6\n",
       "Stability       7.911546  soft6\n",
       "\n",
       "[423 rows x 2 columns]"
      ]
     },
     "execution_count": 21,
     "metadata": {},
     "output_type": "execute_result"
    }
   ],
   "source": [
    "etis_final"
   ]
  },
  {
   "cell_type": "code",
   "execution_count": 22,
   "metadata": {},
   "outputs": [],
   "source": [
    "model_prediction = predict(etis_final)"
   ]
  },
  {
   "cell_type": "code",
   "execution_count": 23,
   "metadata": {},
   "outputs": [],
   "source": [
    "etis_final['model_prediction'] = model_prediction[:, -1]"
   ]
  },
  {
   "cell_type": "code",
   "execution_count": 24,
   "metadata": {},
   "outputs": [],
   "source": [
    "etis_final = etis_final.sort_values(by='model_prediction', ascending=False)"
   ]
  },
  {
   "cell_type": "code",
   "execution_count": 25,
   "metadata": {},
   "outputs": [],
   "source": [
    "def determine_skillbans(model_pred):\n",
    "    if model_pred > 0.9:\n",
    "        return \"Strong\"\n",
    "    if model_pred > 0.75:\n",
    "        return \"Weak\"\n",
    "    return \"Pass\""
   ]
  },
  {
   "cell_type": "code",
   "execution_count": 26,
   "metadata": {},
   "outputs": [],
   "source": [
    "etis_final['skillban'] = etis_final['model_prediction'].apply(determine_skillbans)"
   ]
  },
  {
   "cell_type": "code",
   "execution_count": 27,
   "metadata": {},
   "outputs": [
    {
     "data": {
      "text/html": [
       "<div>\n",
       "<style scoped>\n",
       "    .dataframe tbody tr th:only-of-type {\n",
       "        vertical-align: middle;\n",
       "    }\n",
       "\n",
       "    .dataframe tbody tr th {\n",
       "        vertical-align: top;\n",
       "    }\n",
       "\n",
       "    .dataframe thead th {\n",
       "        text-align: right;\n",
       "    }\n",
       "</style>\n",
       "<table border=\"1\" class=\"dataframe\">\n",
       "  <thead>\n",
       "    <tr style=\"text-align: right;\">\n",
       "      <th></th>\n",
       "      <th>0</th>\n",
       "      <th>source</th>\n",
       "      <th>model_prediction</th>\n",
       "      <th>skillban</th>\n",
       "    </tr>\n",
       "  </thead>\n",
       "  <tbody>\n",
       "    <tr>\n",
       "      <th>shokoha</th>\n",
       "      <td>13.858188</td>\n",
       "      <td>4dm4</td>\n",
       "      <td>0.998726</td>\n",
       "      <td>Strong</td>\n",
       "    </tr>\n",
       "    <tr>\n",
       "      <th>[-Leon-]</th>\n",
       "      <td>11.040662</td>\n",
       "      <td>4dm3</td>\n",
       "      <td>0.994038</td>\n",
       "      <td>Strong</td>\n",
       "    </tr>\n",
       "    <tr>\n",
       "      <th>Stability</th>\n",
       "      <td>7.911546</td>\n",
       "      <td>soft6</td>\n",
       "      <td>0.967616</td>\n",
       "      <td>Strong</td>\n",
       "    </tr>\n",
       "    <tr>\n",
       "      <th>Gray Hardrock</th>\n",
       "      <td>7.679832</td>\n",
       "      <td>4dm4</td>\n",
       "      <td>0.963380</td>\n",
       "      <td>Strong</td>\n",
       "    </tr>\n",
       "    <tr>\n",
       "      <th>2fast4you98</th>\n",
       "      <td>7.321128</td>\n",
       "      <td>4dm3</td>\n",
       "      <td>0.955756</td>\n",
       "      <td>Strong</td>\n",
       "    </tr>\n",
       "    <tr>\n",
       "      <th>...</th>\n",
       "      <td>...</td>\n",
       "      <td>...</td>\n",
       "      <td>...</td>\n",
       "      <td>...</td>\n",
       "    </tr>\n",
       "    <tr>\n",
       "      <th>Yosuf</th>\n",
       "      <td>-2.222836</td>\n",
       "      <td>4dm4</td>\n",
       "      <td>0.102408</td>\n",
       "      <td>Pass</td>\n",
       "    </tr>\n",
       "    <tr>\n",
       "      <th>NotXbxx</th>\n",
       "      <td>-2.232947</td>\n",
       "      <td>4dm4</td>\n",
       "      <td>0.101899</td>\n",
       "      <td>Pass</td>\n",
       "    </tr>\n",
       "    <tr>\n",
       "      <th>JostinC</th>\n",
       "      <td>-2.255380</td>\n",
       "      <td>4dm4</td>\n",
       "      <td>0.100776</td>\n",
       "      <td>Pass</td>\n",
       "    </tr>\n",
       "    <tr>\n",
       "      <th>Kaito-kun</th>\n",
       "      <td>-2.292689</td>\n",
       "      <td>4dm4</td>\n",
       "      <td>0.098934</td>\n",
       "      <td>Pass</td>\n",
       "    </tr>\n",
       "    <tr>\n",
       "      <th>dsdsdd</th>\n",
       "      <td>-2.292689</td>\n",
       "      <td>4dm4</td>\n",
       "      <td>0.098934</td>\n",
       "      <td>Pass</td>\n",
       "    </tr>\n",
       "  </tbody>\n",
       "</table>\n",
       "<p>423 rows × 4 columns</p>\n",
       "</div>"
      ],
      "text/plain": [
       "                       0 source  model_prediction skillban\n",
       "shokoha        13.858188   4dm4          0.998726   Strong\n",
       "[-Leon-]       11.040662   4dm3          0.994038   Strong\n",
       "Stability       7.911546  soft6          0.967616   Strong\n",
       "Gray Hardrock   7.679832   4dm4          0.963380   Strong\n",
       "2fast4you98     7.321128   4dm3          0.955756   Strong\n",
       "...                  ...    ...               ...      ...\n",
       "Yosuf          -2.222836   4dm4          0.102408     Pass\n",
       "NotXbxx        -2.232947   4dm4          0.101899     Pass\n",
       "JostinC        -2.255380   4dm4          0.100776     Pass\n",
       "Kaito-kun      -2.292689   4dm4          0.098934     Pass\n",
       "dsdsdd         -2.292689   4dm4          0.098934     Pass\n",
       "\n",
       "[423 rows x 4 columns]"
      ]
     },
     "execution_count": 27,
     "metadata": {},
     "output_type": "execute_result"
    }
   ],
   "source": [
    "etis_final"
   ]
  },
  {
   "cell_type": "code",
   "execution_count": 28,
   "metadata": {},
   "outputs": [],
   "source": [
    "etis_final.to_csv('etis_final_4dm4_4dm3_soft6.csv')"
   ]
  },
  {
   "cell_type": "code",
   "execution_count": 29,
   "metadata": {},
   "outputs": [],
   "source": [
    "skillbanned_players = etis_final[etis_final['skillban'] != 'Pass'].index"
   ]
  },
  {
   "cell_type": "code",
   "execution_count": 30,
   "metadata": {},
   "outputs": [],
   "source": [
    "source_dataset = {\n",
    "    '4dm4': _4dm4_dataset,\n",
    "    '4dm3': _4dm3_dataset,\n",
    "    'soft6': soft6_dataset\n",
    "}"
   ]
  },
  {
   "cell_type": "code",
   "execution_count": 31,
   "metadata": {},
   "outputs": [],
   "source": [
    "from utils.highlights import get_highlighted_scores\n",
    "\n",
    "n_highlighted_scores = 5\n",
    "highlighted_scores = pd.DataFrame(columns=['player_name', 'source', 'beatmap', 'score'])"
   ]
  },
  {
   "cell_type": "code",
   "execution_count": 32,
   "metadata": {},
   "outputs": [],
   "source": [
    "for i, player in enumerate(skillbanned_players):\n",
    "    source = etis_final.iloc[i]['source']\n",
    "    source_ds = source_dataset[source]\n",
    "    highlighted_player_score = get_highlighted_scores(player, source_ds, n_highlighted_scores)\n",
    "    for beatmap in highlighted_player_score:\n",
    "        highlight_scr = source_ds[(source_ds['player_name'] == player) & (source_ds['beatmap'] == beatmap)][['player_name', 'beatmap', 'score']]\n",
    "        highlight_scr['source'] = source\n",
    "        highlighted_scores = pd.concat((highlighted_scores, highlight_scr))"
   ]
  },
  {
   "cell_type": "code",
   "execution_count": 34,
   "metadata": {},
   "outputs": [],
   "source": [
    "highlighted_scores.to_csv(\"highlight_generalized.csv\")"
   ]
  },
  {
   "cell_type": "code",
   "execution_count": null,
   "metadata": {},
   "outputs": [],
   "source": []
  }
 ],
 "metadata": {
  "kernelspec": {
   "display_name": "Python 3.10.4 64-bit",
   "language": "python",
   "name": "python3"
  },
  "language_info": {
   "codemirror_mode": {
    "name": "ipython",
    "version": 3
   },
   "file_extension": ".py",
   "mimetype": "text/x-python",
   "name": "python",
   "nbconvert_exporter": "python",
   "pygments_lexer": "ipython3",
   "version": "3.10.4"
  },
  "orig_nbformat": 4,
  "vscode": {
   "interpreter": {
    "hash": "a9cff5a362bc38ef45d817ae74b1af54d6a076e3d773891282bce078b815ba34"
   }
  }
 },
 "nbformat": 4,
 "nbformat_minor": 2
}
