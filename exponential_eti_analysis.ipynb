{
 "cells": [
  {
   "cell_type": "code",
   "execution_count": 1,
   "metadata": {},
   "outputs": [],
   "source": [
    "import pandas as pd\n",
    "import numpy as np\n",
    "from scipy.stats import gmean\n",
    "import matplotlib.pyplot as plt\n",
    "import sqlite3"
   ]
  },
  {
   "cell_type": "code",
   "execution_count": 2,
   "metadata": {},
   "outputs": [],
   "source": [
    "from utils.etimodel import ETIModel"
   ]
  },
  {
   "cell_type": "markdown",
   "metadata": {},
   "source": [
    "## Data Preparation"
   ]
  },
  {
   "cell_type": "code",
   "execution_count": 3,
   "metadata": {},
   "outputs": [],
   "source": [
    "_4dm4_connection = sqlite3.connect(\"dataset/4dm4.db\")\n",
    "\n",
    "_4dm4_scores_query = \"\"\"SELECT scores.player_name, player_data.player_id, scores.round, \n",
    "scores.beatmap_type, scores.beatmap_tag, scores.score, scores.score_logit \n",
    "FROM scores LEFT JOIN player_data ON scores.player_name = player_data.player_name \n",
    "WHERE beatmap_type != \\\"SV\\\"\"\"\"\n",
    "\n",
    "_4dm4_data = pd.read_sql(_4dm4_scores_query, _4dm4_connection)"
   ]
  },
  {
   "cell_type": "code",
   "execution_count": 4,
   "metadata": {},
   "outputs": [
    {
     "data": {
      "text/html": [
       "<div>\n",
       "<style scoped>\n",
       "    .dataframe tbody tr th:only-of-type {\n",
       "        vertical-align: middle;\n",
       "    }\n",
       "\n",
       "    .dataframe tbody tr th {\n",
       "        vertical-align: top;\n",
       "    }\n",
       "\n",
       "    .dataframe thead th {\n",
       "        text-align: right;\n",
       "    }\n",
       "</style>\n",
       "<table border=\"1\" class=\"dataframe\">\n",
       "  <thead>\n",
       "    <tr style=\"text-align: right;\">\n",
       "      <th></th>\n",
       "      <th>player_name</th>\n",
       "      <th>player_id</th>\n",
       "      <th>round</th>\n",
       "      <th>beatmap_type</th>\n",
       "      <th>beatmap_tag</th>\n",
       "      <th>score</th>\n",
       "      <th>score_logit</th>\n",
       "    </tr>\n",
       "  </thead>\n",
       "  <tbody>\n",
       "    <tr>\n",
       "      <th>0</th>\n",
       "      <td>drag_</td>\n",
       "      <td>17959501</td>\n",
       "      <td>Q</td>\n",
       "      <td>RC</td>\n",
       "      <td>1</td>\n",
       "      <td>980590</td>\n",
       "      <td>3.922366</td>\n",
       "    </tr>\n",
       "    <tr>\n",
       "      <th>1</th>\n",
       "      <td>JPBenedictGame</td>\n",
       "      <td>12304092</td>\n",
       "      <td>Q</td>\n",
       "      <td>RC</td>\n",
       "      <td>1</td>\n",
       "      <td>991778</td>\n",
       "      <td>4.792686</td>\n",
       "    </tr>\n",
       "    <tr>\n",
       "      <th>2</th>\n",
       "      <td>iVALORUS</td>\n",
       "      <td>12096188</td>\n",
       "      <td>Q</td>\n",
       "      <td>RC</td>\n",
       "      <td>1</td>\n",
       "      <td>950399</td>\n",
       "      <td>2.952871</td>\n",
       "    </tr>\n",
       "    <tr>\n",
       "      <th>3</th>\n",
       "      <td>BL5</td>\n",
       "      <td>13187997</td>\n",
       "      <td>Q</td>\n",
       "      <td>RC</td>\n",
       "      <td>1</td>\n",
       "      <td>994054</td>\n",
       "      <td>5.119073</td>\n",
       "    </tr>\n",
       "    <tr>\n",
       "      <th>4</th>\n",
       "      <td>-Tebo-</td>\n",
       "      <td>12092659</td>\n",
       "      <td>Q</td>\n",
       "      <td>RC</td>\n",
       "      <td>1</td>\n",
       "      <td>994631</td>\n",
       "      <td>5.221730</td>\n",
       "    </tr>\n",
       "    <tr>\n",
       "      <th>...</th>\n",
       "      <td>...</td>\n",
       "      <td>...</td>\n",
       "      <td>...</td>\n",
       "      <td>...</td>\n",
       "      <td>...</td>\n",
       "      <td>...</td>\n",
       "      <td>...</td>\n",
       "    </tr>\n",
       "    <tr>\n",
       "      <th>2760</th>\n",
       "      <td>MisteurFR</td>\n",
       "      <td>14055233</td>\n",
       "      <td>GF</td>\n",
       "      <td>TB</td>\n",
       "      <td>1</td>\n",
       "      <td>932066</td>\n",
       "      <td>2.618867</td>\n",
       "    </tr>\n",
       "    <tr>\n",
       "      <th>2761</th>\n",
       "      <td>Gray Hardrock</td>\n",
       "      <td>9049282</td>\n",
       "      <td>GF</td>\n",
       "      <td>TB</td>\n",
       "      <td>1</td>\n",
       "      <td>908730</td>\n",
       "      <td>2.298226</td>\n",
       "    </tr>\n",
       "    <tr>\n",
       "      <th>2762</th>\n",
       "      <td>--Pavin--</td>\n",
       "      <td>12046267</td>\n",
       "      <td>GF</td>\n",
       "      <td>TB</td>\n",
       "      <td>1</td>\n",
       "      <td>919303</td>\n",
       "      <td>2.432914</td>\n",
       "    </tr>\n",
       "    <tr>\n",
       "      <th>2763</th>\n",
       "      <td>shokoha</td>\n",
       "      <td>14134289</td>\n",
       "      <td>GF</td>\n",
       "      <td>TB</td>\n",
       "      <td>1</td>\n",
       "      <td>910134</td>\n",
       "      <td>2.315272</td>\n",
       "    </tr>\n",
       "    <tr>\n",
       "      <th>2764</th>\n",
       "      <td>iN0SleePz</td>\n",
       "      <td>7192826</td>\n",
       "      <td>GF</td>\n",
       "      <td>TB</td>\n",
       "      <td>1</td>\n",
       "      <td>932661</td>\n",
       "      <td>2.628302</td>\n",
       "    </tr>\n",
       "  </tbody>\n",
       "</table>\n",
       "<p>2765 rows × 7 columns</p>\n",
       "</div>"
      ],
      "text/plain": [
       "         player_name  player_id round beatmap_type  beatmap_tag   score  \\\n",
       "0              drag_   17959501     Q           RC            1  980590   \n",
       "1     JPBenedictGame   12304092     Q           RC            1  991778   \n",
       "2           iVALORUS   12096188     Q           RC            1  950399   \n",
       "3                BL5   13187997     Q           RC            1  994054   \n",
       "4             -Tebo-   12092659     Q           RC            1  994631   \n",
       "...              ...        ...   ...          ...          ...     ...   \n",
       "2760       MisteurFR   14055233    GF           TB            1  932066   \n",
       "2761   Gray Hardrock    9049282    GF           TB            1  908730   \n",
       "2762       --Pavin--   12046267    GF           TB            1  919303   \n",
       "2763         shokoha   14134289    GF           TB            1  910134   \n",
       "2764       iN0SleePz    7192826    GF           TB            1  932661   \n",
       "\n",
       "      score_logit  \n",
       "0        3.922366  \n",
       "1        4.792686  \n",
       "2        2.952871  \n",
       "3        5.119073  \n",
       "4        5.221730  \n",
       "...           ...  \n",
       "2760     2.618867  \n",
       "2761     2.298226  \n",
       "2762     2.432914  \n",
       "2763     2.315272  \n",
       "2764     2.628302  \n",
       "\n",
       "[2765 rows x 7 columns]"
      ]
     },
     "execution_count": 4,
     "metadata": {},
     "output_type": "execute_result"
    }
   ],
   "source": [
    "_4dm4_data"
   ]
  },
  {
   "cell_type": "code",
   "execution_count": 5,
   "metadata": {},
   "outputs": [],
   "source": [
    "from utils.tables import get_table_from_records"
   ]
  },
  {
   "cell_type": "code",
   "execution_count": 6,
   "metadata": {},
   "outputs": [],
   "source": [
    "_4dm4_data['beatmap'] = _4dm4_data['round'] + \"_\" + _4dm4_data['beatmap_type'] + \"_\" + _4dm4_data['beatmap_tag'].astype(str)\n",
    "\n",
    "_4dm4_table = get_table_from_records(_4dm4_data, 'player_name', 'beatmap', 'score_logit')"
   ]
  },
  {
   "cell_type": "code",
   "execution_count": 7,
   "metadata": {},
   "outputs": [
    {
     "data": {
      "text/html": [
       "<div>\n",
       "<style scoped>\n",
       "    .dataframe tbody tr th:only-of-type {\n",
       "        vertical-align: middle;\n",
       "    }\n",
       "\n",
       "    .dataframe tbody tr th {\n",
       "        vertical-align: top;\n",
       "    }\n",
       "\n",
       "    .dataframe thead th {\n",
       "        text-align: right;\n",
       "    }\n",
       "</style>\n",
       "<table border=\"1\" class=\"dataframe\">\n",
       "  <thead>\n",
       "    <tr style=\"text-align: right;\">\n",
       "      <th>beatmap</th>\n",
       "      <th>F_HB_1</th>\n",
       "      <th>F_HB_2</th>\n",
       "      <th>F_HB_3</th>\n",
       "      <th>F_LN_1</th>\n",
       "      <th>F_LN_2</th>\n",
       "      <th>F_LN_3</th>\n",
       "      <th>F_RC_1</th>\n",
       "      <th>F_RC_2</th>\n",
       "      <th>F_RC_3</th>\n",
       "      <th>F_RC_4</th>\n",
       "      <th>...</th>\n",
       "      <th>SF_LN_1</th>\n",
       "      <th>SF_LN_2</th>\n",
       "      <th>SF_LN_3</th>\n",
       "      <th>SF_RC_1</th>\n",
       "      <th>SF_RC_2</th>\n",
       "      <th>SF_RC_3</th>\n",
       "      <th>SF_RC_4</th>\n",
       "      <th>SF_RC_5</th>\n",
       "      <th>SF_RC_6</th>\n",
       "      <th>SF_TB_1</th>\n",
       "    </tr>\n",
       "    <tr>\n",
       "      <th>player_name</th>\n",
       "      <th></th>\n",
       "      <th></th>\n",
       "      <th></th>\n",
       "      <th></th>\n",
       "      <th></th>\n",
       "      <th></th>\n",
       "      <th></th>\n",
       "      <th></th>\n",
       "      <th></th>\n",
       "      <th></th>\n",
       "      <th></th>\n",
       "      <th></th>\n",
       "      <th></th>\n",
       "      <th></th>\n",
       "      <th></th>\n",
       "      <th></th>\n",
       "      <th></th>\n",
       "      <th></th>\n",
       "      <th></th>\n",
       "      <th></th>\n",
       "      <th></th>\n",
       "    </tr>\n",
       "  </thead>\n",
       "  <tbody>\n",
       "    <tr>\n",
       "      <th>--Pavin--</th>\n",
       "      <td>3.403862</td>\n",
       "      <td>4.130791</td>\n",
       "      <td>4.297121</td>\n",
       "      <td>NaN</td>\n",
       "      <td>NaN</td>\n",
       "      <td>3.972358</td>\n",
       "      <td>NaN</td>\n",
       "      <td>4.405308</td>\n",
       "      <td>4.181753</td>\n",
       "      <td>NaN</td>\n",
       "      <td>...</td>\n",
       "      <td>NaN</td>\n",
       "      <td>NaN</td>\n",
       "      <td>NaN</td>\n",
       "      <td>4.640350</td>\n",
       "      <td>NaN</td>\n",
       "      <td>NaN</td>\n",
       "      <td>4.738713</td>\n",
       "      <td>3.727061</td>\n",
       "      <td>3.925312</td>\n",
       "      <td>NaN</td>\n",
       "    </tr>\n",
       "    <tr>\n",
       "      <th>-Guille</th>\n",
       "      <td>NaN</td>\n",
       "      <td>NaN</td>\n",
       "      <td>NaN</td>\n",
       "      <td>NaN</td>\n",
       "      <td>NaN</td>\n",
       "      <td>NaN</td>\n",
       "      <td>NaN</td>\n",
       "      <td>NaN</td>\n",
       "      <td>NaN</td>\n",
       "      <td>NaN</td>\n",
       "      <td>...</td>\n",
       "      <td>NaN</td>\n",
       "      <td>NaN</td>\n",
       "      <td>NaN</td>\n",
       "      <td>NaN</td>\n",
       "      <td>NaN</td>\n",
       "      <td>NaN</td>\n",
       "      <td>NaN</td>\n",
       "      <td>NaN</td>\n",
       "      <td>NaN</td>\n",
       "      <td>NaN</td>\n",
       "    </tr>\n",
       "    <tr>\n",
       "      <th>-Julio</th>\n",
       "      <td>NaN</td>\n",
       "      <td>NaN</td>\n",
       "      <td>NaN</td>\n",
       "      <td>NaN</td>\n",
       "      <td>NaN</td>\n",
       "      <td>NaN</td>\n",
       "      <td>NaN</td>\n",
       "      <td>NaN</td>\n",
       "      <td>NaN</td>\n",
       "      <td>NaN</td>\n",
       "      <td>...</td>\n",
       "      <td>NaN</td>\n",
       "      <td>NaN</td>\n",
       "      <td>NaN</td>\n",
       "      <td>NaN</td>\n",
       "      <td>NaN</td>\n",
       "      <td>NaN</td>\n",
       "      <td>NaN</td>\n",
       "      <td>NaN</td>\n",
       "      <td>NaN</td>\n",
       "      <td>NaN</td>\n",
       "    </tr>\n",
       "    <tr>\n",
       "      <th>-Pauze-</th>\n",
       "      <td>NaN</td>\n",
       "      <td>NaN</td>\n",
       "      <td>NaN</td>\n",
       "      <td>NaN</td>\n",
       "      <td>NaN</td>\n",
       "      <td>NaN</td>\n",
       "      <td>NaN</td>\n",
       "      <td>NaN</td>\n",
       "      <td>NaN</td>\n",
       "      <td>NaN</td>\n",
       "      <td>...</td>\n",
       "      <td>NaN</td>\n",
       "      <td>NaN</td>\n",
       "      <td>NaN</td>\n",
       "      <td>NaN</td>\n",
       "      <td>NaN</td>\n",
       "      <td>NaN</td>\n",
       "      <td>NaN</td>\n",
       "      <td>NaN</td>\n",
       "      <td>NaN</td>\n",
       "      <td>NaN</td>\n",
       "    </tr>\n",
       "    <tr>\n",
       "      <th>-SparklingCat-</th>\n",
       "      <td>NaN</td>\n",
       "      <td>NaN</td>\n",
       "      <td>NaN</td>\n",
       "      <td>NaN</td>\n",
       "      <td>NaN</td>\n",
       "      <td>NaN</td>\n",
       "      <td>NaN</td>\n",
       "      <td>NaN</td>\n",
       "      <td>NaN</td>\n",
       "      <td>NaN</td>\n",
       "      <td>...</td>\n",
       "      <td>NaN</td>\n",
       "      <td>NaN</td>\n",
       "      <td>NaN</td>\n",
       "      <td>NaN</td>\n",
       "      <td>NaN</td>\n",
       "      <td>NaN</td>\n",
       "      <td>NaN</td>\n",
       "      <td>NaN</td>\n",
       "      <td>NaN</td>\n",
       "      <td>NaN</td>\n",
       "    </tr>\n",
       "    <tr>\n",
       "      <th>...</th>\n",
       "      <td>...</td>\n",
       "      <td>...</td>\n",
       "      <td>...</td>\n",
       "      <td>...</td>\n",
       "      <td>...</td>\n",
       "      <td>...</td>\n",
       "      <td>...</td>\n",
       "      <td>...</td>\n",
       "      <td>...</td>\n",
       "      <td>...</td>\n",
       "      <td>...</td>\n",
       "      <td>...</td>\n",
       "      <td>...</td>\n",
       "      <td>...</td>\n",
       "      <td>...</td>\n",
       "      <td>...</td>\n",
       "      <td>...</td>\n",
       "      <td>...</td>\n",
       "      <td>...</td>\n",
       "      <td>...</td>\n",
       "      <td>...</td>\n",
       "    </tr>\n",
       "    <tr>\n",
       "      <th>terror67890</th>\n",
       "      <td>NaN</td>\n",
       "      <td>NaN</td>\n",
       "      <td>NaN</td>\n",
       "      <td>3.500324</td>\n",
       "      <td>3.159003</td>\n",
       "      <td>2.650601</td>\n",
       "      <td>NaN</td>\n",
       "      <td>NaN</td>\n",
       "      <td>NaN</td>\n",
       "      <td>NaN</td>\n",
       "      <td>...</td>\n",
       "      <td>NaN</td>\n",
       "      <td>3.215677</td>\n",
       "      <td>NaN</td>\n",
       "      <td>NaN</td>\n",
       "      <td>NaN</td>\n",
       "      <td>NaN</td>\n",
       "      <td>NaN</td>\n",
       "      <td>NaN</td>\n",
       "      <td>NaN</td>\n",
       "      <td>NaN</td>\n",
       "    </tr>\n",
       "    <tr>\n",
       "      <th>twitch chat</th>\n",
       "      <td>NaN</td>\n",
       "      <td>NaN</td>\n",
       "      <td>NaN</td>\n",
       "      <td>NaN</td>\n",
       "      <td>NaN</td>\n",
       "      <td>NaN</td>\n",
       "      <td>3.277534</td>\n",
       "      <td>NaN</td>\n",
       "      <td>NaN</td>\n",
       "      <td>NaN</td>\n",
       "      <td>...</td>\n",
       "      <td>NaN</td>\n",
       "      <td>NaN</td>\n",
       "      <td>NaN</td>\n",
       "      <td>3.417435</td>\n",
       "      <td>NaN</td>\n",
       "      <td>NaN</td>\n",
       "      <td>3.774716</td>\n",
       "      <td>NaN</td>\n",
       "      <td>NaN</td>\n",
       "      <td>NaN</td>\n",
       "    </tr>\n",
       "    <tr>\n",
       "      <th>u8_sunflower</th>\n",
       "      <td>NaN</td>\n",
       "      <td>NaN</td>\n",
       "      <td>NaN</td>\n",
       "      <td>NaN</td>\n",
       "      <td>NaN</td>\n",
       "      <td>NaN</td>\n",
       "      <td>NaN</td>\n",
       "      <td>NaN</td>\n",
       "      <td>NaN</td>\n",
       "      <td>NaN</td>\n",
       "      <td>...</td>\n",
       "      <td>NaN</td>\n",
       "      <td>NaN</td>\n",
       "      <td>NaN</td>\n",
       "      <td>NaN</td>\n",
       "      <td>NaN</td>\n",
       "      <td>NaN</td>\n",
       "      <td>NaN</td>\n",
       "      <td>NaN</td>\n",
       "      <td>NaN</td>\n",
       "      <td>NaN</td>\n",
       "    </tr>\n",
       "    <tr>\n",
       "      <th>username1947</th>\n",
       "      <td>NaN</td>\n",
       "      <td>NaN</td>\n",
       "      <td>NaN</td>\n",
       "      <td>NaN</td>\n",
       "      <td>NaN</td>\n",
       "      <td>NaN</td>\n",
       "      <td>NaN</td>\n",
       "      <td>NaN</td>\n",
       "      <td>NaN</td>\n",
       "      <td>NaN</td>\n",
       "      <td>...</td>\n",
       "      <td>NaN</td>\n",
       "      <td>NaN</td>\n",
       "      <td>NaN</td>\n",
       "      <td>NaN</td>\n",
       "      <td>NaN</td>\n",
       "      <td>NaN</td>\n",
       "      <td>NaN</td>\n",
       "      <td>NaN</td>\n",
       "      <td>NaN</td>\n",
       "      <td>NaN</td>\n",
       "    </tr>\n",
       "    <tr>\n",
       "      <th>wolfpup08</th>\n",
       "      <td>NaN</td>\n",
       "      <td>NaN</td>\n",
       "      <td>NaN</td>\n",
       "      <td>NaN</td>\n",
       "      <td>NaN</td>\n",
       "      <td>NaN</td>\n",
       "      <td>NaN</td>\n",
       "      <td>NaN</td>\n",
       "      <td>NaN</td>\n",
       "      <td>NaN</td>\n",
       "      <td>...</td>\n",
       "      <td>NaN</td>\n",
       "      <td>NaN</td>\n",
       "      <td>NaN</td>\n",
       "      <td>NaN</td>\n",
       "      <td>NaN</td>\n",
       "      <td>NaN</td>\n",
       "      <td>NaN</td>\n",
       "      <td>NaN</td>\n",
       "      <td>NaN</td>\n",
       "      <td>NaN</td>\n",
       "    </tr>\n",
       "  </tbody>\n",
       "</table>\n",
       "<p>200 rows × 78 columns</p>\n",
       "</div>"
      ],
      "text/plain": [
       "beatmap           F_HB_1    F_HB_2    F_HB_3    F_LN_1    F_LN_2    F_LN_3  \\\n",
       "player_name                                                                  \n",
       "--Pavin--       3.403862  4.130791  4.297121       NaN       NaN  3.972358   \n",
       "-Guille              NaN       NaN       NaN       NaN       NaN       NaN   \n",
       "-Julio               NaN       NaN       NaN       NaN       NaN       NaN   \n",
       "-Pauze-              NaN       NaN       NaN       NaN       NaN       NaN   \n",
       "-SparklingCat-       NaN       NaN       NaN       NaN       NaN       NaN   \n",
       "...                  ...       ...       ...       ...       ...       ...   \n",
       "terror67890          NaN       NaN       NaN  3.500324  3.159003  2.650601   \n",
       "twitch chat          NaN       NaN       NaN       NaN       NaN       NaN   \n",
       "u8_sunflower         NaN       NaN       NaN       NaN       NaN       NaN   \n",
       "username1947         NaN       NaN       NaN       NaN       NaN       NaN   \n",
       "wolfpup08            NaN       NaN       NaN       NaN       NaN       NaN   \n",
       "\n",
       "beatmap           F_RC_1    F_RC_2    F_RC_3  F_RC_4  ...  SF_LN_1   SF_LN_2  \\\n",
       "player_name                                           ...                      \n",
       "--Pavin--            NaN  4.405308  4.181753     NaN  ...      NaN       NaN   \n",
       "-Guille              NaN       NaN       NaN     NaN  ...      NaN       NaN   \n",
       "-Julio               NaN       NaN       NaN     NaN  ...      NaN       NaN   \n",
       "-Pauze-              NaN       NaN       NaN     NaN  ...      NaN       NaN   \n",
       "-SparklingCat-       NaN       NaN       NaN     NaN  ...      NaN       NaN   \n",
       "...                  ...       ...       ...     ...  ...      ...       ...   \n",
       "terror67890          NaN       NaN       NaN     NaN  ...      NaN  3.215677   \n",
       "twitch chat     3.277534       NaN       NaN     NaN  ...      NaN       NaN   \n",
       "u8_sunflower         NaN       NaN       NaN     NaN  ...      NaN       NaN   \n",
       "username1947         NaN       NaN       NaN     NaN  ...      NaN       NaN   \n",
       "wolfpup08            NaN       NaN       NaN     NaN  ...      NaN       NaN   \n",
       "\n",
       "beatmap         SF_LN_3   SF_RC_1  SF_RC_2  SF_RC_3   SF_RC_4   SF_RC_5  \\\n",
       "player_name                                                               \n",
       "--Pavin--           NaN  4.640350      NaN      NaN  4.738713  3.727061   \n",
       "-Guille             NaN       NaN      NaN      NaN       NaN       NaN   \n",
       "-Julio              NaN       NaN      NaN      NaN       NaN       NaN   \n",
       "-Pauze-             NaN       NaN      NaN      NaN       NaN       NaN   \n",
       "-SparklingCat-      NaN       NaN      NaN      NaN       NaN       NaN   \n",
       "...                 ...       ...      ...      ...       ...       ...   \n",
       "terror67890         NaN       NaN      NaN      NaN       NaN       NaN   \n",
       "twitch chat         NaN  3.417435      NaN      NaN  3.774716       NaN   \n",
       "u8_sunflower        NaN       NaN      NaN      NaN       NaN       NaN   \n",
       "username1947        NaN       NaN      NaN      NaN       NaN       NaN   \n",
       "wolfpup08           NaN       NaN      NaN      NaN       NaN       NaN   \n",
       "\n",
       "beatmap          SF_RC_6  SF_TB_1  \n",
       "player_name                        \n",
       "--Pavin--       3.925312      NaN  \n",
       "-Guille              NaN      NaN  \n",
       "-Julio               NaN      NaN  \n",
       "-Pauze-              NaN      NaN  \n",
       "-SparklingCat-       NaN      NaN  \n",
       "...                  ...      ...  \n",
       "terror67890          NaN      NaN  \n",
       "twitch chat          NaN      NaN  \n",
       "u8_sunflower         NaN      NaN  \n",
       "username1947         NaN      NaN  \n",
       "wolfpup08            NaN      NaN  \n",
       "\n",
       "[200 rows x 78 columns]"
      ]
     },
     "execution_count": 7,
     "metadata": {},
     "output_type": "execute_result"
    }
   ],
   "source": [
    "_4dm4_table"
   ]
  },
  {
   "cell_type": "code",
   "execution_count": 8,
   "metadata": {},
   "outputs": [],
   "source": [
    "def get_beatmap_category_table(records: pd.DataFrame, category: str):\n",
    "    return get_table_from_records(records[records['beatmap_type'] == category], 'player_name', 'beatmap', 'score_logit')"
   ]
  },
  {
   "cell_type": "code",
   "execution_count": 9,
   "metadata": {},
   "outputs": [],
   "source": [
    "rc = get_beatmap_category_table(_4dm4_data, \"RC\")\n",
    "hb = get_beatmap_category_table(_4dm4_data, \"HB\")\n",
    "ln = get_beatmap_category_table(_4dm4_data, \"LN\")"
   ]
  },
  {
   "cell_type": "code",
   "execution_count": 10,
   "metadata": {},
   "outputs": [],
   "source": [
    "model = ETIModel()\n",
    "\n",
    "rc_eti = pd.DataFrame(model.fit(rc.values), index=rc.index)\n",
    "hb_eti = pd.DataFrame(model.fit(hb.values), index=hb.index)\n",
    "ln_eti = pd.DataFrame(model.fit(ln.values), index=ln.index)"
   ]
  },
  {
   "cell_type": "code",
   "execution_count": 11,
   "metadata": {},
   "outputs": [],
   "source": [
    "# cats are cute thank you\n",
    "\n",
    "eti_cats = pd.DataFrame(index=_4dm4_table.index)\n",
    "eti_cats['rc'] = rc_eti\n",
    "eti_cats['hb'] = hb_eti\n",
    "eti_cats['ln'] = ln_eti"
   ]
  },
  {
   "cell_type": "code",
   "execution_count": 12,
   "metadata": {},
   "outputs": [],
   "source": [
    "eti_cats['rc'] = eti_cats['rc'].fillna(eti_cats['rc'].min())\n",
    "eti_cats['hb'] = eti_cats['hb'].fillna(eti_cats['hb'].min())\n",
    "eti_cats['ln'] = eti_cats['ln'].fillna(eti_cats['ln'].min())"
   ]
  },
  {
   "cell_type": "code",
   "execution_count": 13,
   "metadata": {},
   "outputs": [],
   "source": [
    "eti_cats['avg'] = eti_cats[['rc', 'hb', 'ln']].mean(axis=1)"
   ]
  },
  {
   "cell_type": "code",
   "execution_count": 14,
   "metadata": {},
   "outputs": [
    {
     "data": {
      "text/html": [
       "<div>\n",
       "<style scoped>\n",
       "    .dataframe tbody tr th:only-of-type {\n",
       "        vertical-align: middle;\n",
       "    }\n",
       "\n",
       "    .dataframe tbody tr th {\n",
       "        vertical-align: top;\n",
       "    }\n",
       "\n",
       "    .dataframe thead th {\n",
       "        text-align: right;\n",
       "    }\n",
       "</style>\n",
       "<table border=\"1\" class=\"dataframe\">\n",
       "  <thead>\n",
       "    <tr style=\"text-align: right;\">\n",
       "      <th></th>\n",
       "      <th>rc</th>\n",
       "      <th>hb</th>\n",
       "      <th>ln</th>\n",
       "      <th>avg</th>\n",
       "    </tr>\n",
       "    <tr>\n",
       "      <th>player_name</th>\n",
       "      <th></th>\n",
       "      <th></th>\n",
       "      <th></th>\n",
       "      <th></th>\n",
       "    </tr>\n",
       "  </thead>\n",
       "  <tbody>\n",
       "    <tr>\n",
       "      <th>shokoha</th>\n",
       "      <td>13.800475</td>\n",
       "      <td>16.002318</td>\n",
       "      <td>11.771773</td>\n",
       "      <td>13.858188</td>\n",
       "    </tr>\n",
       "    <tr>\n",
       "      <th>Gray Hardrock</th>\n",
       "      <td>9.813089</td>\n",
       "      <td>7.393662</td>\n",
       "      <td>5.832745</td>\n",
       "      <td>7.679832</td>\n",
       "    </tr>\n",
       "    <tr>\n",
       "      <th>henryalexbr</th>\n",
       "      <td>10.742226</td>\n",
       "      <td>6.027675</td>\n",
       "      <td>3.608870</td>\n",
       "      <td>6.792923</td>\n",
       "    </tr>\n",
       "    <tr>\n",
       "      <th>Keskidi</th>\n",
       "      <td>7.761650</td>\n",
       "      <td>6.341447</td>\n",
       "      <td>5.417697</td>\n",
       "      <td>6.506931</td>\n",
       "    </tr>\n",
       "    <tr>\n",
       "      <th>MisteurFR</th>\n",
       "      <td>12.868501</td>\n",
       "      <td>6.537193</td>\n",
       "      <td>0.077601</td>\n",
       "      <td>6.494432</td>\n",
       "    </tr>\n",
       "    <tr>\n",
       "      <th>--Pavin--</th>\n",
       "      <td>10.552292</td>\n",
       "      <td>5.994294</td>\n",
       "      <td>2.561290</td>\n",
       "      <td>6.369292</td>\n",
       "    </tr>\n",
       "    <tr>\n",
       "      <th>[LS]Byte</th>\n",
       "      <td>6.109905</td>\n",
       "      <td>4.784302</td>\n",
       "      <td>5.775860</td>\n",
       "      <td>5.556689</td>\n",
       "    </tr>\n",
       "    <tr>\n",
       "      <th>Lazereed</th>\n",
       "      <td>3.525644</td>\n",
       "      <td>5.745385</td>\n",
       "      <td>7.231756</td>\n",
       "      <td>5.500929</td>\n",
       "    </tr>\n",
       "    <tr>\n",
       "      <th>RaGe Radical</th>\n",
       "      <td>5.406968</td>\n",
       "      <td>3.998066</td>\n",
       "      <td>5.864148</td>\n",
       "      <td>5.089728</td>\n",
       "    </tr>\n",
       "    <tr>\n",
       "      <th>Kamikho</th>\n",
       "      <td>5.488530</td>\n",
       "      <td>5.369451</td>\n",
       "      <td>3.524837</td>\n",
       "      <td>4.794273</td>\n",
       "    </tr>\n",
       "    <tr>\n",
       "      <th>Micleak</th>\n",
       "      <td>6.017601</td>\n",
       "      <td>3.397322</td>\n",
       "      <td>3.430886</td>\n",
       "      <td>4.281936</td>\n",
       "    </tr>\n",
       "    <tr>\n",
       "      <th>iN0SleePz</th>\n",
       "      <td>-0.204657</td>\n",
       "      <td>5.907400</td>\n",
       "      <td>6.997326</td>\n",
       "      <td>4.233357</td>\n",
       "    </tr>\n",
       "    <tr>\n",
       "      <th>Maykee kee</th>\n",
       "      <td>3.131573</td>\n",
       "      <td>4.145530</td>\n",
       "      <td>3.367944</td>\n",
       "      <td>3.548349</td>\n",
       "    </tr>\n",
       "    <tr>\n",
       "      <th>Ricizus</th>\n",
       "      <td>5.540137</td>\n",
       "      <td>2.181202</td>\n",
       "      <td>2.364999</td>\n",
       "      <td>3.362112</td>\n",
       "    </tr>\n",
       "    <tr>\n",
       "      <th>Akatsumi Chan</th>\n",
       "      <td>-0.678220</td>\n",
       "      <td>2.830825</td>\n",
       "      <td>7.047008</td>\n",
       "      <td>3.066538</td>\n",
       "    </tr>\n",
       "  </tbody>\n",
       "</table>\n",
       "</div>"
      ],
      "text/plain": [
       "                      rc         hb         ln        avg\n",
       "player_name                                              \n",
       "shokoha        13.800475  16.002318  11.771773  13.858188\n",
       "Gray Hardrock   9.813089   7.393662   5.832745   7.679832\n",
       "henryalexbr    10.742226   6.027675   3.608870   6.792923\n",
       "Keskidi         7.761650   6.341447   5.417697   6.506931\n",
       "MisteurFR      12.868501   6.537193   0.077601   6.494432\n",
       "--Pavin--      10.552292   5.994294   2.561290   6.369292\n",
       "[LS]Byte        6.109905   4.784302   5.775860   5.556689\n",
       "Lazereed        3.525644   5.745385   7.231756   5.500929\n",
       "RaGe Radical    5.406968   3.998066   5.864148   5.089728\n",
       "Kamikho         5.488530   5.369451   3.524837   4.794273\n",
       "Micleak         6.017601   3.397322   3.430886   4.281936\n",
       "iN0SleePz      -0.204657   5.907400   6.997326   4.233357\n",
       "Maykee kee      3.131573   4.145530   3.367944   3.548349\n",
       "Ricizus         5.540137   2.181202   2.364999   3.362112\n",
       "Akatsumi Chan  -0.678220   2.830825   7.047008   3.066538"
      ]
     },
     "execution_count": 14,
     "metadata": {},
     "output_type": "execute_result"
    }
   ],
   "source": [
    "eti_cats.sort_values('avg', ascending=False).head(15)"
   ]
  },
  {
   "cell_type": "code",
   "execution_count": 15,
   "metadata": {},
   "outputs": [
    {
     "data": {
      "text/html": [
       "<div>\n",
       "<style scoped>\n",
       "    .dataframe tbody tr th:only-of-type {\n",
       "        vertical-align: middle;\n",
       "    }\n",
       "\n",
       "    .dataframe tbody tr th {\n",
       "        vertical-align: top;\n",
       "    }\n",
       "\n",
       "    .dataframe thead th {\n",
       "        text-align: right;\n",
       "    }\n",
       "</style>\n",
       "<table border=\"1\" class=\"dataframe\">\n",
       "  <thead>\n",
       "    <tr style=\"text-align: right;\">\n",
       "      <th></th>\n",
       "      <th>rc</th>\n",
       "      <th>hb</th>\n",
       "      <th>ln</th>\n",
       "      <th>avg</th>\n",
       "    </tr>\n",
       "  </thead>\n",
       "  <tbody>\n",
       "    <tr>\n",
       "      <th>count</th>\n",
       "      <td>200.000000</td>\n",
       "      <td>200.000000</td>\n",
       "      <td>200.000000</td>\n",
       "      <td>200.000000</td>\n",
       "    </tr>\n",
       "    <tr>\n",
       "      <th>mean</th>\n",
       "      <td>-0.186545</td>\n",
       "      <td>-0.317289</td>\n",
       "      <td>-0.538190</td>\n",
       "      <td>-0.347341</td>\n",
       "    </tr>\n",
       "    <tr>\n",
       "      <th>std</th>\n",
       "      <td>2.884474</td>\n",
       "      <td>2.281047</td>\n",
       "      <td>2.299378</td>\n",
       "      <td>2.239531</td>\n",
       "    </tr>\n",
       "    <tr>\n",
       "      <th>min</th>\n",
       "      <td>-2.664934</td>\n",
       "      <td>-1.922962</td>\n",
       "      <td>-2.290171</td>\n",
       "      <td>-2.292689</td>\n",
       "    </tr>\n",
       "    <tr>\n",
       "      <th>25%</th>\n",
       "      <td>-2.136033</td>\n",
       "      <td>-1.630638</td>\n",
       "      <td>-2.290171</td>\n",
       "      <td>-1.862312</td>\n",
       "    </tr>\n",
       "    <tr>\n",
       "      <th>50%</th>\n",
       "      <td>-1.151135</td>\n",
       "      <td>-1.151389</td>\n",
       "      <td>-1.534880</td>\n",
       "      <td>-1.101743</td>\n",
       "    </tr>\n",
       "    <tr>\n",
       "      <th>75%</th>\n",
       "      <td>0.741682</td>\n",
       "      <td>0.011877</td>\n",
       "      <td>0.323441</td>\n",
       "      <td>0.368657</td>\n",
       "    </tr>\n",
       "    <tr>\n",
       "      <th>max</th>\n",
       "      <td>13.800475</td>\n",
       "      <td>16.002318</td>\n",
       "      <td>11.771773</td>\n",
       "      <td>13.858188</td>\n",
       "    </tr>\n",
       "  </tbody>\n",
       "</table>\n",
       "</div>"
      ],
      "text/plain": [
       "               rc          hb          ln         avg\n",
       "count  200.000000  200.000000  200.000000  200.000000\n",
       "mean    -0.186545   -0.317289   -0.538190   -0.347341\n",
       "std      2.884474    2.281047    2.299378    2.239531\n",
       "min     -2.664934   -1.922962   -2.290171   -2.292689\n",
       "25%     -2.136033   -1.630638   -2.290171   -1.862312\n",
       "50%     -1.151135   -1.151389   -1.534880   -1.101743\n",
       "75%      0.741682    0.011877    0.323441    0.368657\n",
       "max     13.800475   16.002318   11.771773   13.858188"
      ]
     },
     "execution_count": 15,
     "metadata": {},
     "output_type": "execute_result"
    }
   ],
   "source": [
    "eti_cats.describe()"
   ]
  },
  {
   "cell_type": "code",
   "execution_count": 16,
   "metadata": {},
   "outputs": [
    {
     "data": {
      "text/plain": [
       "array([[1.        , 0.78591662, 0.55408699],\n",
       "       [0.78591662, 1.        , 0.82335173],\n",
       "       [0.55408699, 0.82335173, 1.        ]])"
      ]
     },
     "execution_count": 16,
     "metadata": {},
     "output_type": "execute_result"
    }
   ],
   "source": [
    "np.corrcoef(eti_cats[['rc', 'hb', 'ln']].T)"
   ]
  },
  {
   "cell_type": "code",
   "execution_count": 17,
   "metadata": {},
   "outputs": [
    {
     "data": {
      "text/plain": [
       "<matplotlib.collections.PathCollection at 0x184e21a3550>"
      ]
     },
     "execution_count": 17,
     "metadata": {},
     "output_type": "execute_result"
    },
    {
     "data": {
      "image/png": "[encoded data removed]",
      "text/plain": [
       "<Figure size 432x288 with 1 Axes>"
      ]
     },
     "metadata": {
      "needs_background": "light"
     },
     "output_type": "display_data"
    }
   ],
   "source": [
    "plt.scatter(eti_cats['rc'], eti_cats['hb'])"
   ]
  },
  {
   "cell_type": "code",
   "execution_count": 18,
   "metadata": {},
   "outputs": [
    {
     "data": {
      "text/plain": [
       "<matplotlib.collections.PathCollection at 0x184e42e6380>"
      ]
     },
     "execution_count": 18,
     "metadata": {},
     "output_type": "execute_result"
    },
    {
     "data": {
      "image/png": "[encoded data removed]",
      "text/plain": [
       "<Figure size 432x288 with 1 Axes>"
      ]
     },
     "metadata": {
      "needs_background": "light"
     },
     "output_type": "display_data"
    }
   ],
   "source": [
    "plt.scatter(eti_cats['ln'], eti_cats['hb'])"
   ]
  },
  {
   "cell_type": "code",
   "execution_count": 19,
   "metadata": {},
   "outputs": [
    {
     "data": {
      "text/plain": [
       "<matplotlib.collections.PathCollection at 0x184e4352ec0>"
      ]
     },
     "execution_count": 19,
     "metadata": {},
     "output_type": "execute_result"
    },
    {
     "data": {
      "image/png": "[encoded data removed]",
      "text/plain": [
       "<Figure size 432x288 with 1 Axes>"
      ]
     },
     "metadata": {
      "needs_background": "light"
     },
     "output_type": "display_data"
    }
   ],
   "source": [
    "plt.scatter(eti_cats['rc'], eti_cats['ln'])"
   ]
  },
  {
   "cell_type": "code",
   "execution_count": 20,
   "metadata": {},
   "outputs": [],
   "source": [
    "def regression_function(x, y):\n",
    "    xbar = np.mean(x)\n",
    "    ybar = np.mean(y)\n",
    "    b1 = np.sum((x - xbar) * (y - ybar)) / np.sum((x - xbar) ** 2)\n",
    "    b0 = ybar - b1 * xbar\n",
    "    print(b1, b0)\n",
    "    return lambda x: b1 * x + b0"
   ]
  },
  {
   "cell_type": "code",
   "execution_count": 21,
   "metadata": {},
   "outputs": [
    {
     "name": "stdout",
     "output_type": "stream",
     "text": [
      "0.6215041761987381 -0.20135003307100346\n",
      "0.8167878626203217 0.12229851127576075\n"
     ]
    }
   ],
   "source": [
    "rc_hb = regression_function(eti_cats['rc'].values, eti_cats['hb'].values)\n",
    "ln_hb = regression_function(eti_cats['ln'].values, eti_cats['hb'].values)"
   ]
  },
  {
   "cell_type": "code",
   "execution_count": 22,
   "metadata": {},
   "outputs": [],
   "source": [
    "x_rc, y_rc = (-2.5, 15), (rc_hb(-2.5), rc_hb(15))\n",
    "x_ln, y_ln = (-2.5, 12.5), (ln_hb(-2.5), ln_hb(12.5))"
   ]
  },
  {
   "cell_type": "code",
   "execution_count": 23,
   "metadata": {},
   "outputs": [
    {
     "data": {
      "image/png": "[encoded data removed]",
      "text/plain": [
       "<Figure size 432x288 with 1 Axes>"
      ]
     },
     "metadata": {
      "needs_background": "light"
     },
     "output_type": "display_data"
    }
   ],
   "source": [
    "plt.scatter(eti_cats['rc'], eti_cats['hb'])\n",
    "plt.plot(x_rc, y_rc, c='orange')\n",
    "plt.show()"
   ]
  },
  {
   "cell_type": "code",
   "execution_count": 24,
   "metadata": {},
   "outputs": [
    {
     "data": {
      "image/png": "[encoded data removed]",
      "text/plain": [
       "<Figure size 432x288 with 1 Axes>"
      ]
     },
     "metadata": {
      "needs_background": "light"
     },
     "output_type": "display_data"
    }
   ],
   "source": [
    "plt.scatter(eti_cats['ln'], eti_cats['hb'])\n",
    "plt.plot(x_ln, y_ln, c='orange')\n",
    "plt.show()"
   ]
  },
  {
   "cell_type": "code",
   "execution_count": 35,
   "metadata": {},
   "outputs": [
    {
     "name": "stdout",
     "output_type": "stream",
     "text": [
      "0.4416941561420335 -0.4557942658235187\n"
     ]
    },
    {
     "data": {
      "image/png": "[encoded data removed]",
      "text/plain": [
       "<Figure size 432x288 with 1 Axes>"
      ]
     },
     "metadata": {
      "needs_background": "light"
     },
     "output_type": "display_data"
    }
   ],
   "source": [
    "rc_ln = regression_function(eti_cats['rc'].values, eti_cats['ln'].values)\n",
    "x_rc_ln, y_rc_ln = (-2.5, 12.5), (rc_ln(-2.5), rc_ln(12.5))\n",
    "plt.scatter(eti_cats['rc'], eti_cats['ln'])\n",
    "plt.plot(x_rc_ln, y_rc_ln, c='orange')\n",
    "plt.show()"
   ]
  },
  {
   "cell_type": "code",
   "execution_count": 25,
   "metadata": {},
   "outputs": [],
   "source": [
    "from scipy.stats import shapiro\n",
    "\n",
    "def residual(y_true, y_pred):\n",
    "    return y_true - y_pred\n",
    "\n",
    "residual_rc = residual(eti_cats['hb'].values, rc_hb(eti_cats['rc'].values))\n",
    "residual_ln = residual(eti_cats['hb'].values, ln_hb(eti_cats['ln'].values))"
   ]
  },
  {
   "cell_type": "code",
   "execution_count": 26,
   "metadata": {},
   "outputs": [
    {
     "data": {
      "text/plain": [
       "(array([ 11.,  22., 101.,  45.,   9.,   5.,   3.,   2.,   1.,   1.]),\n",
       " array([-3.10923457, -2.03564962, -0.96206467,  0.11152028,  1.18510524,\n",
       "         2.25869019,  3.33227514,  4.40586009,  5.47944505,  6.55303   ,\n",
       "         7.62661495]),\n",
       " <BarContainer object of 10 artists>)"
      ]
     },
     "execution_count": 26,
     "metadata": {},
     "output_type": "execute_result"
    },
    {
     "data": {
      "image/png": "[encoded data removed]",
      "text/plain": [
       "<Figure size 432x288 with 1 Axes>"
      ]
     },
     "metadata": {
      "needs_background": "light"
     },
     "output_type": "display_data"
    }
   ],
   "source": [
    "plt.hist(residual_rc)"
   ]
  },
  {
   "cell_type": "code",
   "execution_count": 27,
   "metadata": {},
   "outputs": [
    {
     "data": {
      "text/plain": [
       "(array([  4.,   5.,  11., 108.,  53.,   9.,   5.,   2.,   1.,   2.]),\n",
       " array([-4.13337338, -3.08488498, -2.03639659, -0.9879082 ,  0.0605802 ,\n",
       "         1.10906859,  2.15755699,  3.20604538,  4.25453377,  5.30302217,\n",
       "         6.35151056]),\n",
       " <BarContainer object of 10 artists>)"
      ]
     },
     "execution_count": 27,
     "metadata": {},
     "output_type": "execute_result"
    },
    {
     "data": {
      "image/png": "[encoded data removed]",
      "text/plain": [
       "<Figure size 432x288 with 1 Axes>"
      ]
     },
     "metadata": {
      "needs_background": "light"
     },
     "output_type": "display_data"
    }
   ],
   "source": [
    "plt.hist(residual_ln)"
   ]
  },
  {
   "cell_type": "code",
   "execution_count": 28,
   "metadata": {},
   "outputs": [
    {
     "data": {
      "text/plain": [
       "ShapiroResult(statistic=0.8388686776161194, pvalue=1.278129891420926e-13)"
      ]
     },
     "execution_count": 28,
     "metadata": {},
     "output_type": "execute_result"
    }
   ],
   "source": [
    "shapiro(residual_rc)"
   ]
  },
  {
   "cell_type": "code",
   "execution_count": 29,
   "metadata": {},
   "outputs": [
    {
     "data": {
      "text/plain": [
       "ShapiroResult(statistic=0.8186289668083191, pvalue=1.6223105148214893e-14)"
      ]
     },
     "execution_count": 29,
     "metadata": {},
     "output_type": "execute_result"
    }
   ],
   "source": [
    "shapiro(residual_ln)"
   ]
  },
  {
   "cell_type": "code",
   "execution_count": 30,
   "metadata": {},
   "outputs": [
    {
     "data": {
      "text/plain": [
       "(array([146.,  29.,   9.,   7.,   7.,   1.,   0.,   0.,   0.,   1.]),\n",
       " array([-1.92296226, -0.13043426,  1.66209375,  3.45462175,  5.24714976,\n",
       "         7.03967776,  8.83220577, 10.62473377, 12.41726178, 14.20978978,\n",
       "        16.00231779]),\n",
       " <BarContainer object of 10 artists>)"
      ]
     },
     "execution_count": 30,
     "metadata": {},
     "output_type": "execute_result"
    },
    {
     "data": {
      "image/png": "[encoded data removed]",
      "text/plain": [
       "<Figure size 432x288 with 1 Axes>"
      ]
     },
     "metadata": {
      "needs_background": "light"
     },
     "output_type": "display_data"
    }
   ],
   "source": [
    "plt.hist(eti_cats['hb'].values)"
   ]
  },
  {
   "cell_type": "code",
   "execution_count": 31,
   "metadata": {},
   "outputs": [
    {
     "data": {
      "text/plain": [
       "(array([104.,  42.,  25.,  15.,   4.,   4.,   1.,   1.,   2.,   2.]),\n",
       " array([-2.66493418, -1.01839326,  0.62814766,  2.27468859,  3.92122951,\n",
       "         5.56777043,  7.21431135,  8.86085227, 10.50739319, 12.15393412,\n",
       "        13.80047504]),\n",
       " <BarContainer object of 10 artists>)"
      ]
     },
     "execution_count": 31,
     "metadata": {},
     "output_type": "execute_result"
    },
    {
     "data": {
      "image/png": "[encoded data removed]",
      "text/plain": [
       "<Figure size 432x288 with 1 Axes>"
      ]
     },
     "metadata": {
      "needs_background": "light"
     },
     "output_type": "display_data"
    }
   ],
   "source": [
    "plt.hist(eti_cats['rc'].values)"
   ]
  },
  {
   "cell_type": "code",
   "execution_count": 32,
   "metadata": {},
   "outputs": [
    {
     "data": {
      "text/plain": [
       "(array([120.,  37.,  18.,   9.,   7.,   5.,   3.,   0.,   0.,   1.]),\n",
       " array([-2.29017139, -0.88397698,  0.52221742,  1.92841183,  3.33460623,\n",
       "         4.74080063,  6.14699504,  7.55318944,  8.95938384, 10.36557825,\n",
       "        11.77177265]),\n",
       " <BarContainer object of 10 artists>)"
      ]
     },
     "execution_count": 32,
     "metadata": {},
     "output_type": "execute_result"
    },
    {
     "data": {
      "image/png": "[encoded data removed]",
      "text/plain": [
       "<Figure size 432x288 with 1 Axes>"
      ]
     },
     "metadata": {
      "needs_background": "light"
     },
     "output_type": "display_data"
    }
   ],
   "source": [
    "plt.hist(eti_cats['ln'].values)"
   ]
  },
  {
   "cell_type": "code",
   "execution_count": 34,
   "metadata": {},
   "outputs": [
    {
     "data": {
      "image/png": "[encoded data removed]",
      "text/plain": [
       "<Figure size 432x288 with 1 Axes>"
      ]
     },
     "metadata": {
      "needs_background": "light"
     },
     "output_type": "display_data"
    }
   ],
   "source": [
    "plt.hist(eti_cats['avg'])\n",
    "plt.show()"
   ]
  },
  {
   "cell_type": "code",
   "execution_count": null,
   "metadata": {},
   "outputs": [],
   "source": []
  }
 ],
 "metadata": {
  "kernelspec": {
   "display_name": "Python 3.10.4 64-bit",
   "language": "python",
   "name": "python3"
  },
  "language_info": {
   "codemirror_mode": {
    "name": "ipython",
    "version": 3
   },
   "file_extension": ".py",
   "mimetype": "text/x-python",
   "name": "python",
   "nbconvert_exporter": "python",
   "pygments_lexer": "ipython3",
   "version": "3.10.4"
  },
  "orig_nbformat": 4,
  "vscode": {
   "interpreter": {
    "hash": "a9cff5a362bc38ef45d817ae74b1af54d6a076e3d773891282bce078b815ba34"
   }
  }
 },
 "nbformat": 4,
 "nbformat_minor": 2
}
