{
 "cells": [
  {
   "cell_type": "code",
   "execution_count": 1,
   "metadata": {},
   "outputs": [],
   "source": [
    "import pandas as pd\n",
    "import numpy as np\n",
    "from scipy.stats import gmean\n",
    "import matplotlib.pyplot as plt\n",
    "import sqlite3"
   ]
  },
  {
   "cell_type": "code",
   "execution_count": 2,
   "metadata": {},
   "outputs": [],
   "source": [
    "from utils.etimodel import ETIModel"
   ]
  },
  {
   "cell_type": "markdown",
   "metadata": {},
   "source": [
    "## Data Preparation"
   ]
  },
  {
   "cell_type": "code",
   "execution_count": 3,
   "metadata": {},
   "outputs": [],
   "source": [
    "_4dm4_connection = sqlite3.connect(\"dataset/4dm4.db\")\n",
    "\n",
    "_4dm4_scores_query = \"\"\"SELECT scores.player_name, player_data.player_id, scores.round, \n",
    "scores.beatmap_type, scores.beatmap_tag, scores.score, scores.score_logit \n",
    "FROM scores LEFT JOIN player_data ON scores.player_name = player_data.player_name \n",
    "WHERE beatmap_type != \\\"SV\\\"\"\"\"\n",
    "\n",
    "_4dm4_data = pd.read_sql(_4dm4_scores_query, _4dm4_connection)"
   ]
  },
  {
   "cell_type": "code",
   "execution_count": 4,
   "metadata": {},
   "outputs": [
    {
     "data": {
      "text/html": [
       "<div>\n",
       "<style scoped>\n",
       "    .dataframe tbody tr th:only-of-type {\n",
       "        vertical-align: middle;\n",
       "    }\n",
       "\n",
       "    .dataframe tbody tr th {\n",
       "        vertical-align: top;\n",
       "    }\n",
       "\n",
       "    .dataframe thead th {\n",
       "        text-align: right;\n",
       "    }\n",
       "</style>\n",
       "<table border=\"1\" class=\"dataframe\">\n",
       "  <thead>\n",
       "    <tr style=\"text-align: right;\">\n",
       "      <th></th>\n",
       "      <th>player_name</th>\n",
       "      <th>player_id</th>\n",
       "      <th>round</th>\n",
       "      <th>beatmap_type</th>\n",
       "      <th>beatmap_tag</th>\n",
       "      <th>score</th>\n",
       "      <th>score_logit</th>\n",
       "    </tr>\n",
       "  </thead>\n",
       "  <tbody>\n",
       "    <tr>\n",
       "      <th>0</th>\n",
       "      <td>drag_</td>\n",
       "      <td>17959501</td>\n",
       "      <td>Q</td>\n",
       "      <td>RC</td>\n",
       "      <td>1</td>\n",
       "      <td>980590</td>\n",
       "      <td>3.922366</td>\n",
       "    </tr>\n",
       "    <tr>\n",
       "      <th>1</th>\n",
       "      <td>JPBenedictGame</td>\n",
       "      <td>12304092</td>\n",
       "      <td>Q</td>\n",
       "      <td>RC</td>\n",
       "      <td>1</td>\n",
       "      <td>991778</td>\n",
       "      <td>4.792686</td>\n",
       "    </tr>\n",
       "    <tr>\n",
       "      <th>2</th>\n",
       "      <td>iVALORUS</td>\n",
       "      <td>12096188</td>\n",
       "      <td>Q</td>\n",
       "      <td>RC</td>\n",
       "      <td>1</td>\n",
       "      <td>950399</td>\n",
       "      <td>2.952871</td>\n",
       "    </tr>\n",
       "    <tr>\n",
       "      <th>3</th>\n",
       "      <td>BL5</td>\n",
       "      <td>13187997</td>\n",
       "      <td>Q</td>\n",
       "      <td>RC</td>\n",
       "      <td>1</td>\n",
       "      <td>994054</td>\n",
       "      <td>5.119073</td>\n",
       "    </tr>\n",
       "    <tr>\n",
       "      <th>4</th>\n",
       "      <td>-Tebo-</td>\n",
       "      <td>12092659</td>\n",
       "      <td>Q</td>\n",
       "      <td>RC</td>\n",
       "      <td>1</td>\n",
       "      <td>994631</td>\n",
       "      <td>5.221730</td>\n",
       "    </tr>\n",
       "    <tr>\n",
       "      <th>...</th>\n",
       "      <td>...</td>\n",
       "      <td>...</td>\n",
       "      <td>...</td>\n",
       "      <td>...</td>\n",
       "      <td>...</td>\n",
       "      <td>...</td>\n",
       "      <td>...</td>\n",
       "    </tr>\n",
       "    <tr>\n",
       "      <th>2760</th>\n",
       "      <td>MisteurFR</td>\n",
       "      <td>14055233</td>\n",
       "      <td>GF</td>\n",
       "      <td>TB</td>\n",
       "      <td>1</td>\n",
       "      <td>932066</td>\n",
       "      <td>2.618867</td>\n",
       "    </tr>\n",
       "    <tr>\n",
       "      <th>2761</th>\n",
       "      <td>Gray Hardrock</td>\n",
       "      <td>9049282</td>\n",
       "      <td>GF</td>\n",
       "      <td>TB</td>\n",
       "      <td>1</td>\n",
       "      <td>908730</td>\n",
       "      <td>2.298226</td>\n",
       "    </tr>\n",
       "    <tr>\n",
       "      <th>2762</th>\n",
       "      <td>--Pavin--</td>\n",
       "      <td>12046267</td>\n",
       "      <td>GF</td>\n",
       "      <td>TB</td>\n",
       "      <td>1</td>\n",
       "      <td>919303</td>\n",
       "      <td>2.432914</td>\n",
       "    </tr>\n",
       "    <tr>\n",
       "      <th>2763</th>\n",
       "      <td>shokoha</td>\n",
       "      <td>14134289</td>\n",
       "      <td>GF</td>\n",
       "      <td>TB</td>\n",
       "      <td>1</td>\n",
       "      <td>910134</td>\n",
       "      <td>2.315272</td>\n",
       "    </tr>\n",
       "    <tr>\n",
       "      <th>2764</th>\n",
       "      <td>iN0SleePz</td>\n",
       "      <td>7192826</td>\n",
       "      <td>GF</td>\n",
       "      <td>TB</td>\n",
       "      <td>1</td>\n",
       "      <td>932661</td>\n",
       "      <td>2.628302</td>\n",
       "    </tr>\n",
       "  </tbody>\n",
       "</table>\n",
       "<p>2765 rows × 7 columns</p>\n",
       "</div>"
      ],
      "text/plain": [
       "         player_name  player_id round beatmap_type  beatmap_tag   score  \\\n",
       "0              drag_   17959501     Q           RC            1  980590   \n",
       "1     JPBenedictGame   12304092     Q           RC            1  991778   \n",
       "2           iVALORUS   12096188     Q           RC            1  950399   \n",
       "3                BL5   13187997     Q           RC            1  994054   \n",
       "4             -Tebo-   12092659     Q           RC            1  994631   \n",
       "...              ...        ...   ...          ...          ...     ...   \n",
       "2760       MisteurFR   14055233    GF           TB            1  932066   \n",
       "2761   Gray Hardrock    9049282    GF           TB            1  908730   \n",
       "2762       --Pavin--   12046267    GF           TB            1  919303   \n",
       "2763         shokoha   14134289    GF           TB            1  910134   \n",
       "2764       iN0SleePz    7192826    GF           TB            1  932661   \n",
       "\n",
       "      score_logit  \n",
       "0        3.922366  \n",
       "1        4.792686  \n",
       "2        2.952871  \n",
       "3        5.119073  \n",
       "4        5.221730  \n",
       "...           ...  \n",
       "2760     2.618867  \n",
       "2761     2.298226  \n",
       "2762     2.432914  \n",
       "2763     2.315272  \n",
       "2764     2.628302  \n",
       "\n",
       "[2765 rows x 7 columns]"
      ]
     },
     "execution_count": 4,
     "metadata": {},
     "output_type": "execute_result"
    }
   ],
   "source": [
    "_4dm4_data"
   ]
  },
  {
   "cell_type": "code",
   "execution_count": 5,
   "metadata": {},
   "outputs": [],
   "source": [
    "from utils.tables import get_table_from_records"
   ]
  },
  {
   "cell_type": "code",
   "execution_count": 6,
   "metadata": {},
   "outputs": [],
   "source": [
    "_4dm4_data['beatmap'] = _4dm4_data['round'] + \"_\" + _4dm4_data['beatmap_type'] + \"_\" + _4dm4_data['beatmap_tag'].astype(str)\n",
    "\n",
    "_4dm4_table = get_table_from_records(_4dm4_data, 'player_name', 'beatmap', 'score_logit')"
   ]
  },
  {
   "cell_type": "code",
   "execution_count": 7,
   "metadata": {},
   "outputs": [
    {
     "data": {
      "text/html": [
       "<div>\n",
       "<style scoped>\n",
       "    .dataframe tbody tr th:only-of-type {\n",
       "        vertical-align: middle;\n",
       "    }\n",
       "\n",
       "    .dataframe tbody tr th {\n",
       "        vertical-align: top;\n",
       "    }\n",
       "\n",
       "    .dataframe thead th {\n",
       "        text-align: right;\n",
       "    }\n",
       "</style>\n",
       "<table border=\"1\" class=\"dataframe\">\n",
       "  <thead>\n",
       "    <tr style=\"text-align: right;\">\n",
       "      <th>beatmap</th>\n",
       "      <th>F_HB_1</th>\n",
       "      <th>F_HB_2</th>\n",
       "      <th>F_HB_3</th>\n",
       "      <th>F_LN_1</th>\n",
       "      <th>F_LN_2</th>\n",
       "      <th>F_LN_3</th>\n",
       "      <th>F_RC_1</th>\n",
       "      <th>F_RC_2</th>\n",
       "      <th>F_RC_3</th>\n",
       "      <th>F_RC_4</th>\n",
       "      <th>...</th>\n",
       "      <th>SF_LN_1</th>\n",
       "      <th>SF_LN_2</th>\n",
       "      <th>SF_LN_3</th>\n",
       "      <th>SF_RC_1</th>\n",
       "      <th>SF_RC_2</th>\n",
       "      <th>SF_RC_3</th>\n",
       "      <th>SF_RC_4</th>\n",
       "      <th>SF_RC_5</th>\n",
       "      <th>SF_RC_6</th>\n",
       "      <th>SF_TB_1</th>\n",
       "    </tr>\n",
       "    <tr>\n",
       "      <th>player_name</th>\n",
       "      <th></th>\n",
       "      <th></th>\n",
       "      <th></th>\n",
       "      <th></th>\n",
       "      <th></th>\n",
       "      <th></th>\n",
       "      <th></th>\n",
       "      <th></th>\n",
       "      <th></th>\n",
       "      <th></th>\n",
       "      <th></th>\n",
       "      <th></th>\n",
       "      <th></th>\n",
       "      <th></th>\n",
       "      <th></th>\n",
       "      <th></th>\n",
       "      <th></th>\n",
       "      <th></th>\n",
       "      <th></th>\n",
       "      <th></th>\n",
       "      <th></th>\n",
       "    </tr>\n",
       "  </thead>\n",
       "  <tbody>\n",
       "    <tr>\n",
       "      <th>--Pavin--</th>\n",
       "      <td>3.403862</td>\n",
       "      <td>4.130791</td>\n",
       "      <td>4.297121</td>\n",
       "      <td>NaN</td>\n",
       "      <td>NaN</td>\n",
       "      <td>3.972358</td>\n",
       "      <td>NaN</td>\n",
       "      <td>4.405308</td>\n",
       "      <td>4.181753</td>\n",
       "      <td>NaN</td>\n",
       "      <td>...</td>\n",
       "      <td>NaN</td>\n",
       "      <td>NaN</td>\n",
       "      <td>NaN</td>\n",
       "      <td>4.640350</td>\n",
       "      <td>NaN</td>\n",
       "      <td>NaN</td>\n",
       "      <td>4.738713</td>\n",
       "      <td>3.727061</td>\n",
       "      <td>3.925312</td>\n",
       "      <td>NaN</td>\n",
       "    </tr>\n",
       "    <tr>\n",
       "      <th>-Guille</th>\n",
       "      <td>NaN</td>\n",
       "      <td>NaN</td>\n",
       "      <td>NaN</td>\n",
       "      <td>NaN</td>\n",
       "      <td>NaN</td>\n",
       "      <td>NaN</td>\n",
       "      <td>NaN</td>\n",
       "      <td>NaN</td>\n",
       "      <td>NaN</td>\n",
       "      <td>NaN</td>\n",
       "      <td>...</td>\n",
       "      <td>NaN</td>\n",
       "      <td>NaN</td>\n",
       "      <td>NaN</td>\n",
       "      <td>NaN</td>\n",
       "      <td>NaN</td>\n",
       "      <td>NaN</td>\n",
       "      <td>NaN</td>\n",
       "      <td>NaN</td>\n",
       "      <td>NaN</td>\n",
       "      <td>NaN</td>\n",
       "    </tr>\n",
       "    <tr>\n",
       "      <th>-Julio</th>\n",
       "      <td>NaN</td>\n",
       "      <td>NaN</td>\n",
       "      <td>NaN</td>\n",
       "      <td>NaN</td>\n",
       "      <td>NaN</td>\n",
       "      <td>NaN</td>\n",
       "      <td>NaN</td>\n",
       "      <td>NaN</td>\n",
       "      <td>NaN</td>\n",
       "      <td>NaN</td>\n",
       "      <td>...</td>\n",
       "      <td>NaN</td>\n",
       "      <td>NaN</td>\n",
       "      <td>NaN</td>\n",
       "      <td>NaN</td>\n",
       "      <td>NaN</td>\n",
       "      <td>NaN</td>\n",
       "      <td>NaN</td>\n",
       "      <td>NaN</td>\n",
       "      <td>NaN</td>\n",
       "      <td>NaN</td>\n",
       "    </tr>\n",
       "    <tr>\n",
       "      <th>-Pauze-</th>\n",
       "      <td>NaN</td>\n",
       "      <td>NaN</td>\n",
       "      <td>NaN</td>\n",
       "      <td>NaN</td>\n",
       "      <td>NaN</td>\n",
       "      <td>NaN</td>\n",
       "      <td>NaN</td>\n",
       "      <td>NaN</td>\n",
       "      <td>NaN</td>\n",
       "      <td>NaN</td>\n",
       "      <td>...</td>\n",
       "      <td>NaN</td>\n",
       "      <td>NaN</td>\n",
       "      <td>NaN</td>\n",
       "      <td>NaN</td>\n",
       "      <td>NaN</td>\n",
       "      <td>NaN</td>\n",
       "      <td>NaN</td>\n",
       "      <td>NaN</td>\n",
       "      <td>NaN</td>\n",
       "      <td>NaN</td>\n",
       "    </tr>\n",
       "    <tr>\n",
       "      <th>-SparklingCat-</th>\n",
       "      <td>NaN</td>\n",
       "      <td>NaN</td>\n",
       "      <td>NaN</td>\n",
       "      <td>NaN</td>\n",
       "      <td>NaN</td>\n",
       "      <td>NaN</td>\n",
       "      <td>NaN</td>\n",
       "      <td>NaN</td>\n",
       "      <td>NaN</td>\n",
       "      <td>NaN</td>\n",
       "      <td>...</td>\n",
       "      <td>NaN</td>\n",
       "      <td>NaN</td>\n",
       "      <td>NaN</td>\n",
       "      <td>NaN</td>\n",
       "      <td>NaN</td>\n",
       "      <td>NaN</td>\n",
       "      <td>NaN</td>\n",
       "      <td>NaN</td>\n",
       "      <td>NaN</td>\n",
       "      <td>NaN</td>\n",
       "    </tr>\n",
       "    <tr>\n",
       "      <th>...</th>\n",
       "      <td>...</td>\n",
       "      <td>...</td>\n",
       "      <td>...</td>\n",
       "      <td>...</td>\n",
       "      <td>...</td>\n",
       "      <td>...</td>\n",
       "      <td>...</td>\n",
       "      <td>...</td>\n",
       "      <td>...</td>\n",
       "      <td>...</td>\n",
       "      <td>...</td>\n",
       "      <td>...</td>\n",
       "      <td>...</td>\n",
       "      <td>...</td>\n",
       "      <td>...</td>\n",
       "      <td>...</td>\n",
       "      <td>...</td>\n",
       "      <td>...</td>\n",
       "      <td>...</td>\n",
       "      <td>...</td>\n",
       "      <td>...</td>\n",
       "    </tr>\n",
       "    <tr>\n",
       "      <th>terror67890</th>\n",
       "      <td>NaN</td>\n",
       "      <td>NaN</td>\n",
       "      <td>NaN</td>\n",
       "      <td>3.500324</td>\n",
       "      <td>3.159003</td>\n",
       "      <td>2.650601</td>\n",
       "      <td>NaN</td>\n",
       "      <td>NaN</td>\n",
       "      <td>NaN</td>\n",
       "      <td>NaN</td>\n",
       "      <td>...</td>\n",
       "      <td>NaN</td>\n",
       "      <td>3.215677</td>\n",
       "      <td>NaN</td>\n",
       "      <td>NaN</td>\n",
       "      <td>NaN</td>\n",
       "      <td>NaN</td>\n",
       "      <td>NaN</td>\n",
       "      <td>NaN</td>\n",
       "      <td>NaN</td>\n",
       "      <td>NaN</td>\n",
       "    </tr>\n",
       "    <tr>\n",
       "      <th>twitch chat</th>\n",
       "      <td>NaN</td>\n",
       "      <td>NaN</td>\n",
       "      <td>NaN</td>\n",
       "      <td>NaN</td>\n",
       "      <td>NaN</td>\n",
       "      <td>NaN</td>\n",
       "      <td>3.277534</td>\n",
       "      <td>NaN</td>\n",
       "      <td>NaN</td>\n",
       "      <td>NaN</td>\n",
       "      <td>...</td>\n",
       "      <td>NaN</td>\n",
       "      <td>NaN</td>\n",
       "      <td>NaN</td>\n",
       "      <td>3.417435</td>\n",
       "      <td>NaN</td>\n",
       "      <td>NaN</td>\n",
       "      <td>3.774716</td>\n",
       "      <td>NaN</td>\n",
       "      <td>NaN</td>\n",
       "      <td>NaN</td>\n",
       "    </tr>\n",
       "    <tr>\n",
       "      <th>u8_sunflower</th>\n",
       "      <td>NaN</td>\n",
       "      <td>NaN</td>\n",
       "      <td>NaN</td>\n",
       "      <td>NaN</td>\n",
       "      <td>NaN</td>\n",
       "      <td>NaN</td>\n",
       "      <td>NaN</td>\n",
       "      <td>NaN</td>\n",
       "      <td>NaN</td>\n",
       "      <td>NaN</td>\n",
       "      <td>...</td>\n",
       "      <td>NaN</td>\n",
       "      <td>NaN</td>\n",
       "      <td>NaN</td>\n",
       "      <td>NaN</td>\n",
       "      <td>NaN</td>\n",
       "      <td>NaN</td>\n",
       "      <td>NaN</td>\n",
       "      <td>NaN</td>\n",
       "      <td>NaN</td>\n",
       "      <td>NaN</td>\n",
       "    </tr>\n",
       "    <tr>\n",
       "      <th>username1947</th>\n",
       "      <td>NaN</td>\n",
       "      <td>NaN</td>\n",
       "      <td>NaN</td>\n",
       "      <td>NaN</td>\n",
       "      <td>NaN</td>\n",
       "      <td>NaN</td>\n",
       "      <td>NaN</td>\n",
       "      <td>NaN</td>\n",
       "      <td>NaN</td>\n",
       "      <td>NaN</td>\n",
       "      <td>...</td>\n",
       "      <td>NaN</td>\n",
       "      <td>NaN</td>\n",
       "      <td>NaN</td>\n",
       "      <td>NaN</td>\n",
       "      <td>NaN</td>\n",
       "      <td>NaN</td>\n",
       "      <td>NaN</td>\n",
       "      <td>NaN</td>\n",
       "      <td>NaN</td>\n",
       "      <td>NaN</td>\n",
       "    </tr>\n",
       "    <tr>\n",
       "      <th>wolfpup08</th>\n",
       "      <td>NaN</td>\n",
       "      <td>NaN</td>\n",
       "      <td>NaN</td>\n",
       "      <td>NaN</td>\n",
       "      <td>NaN</td>\n",
       "      <td>NaN</td>\n",
       "      <td>NaN</td>\n",
       "      <td>NaN</td>\n",
       "      <td>NaN</td>\n",
       "      <td>NaN</td>\n",
       "      <td>...</td>\n",
       "      <td>NaN</td>\n",
       "      <td>NaN</td>\n",
       "      <td>NaN</td>\n",
       "      <td>NaN</td>\n",
       "      <td>NaN</td>\n",
       "      <td>NaN</td>\n",
       "      <td>NaN</td>\n",
       "      <td>NaN</td>\n",
       "      <td>NaN</td>\n",
       "      <td>NaN</td>\n",
       "    </tr>\n",
       "  </tbody>\n",
       "</table>\n",
       "<p>200 rows × 78 columns</p>\n",
       "</div>"
      ],
      "text/plain": [
       "beatmap           F_HB_1    F_HB_2    F_HB_3    F_LN_1    F_LN_2    F_LN_3  \\\n",
       "player_name                                                                  \n",
       "--Pavin--       3.403862  4.130791  4.297121       NaN       NaN  3.972358   \n",
       "-Guille              NaN       NaN       NaN       NaN       NaN       NaN   \n",
       "-Julio               NaN       NaN       NaN       NaN       NaN       NaN   \n",
       "-Pauze-              NaN       NaN       NaN       NaN       NaN       NaN   \n",
       "-SparklingCat-       NaN       NaN       NaN       NaN       NaN       NaN   \n",
       "...                  ...       ...       ...       ...       ...       ...   \n",
       "terror67890          NaN       NaN       NaN  3.500324  3.159003  2.650601   \n",
       "twitch chat          NaN       NaN       NaN       NaN       NaN       NaN   \n",
       "u8_sunflower         NaN       NaN       NaN       NaN       NaN       NaN   \n",
       "username1947         NaN       NaN       NaN       NaN       NaN       NaN   \n",
       "wolfpup08            NaN       NaN       NaN       NaN       NaN       NaN   \n",
       "\n",
       "beatmap           F_RC_1    F_RC_2    F_RC_3  F_RC_4  ...  SF_LN_1   SF_LN_2  \\\n",
       "player_name                                           ...                      \n",
       "--Pavin--            NaN  4.405308  4.181753     NaN  ...      NaN       NaN   \n",
       "-Guille              NaN       NaN       NaN     NaN  ...      NaN       NaN   \n",
       "-Julio               NaN       NaN       NaN     NaN  ...      NaN       NaN   \n",
       "-Pauze-              NaN       NaN       NaN     NaN  ...      NaN       NaN   \n",
       "-SparklingCat-       NaN       NaN       NaN     NaN  ...      NaN       NaN   \n",
       "...                  ...       ...       ...     ...  ...      ...       ...   \n",
       "terror67890          NaN       NaN       NaN     NaN  ...      NaN  3.215677   \n",
       "twitch chat     3.277534       NaN       NaN     NaN  ...      NaN       NaN   \n",
       "u8_sunflower         NaN       NaN       NaN     NaN  ...      NaN       NaN   \n",
       "username1947         NaN       NaN       NaN     NaN  ...      NaN       NaN   \n",
       "wolfpup08            NaN       NaN       NaN     NaN  ...      NaN       NaN   \n",
       "\n",
       "beatmap         SF_LN_3   SF_RC_1  SF_RC_2  SF_RC_3   SF_RC_4   SF_RC_5  \\\n",
       "player_name                                                               \n",
       "--Pavin--           NaN  4.640350      NaN      NaN  4.738713  3.727061   \n",
       "-Guille             NaN       NaN      NaN      NaN       NaN       NaN   \n",
       "-Julio              NaN       NaN      NaN      NaN       NaN       NaN   \n",
       "-Pauze-             NaN       NaN      NaN      NaN       NaN       NaN   \n",
       "-SparklingCat-      NaN       NaN      NaN      NaN       NaN       NaN   \n",
       "...                 ...       ...      ...      ...       ...       ...   \n",
       "terror67890         NaN       NaN      NaN      NaN       NaN       NaN   \n",
       "twitch chat         NaN  3.417435      NaN      NaN  3.774716       NaN   \n",
       "u8_sunflower        NaN       NaN      NaN      NaN       NaN       NaN   \n",
       "username1947        NaN       NaN      NaN      NaN       NaN       NaN   \n",
       "wolfpup08           NaN       NaN      NaN      NaN       NaN       NaN   \n",
       "\n",
       "beatmap          SF_RC_6  SF_TB_1  \n",
       "player_name                        \n",
       "--Pavin--       3.925312      NaN  \n",
       "-Guille              NaN      NaN  \n",
       "-Julio               NaN      NaN  \n",
       "-Pauze-              NaN      NaN  \n",
       "-SparklingCat-       NaN      NaN  \n",
       "...                  ...      ...  \n",
       "terror67890          NaN      NaN  \n",
       "twitch chat          NaN      NaN  \n",
       "u8_sunflower         NaN      NaN  \n",
       "username1947         NaN      NaN  \n",
       "wolfpup08            NaN      NaN  \n",
       "\n",
       "[200 rows x 78 columns]"
      ]
     },
     "execution_count": 7,
     "metadata": {},
     "output_type": "execute_result"
    }
   ],
   "source": [
    "_4dm4_table"
   ]
  },
  {
   "cell_type": "code",
   "execution_count": 8,
   "metadata": {},
   "outputs": [],
   "source": [
    "def get_beatmap_category_table(records: pd.DataFrame, category: str):\n",
    "    return get_table_from_records(records[records['beatmap_type'] == category], 'player_name', 'beatmap', 'score_logit')"
   ]
  },
  {
   "cell_type": "code",
   "execution_count": 9,
   "metadata": {},
   "outputs": [],
   "source": [
    "rc = get_beatmap_category_table(_4dm4_data, \"RC\")\n",
    "hb = get_beatmap_category_table(_4dm4_data, \"HB\")\n",
    "ln = get_beatmap_category_table(_4dm4_data, \"LN\")"
   ]
  },
  {
   "cell_type": "code",
   "execution_count": 10,
   "metadata": {},
   "outputs": [],
   "source": [
    "model = ETIModel(lambda x: np.nanquantile(x, 0.25, axis=1))\n",
    "\n",
    "rc_eti = pd.DataFrame(model.fit(rc.values), index=rc.index)\n",
    "hb_eti = pd.DataFrame(model.fit(hb.values), index=hb.index)\n",
    "ln_eti = pd.DataFrame(model.fit(ln.values), index=ln.index)"
   ]
  },
  {
   "cell_type": "code",
   "execution_count": 11,
   "metadata": {},
   "outputs": [],
   "source": [
    "# cats are cute thank you\n",
    "\n",
    "eti_cats = pd.DataFrame(index=_4dm4_table.index)\n",
    "eti_cats['rc'] = rc_eti\n",
    "eti_cats['hb'] = hb_eti\n",
    "eti_cats['ln'] = ln_eti"
   ]
  },
  {
   "cell_type": "code",
   "execution_count": 12,
   "metadata": {},
   "outputs": [],
   "source": [
    "eti_cats['rc'] = eti_cats['rc'].fillna(eti_cats['rc'].quantile(0.25))\n",
    "eti_cats['hb'] = eti_cats['hb'].fillna(eti_cats['hb'].quantile(0.25))\n",
    "eti_cats['ln'] = eti_cats['ln'].fillna(eti_cats['ln'].quantile(0.25))"
   ]
  },
  {
   "cell_type": "code",
   "execution_count": 13,
   "metadata": {},
   "outputs": [],
   "source": [
    "eti_cats['avg'] = gmean(eti_cats[['rc', 'hb', 'ln']].values, axis=1)"
   ]
  },
  {
   "cell_type": "code",
   "execution_count": 14,
   "metadata": {},
   "outputs": [
    {
     "data": {
      "text/html": [
       "<div>\n",
       "<style scoped>\n",
       "    .dataframe tbody tr th:only-of-type {\n",
       "        vertical-align: middle;\n",
       "    }\n",
       "\n",
       "    .dataframe tbody tr th {\n",
       "        vertical-align: top;\n",
       "    }\n",
       "\n",
       "    .dataframe thead th {\n",
       "        text-align: right;\n",
       "    }\n",
       "</style>\n",
       "<table border=\"1\" class=\"dataframe\">\n",
       "  <thead>\n",
       "    <tr style=\"text-align: right;\">\n",
       "      <th></th>\n",
       "      <th>rc</th>\n",
       "      <th>hb</th>\n",
       "      <th>ln</th>\n",
       "      <th>avg</th>\n",
       "    </tr>\n",
       "    <tr>\n",
       "      <th>player_name</th>\n",
       "      <th></th>\n",
       "      <th></th>\n",
       "      <th></th>\n",
       "      <th></th>\n",
       "    </tr>\n",
       "  </thead>\n",
       "  <tbody>\n",
       "    <tr>\n",
       "      <th>shokoha</th>\n",
       "      <td>1.493390e+06</td>\n",
       "      <td>2.141910e+08</td>\n",
       "      <td>1.073502e+06</td>\n",
       "      <td>7.002597e+06</td>\n",
       "    </tr>\n",
       "    <tr>\n",
       "      <th>Gray Hardrock</th>\n",
       "      <td>3.705708e+03</td>\n",
       "      <td>1.165229e+03</td>\n",
       "      <td>3.255265e+02</td>\n",
       "      <td>1.120185e+03</td>\n",
       "    </tr>\n",
       "    <tr>\n",
       "      <th>MisteurFR</th>\n",
       "      <td>1.700703e+06</td>\n",
       "      <td>3.493084e+02</td>\n",
       "      <td>8.485425e-01</td>\n",
       "      <td>7.958606e+02</td>\n",
       "    </tr>\n",
       "    <tr>\n",
       "      <th>--Pavin--</th>\n",
       "      <td>2.741771e+04</td>\n",
       "      <td>2.456862e+02</td>\n",
       "      <td>2.528916e+01</td>\n",
       "      <td>5.543476e+02</td>\n",
       "    </tr>\n",
       "    <tr>\n",
       "      <th>henryalexbr</th>\n",
       "      <td>7.144803e+04</td>\n",
       "      <td>5.139955e+01</td>\n",
       "      <td>3.526885e+00</td>\n",
       "      <td>2.348445e+02</td>\n",
       "    </tr>\n",
       "    <tr>\n",
       "      <th>Keskidi</th>\n",
       "      <td>2.956030e+02</td>\n",
       "      <td>1.262057e+02</td>\n",
       "      <td>1.807414e+02</td>\n",
       "      <td>1.889217e+02</td>\n",
       "    </tr>\n",
       "    <tr>\n",
       "      <th>Lazereed</th>\n",
       "      <td>1.752477e+01</td>\n",
       "      <td>3.263831e+02</td>\n",
       "      <td>1.038831e+03</td>\n",
       "      <td>1.811236e+02</td>\n",
       "    </tr>\n",
       "    <tr>\n",
       "      <th>Micleak</th>\n",
       "      <td>1.380132e+03</td>\n",
       "      <td>7.749710e+01</td>\n",
       "      <td>4.686982e+01</td>\n",
       "      <td>1.711459e+02</td>\n",
       "    </tr>\n",
       "    <tr>\n",
       "      <th>Ricizus</th>\n",
       "      <td>3.918360e+03</td>\n",
       "      <td>3.237497e+01</td>\n",
       "      <td>2.558067e+01</td>\n",
       "      <td>1.480500e+02</td>\n",
       "    </tr>\n",
       "    <tr>\n",
       "      <th>[LS]Byte</th>\n",
       "      <td>3.123804e+01</td>\n",
       "      <td>7.923776e+01</td>\n",
       "      <td>3.850723e+02</td>\n",
       "      <td>9.841306e+01</td>\n",
       "    </tr>\n",
       "    <tr>\n",
       "      <th>RaGe Radical</th>\n",
       "      <td>9.245949e+01</td>\n",
       "      <td>1.913907e+01</td>\n",
       "      <td>3.293313e+02</td>\n",
       "      <td>8.352858e+01</td>\n",
       "    </tr>\n",
       "    <tr>\n",
       "      <th>Maykee kee</th>\n",
       "      <td>5.186645e+00</td>\n",
       "      <td>4.923174e+01</td>\n",
       "      <td>3.585972e+01</td>\n",
       "      <td>2.092086e+01</td>\n",
       "    </tr>\n",
       "    <tr>\n",
       "      <th>nanonbandusty</th>\n",
       "      <td>1.449226e-01</td>\n",
       "      <td>7.681072e+01</td>\n",
       "      <td>3.213551e+02</td>\n",
       "      <td>1.529376e+01</td>\n",
       "    </tr>\n",
       "    <tr>\n",
       "      <th>iN0SleePz</th>\n",
       "      <td>2.840828e-01</td>\n",
       "      <td>1.445953e+01</td>\n",
       "      <td>2.327556e+02</td>\n",
       "      <td>9.851441e+00</td>\n",
       "    </tr>\n",
       "    <tr>\n",
       "      <th>[LS]Taylor</th>\n",
       "      <td>2.332829e+01</td>\n",
       "      <td>1.130995e+01</td>\n",
       "      <td>3.420768e+00</td>\n",
       "      <td>9.663974e+00</td>\n",
       "    </tr>\n",
       "  </tbody>\n",
       "</table>\n",
       "</div>"
      ],
      "text/plain": [
       "                         rc            hb            ln           avg\n",
       "player_name                                                          \n",
       "shokoha        1.493390e+06  2.141910e+08  1.073502e+06  7.002597e+06\n",
       "Gray Hardrock  3.705708e+03  1.165229e+03  3.255265e+02  1.120185e+03\n",
       "MisteurFR      1.700703e+06  3.493084e+02  8.485425e-01  7.958606e+02\n",
       "--Pavin--      2.741771e+04  2.456862e+02  2.528916e+01  5.543476e+02\n",
       "henryalexbr    7.144803e+04  5.139955e+01  3.526885e+00  2.348445e+02\n",
       "Keskidi        2.956030e+02  1.262057e+02  1.807414e+02  1.889217e+02\n",
       "Lazereed       1.752477e+01  3.263831e+02  1.038831e+03  1.811236e+02\n",
       "Micleak        1.380132e+03  7.749710e+01  4.686982e+01  1.711459e+02\n",
       "Ricizus        3.918360e+03  3.237497e+01  2.558067e+01  1.480500e+02\n",
       "[LS]Byte       3.123804e+01  7.923776e+01  3.850723e+02  9.841306e+01\n",
       "RaGe Radical   9.245949e+01  1.913907e+01  3.293313e+02  8.352858e+01\n",
       "Maykee kee     5.186645e+00  4.923174e+01  3.585972e+01  2.092086e+01\n",
       "nanonbandusty  1.449226e-01  7.681072e+01  3.213551e+02  1.529376e+01\n",
       "iN0SleePz      2.840828e-01  1.445953e+01  2.327556e+02  9.851441e+00\n",
       "[LS]Taylor     2.332829e+01  1.130995e+01  3.420768e+00  9.663974e+00"
      ]
     },
     "execution_count": 14,
     "metadata": {},
     "output_type": "execute_result"
    }
   ],
   "source": [
    "eti_cats.sort_values('avg', ascending=False).head(15)"
   ]
  },
  {
   "cell_type": "code",
   "execution_count": 15,
   "metadata": {},
   "outputs": [
    {
     "data": {
      "text/html": [
       "<div>\n",
       "<style scoped>\n",
       "    .dataframe tbody tr th:only-of-type {\n",
       "        vertical-align: middle;\n",
       "    }\n",
       "\n",
       "    .dataframe tbody tr th {\n",
       "        vertical-align: top;\n",
       "    }\n",
       "\n",
       "    .dataframe thead th {\n",
       "        text-align: right;\n",
       "    }\n",
       "</style>\n",
       "<table border=\"1\" class=\"dataframe\">\n",
       "  <thead>\n",
       "    <tr style=\"text-align: right;\">\n",
       "      <th></th>\n",
       "      <th>rc</th>\n",
       "      <th>hb</th>\n",
       "      <th>ln</th>\n",
       "      <th>avg</th>\n",
       "    </tr>\n",
       "    <tr>\n",
       "      <th>player_name</th>\n",
       "      <th></th>\n",
       "      <th></th>\n",
       "      <th></th>\n",
       "      <th></th>\n",
       "    </tr>\n",
       "  </thead>\n",
       "  <tbody>\n",
       "    <tr>\n",
       "      <th>shokoha</th>\n",
       "      <td>14.216559</td>\n",
       "      <td>19.182379</td>\n",
       "      <td>13.886437</td>\n",
       "      <td>15.761792</td>\n",
       "    </tr>\n",
       "    <tr>\n",
       "      <th>Gray Hardrock</th>\n",
       "      <td>8.217630</td>\n",
       "      <td>7.060673</td>\n",
       "      <td>5.785444</td>\n",
       "      <td>7.021249</td>\n",
       "    </tr>\n",
       "    <tr>\n",
       "      <th>MisteurFR</th>\n",
       "      <td>14.346552</td>\n",
       "      <td>5.855955</td>\n",
       "      <td>-0.164235</td>\n",
       "      <td>6.679424</td>\n",
       "    </tr>\n",
       "    <tr>\n",
       "      <th>--Pavin--</th>\n",
       "      <td>10.218944</td>\n",
       "      <td>5.504055</td>\n",
       "      <td>3.230376</td>\n",
       "      <td>6.317792</td>\n",
       "    </tr>\n",
       "    <tr>\n",
       "      <th>henryalexbr</th>\n",
       "      <td>11.176726</td>\n",
       "      <td>3.939629</td>\n",
       "      <td>1.260415</td>\n",
       "      <td>5.458923</td>\n",
       "    </tr>\n",
       "    <tr>\n",
       "      <th>Keskidi</th>\n",
       "      <td>5.689017</td>\n",
       "      <td>4.837914</td>\n",
       "      <td>5.197067</td>\n",
       "      <td>5.241333</td>\n",
       "    </tr>\n",
       "    <tr>\n",
       "      <th>Lazereed</th>\n",
       "      <td>2.863616</td>\n",
       "      <td>5.788072</td>\n",
       "      <td>6.945851</td>\n",
       "      <td>5.199180</td>\n",
       "    </tr>\n",
       "    <tr>\n",
       "      <th>Micleak</th>\n",
       "      <td>7.229934</td>\n",
       "      <td>4.350240</td>\n",
       "      <td>3.847374</td>\n",
       "      <td>5.142516</td>\n",
       "    </tr>\n",
       "    <tr>\n",
       "      <th>Ricizus</th>\n",
       "      <td>8.273429</td>\n",
       "      <td>3.477386</td>\n",
       "      <td>3.241837</td>\n",
       "      <td>4.997550</td>\n",
       "    </tr>\n",
       "    <tr>\n",
       "      <th>[LS]Byte</th>\n",
       "      <td>3.441636</td>\n",
       "      <td>4.372453</td>\n",
       "      <td>5.953431</td>\n",
       "      <td>4.589174</td>\n",
       "    </tr>\n",
       "    <tr>\n",
       "      <th>RaGe Radical</th>\n",
       "      <td>4.526771</td>\n",
       "      <td>2.951732</td>\n",
       "      <td>5.797064</td>\n",
       "      <td>4.425189</td>\n",
       "    </tr>\n",
       "    <tr>\n",
       "      <th>Maykee kee</th>\n",
       "      <td>1.646087</td>\n",
       "      <td>3.896538</td>\n",
       "      <td>3.579615</td>\n",
       "      <td>3.040747</td>\n",
       "    </tr>\n",
       "    <tr>\n",
       "      <th>nanonbandusty</th>\n",
       "      <td>-1.931555</td>\n",
       "      <td>4.341344</td>\n",
       "      <td>5.772547</td>\n",
       "      <td>2.727445</td>\n",
       "    </tr>\n",
       "    <tr>\n",
       "      <th>iN0SleePz</th>\n",
       "      <td>-1.258489</td>\n",
       "      <td>2.671354</td>\n",
       "      <td>5.449989</td>\n",
       "      <td>2.287618</td>\n",
       "    </tr>\n",
       "    <tr>\n",
       "      <th>[LS]Taylor</th>\n",
       "      <td>3.149667</td>\n",
       "      <td>2.425683</td>\n",
       "      <td>1.229865</td>\n",
       "      <td>2.268405</td>\n",
       "    </tr>\n",
       "  </tbody>\n",
       "</table>\n",
       "</div>"
      ],
      "text/plain": [
       "                      rc         hb         ln        avg\n",
       "player_name                                              \n",
       "shokoha        14.216559  19.182379  13.886437  15.761792\n",
       "Gray Hardrock   8.217630   7.060673   5.785444   7.021249\n",
       "MisteurFR      14.346552   5.855955  -0.164235   6.679424\n",
       "--Pavin--      10.218944   5.504055   3.230376   6.317792\n",
       "henryalexbr    11.176726   3.939629   1.260415   5.458923\n",
       "Keskidi         5.689017   4.837914   5.197067   5.241333\n",
       "Lazereed        2.863616   5.788072   6.945851   5.199180\n",
       "Micleak         7.229934   4.350240   3.847374   5.142516\n",
       "Ricizus         8.273429   3.477386   3.241837   4.997550\n",
       "[LS]Byte        3.441636   4.372453   5.953431   4.589174\n",
       "RaGe Radical    4.526771   2.951732   5.797064   4.425189\n",
       "Maykee kee      1.646087   3.896538   3.579615   3.040747\n",
       "nanonbandusty  -1.931555   4.341344   5.772547   2.727445\n",
       "iN0SleePz      -1.258489   2.671354   5.449989   2.287618\n",
       "[LS]Taylor      3.149667   2.425683   1.229865   2.268405"
      ]
     },
     "execution_count": 15,
     "metadata": {},
     "output_type": "execute_result"
    }
   ],
   "source": [
    "np.log(eti_cats).sort_values('avg', ascending=False).head(15)"
   ]
  },
  {
   "cell_type": "code",
   "execution_count": 16,
   "metadata": {},
   "outputs": [
    {
     "data": {
      "text/html": [
       "<div>\n",
       "<style scoped>\n",
       "    .dataframe tbody tr th:only-of-type {\n",
       "        vertical-align: middle;\n",
       "    }\n",
       "\n",
       "    .dataframe tbody tr th {\n",
       "        vertical-align: top;\n",
       "    }\n",
       "\n",
       "    .dataframe thead th {\n",
       "        text-align: right;\n",
       "    }\n",
       "</style>\n",
       "<table border=\"1\" class=\"dataframe\">\n",
       "  <thead>\n",
       "    <tr style=\"text-align: right;\">\n",
       "      <th></th>\n",
       "      <th>rc</th>\n",
       "      <th>hb</th>\n",
       "      <th>ln</th>\n",
       "      <th>avg</th>\n",
       "    </tr>\n",
       "  </thead>\n",
       "  <tbody>\n",
       "    <tr>\n",
       "      <th>count</th>\n",
       "      <td>2.000000e+02</td>\n",
       "      <td>2.000000e+02</td>\n",
       "      <td>2.000000e+02</td>\n",
       "      <td>2.000000e+02</td>\n",
       "    </tr>\n",
       "    <tr>\n",
       "      <th>mean</th>\n",
       "      <td>1.651693e+04</td>\n",
       "      <td>1.070969e+06</td>\n",
       "      <td>5.387910e+03</td>\n",
       "      <td>3.503211e+04</td>\n",
       "    </tr>\n",
       "    <tr>\n",
       "      <th>std</th>\n",
       "      <td>1.596782e+05</td>\n",
       "      <td>1.514559e+07</td>\n",
       "      <td>7.590669e+04</td>\n",
       "      <td>4.951571e+05</td>\n",
       "    </tr>\n",
       "    <tr>\n",
       "      <th>min</th>\n",
       "      <td>1.629876e-02</td>\n",
       "      <td>3.076832e-03</td>\n",
       "      <td>2.964194e-02</td>\n",
       "      <td>5.972230e-02</td>\n",
       "    </tr>\n",
       "    <tr>\n",
       "      <th>25%</th>\n",
       "      <td>2.388647e-01</td>\n",
       "      <td>3.551550e-01</td>\n",
       "      <td>2.717896e-01</td>\n",
       "      <td>2.824915e-01</td>\n",
       "    </tr>\n",
       "    <tr>\n",
       "      <th>50%</th>\n",
       "      <td>3.529023e-01</td>\n",
       "      <td>4.379413e-01</td>\n",
       "      <td>3.111390e-01</td>\n",
       "      <td>4.185454e-01</td>\n",
       "    </tr>\n",
       "    <tr>\n",
       "      <th>75%</th>\n",
       "      <td>1.269591e+00</td>\n",
       "      <td>1.050371e+00</td>\n",
       "      <td>9.350049e-01</td>\n",
       "      <td>1.143080e+00</td>\n",
       "    </tr>\n",
       "    <tr>\n",
       "      <th>max</th>\n",
       "      <td>1.700703e+06</td>\n",
       "      <td>2.141910e+08</td>\n",
       "      <td>1.073502e+06</td>\n",
       "      <td>7.002597e+06</td>\n",
       "    </tr>\n",
       "  </tbody>\n",
       "</table>\n",
       "</div>"
      ],
      "text/plain": [
       "                 rc            hb            ln           avg\n",
       "count  2.000000e+02  2.000000e+02  2.000000e+02  2.000000e+02\n",
       "mean   1.651693e+04  1.070969e+06  5.387910e+03  3.503211e+04\n",
       "std    1.596782e+05  1.514559e+07  7.590669e+04  4.951571e+05\n",
       "min    1.629876e-02  3.076832e-03  2.964194e-02  5.972230e-02\n",
       "25%    2.388647e-01  3.551550e-01  2.717896e-01  2.824915e-01\n",
       "50%    3.529023e-01  4.379413e-01  3.111390e-01  4.185454e-01\n",
       "75%    1.269591e+00  1.050371e+00  9.350049e-01  1.143080e+00\n",
       "max    1.700703e+06  2.141910e+08  1.073502e+06  7.002597e+06"
      ]
     },
     "execution_count": 16,
     "metadata": {},
     "output_type": "execute_result"
    }
   ],
   "source": [
    "eti_cats.describe()"
   ]
  },
  {
   "cell_type": "code",
   "execution_count": 17,
   "metadata": {},
   "outputs": [
    {
     "data": {
      "text/html": [
       "<div>\n",
       "<style scoped>\n",
       "    .dataframe tbody tr th:only-of-type {\n",
       "        vertical-align: middle;\n",
       "    }\n",
       "\n",
       "    .dataframe tbody tr th {\n",
       "        vertical-align: top;\n",
       "    }\n",
       "\n",
       "    .dataframe thead th {\n",
       "        text-align: right;\n",
       "    }\n",
       "</style>\n",
       "<table border=\"1\" class=\"dataframe\">\n",
       "  <thead>\n",
       "    <tr style=\"text-align: right;\">\n",
       "      <th></th>\n",
       "      <th>rc</th>\n",
       "      <th>hb</th>\n",
       "      <th>ln</th>\n",
       "      <th>avg</th>\n",
       "    </tr>\n",
       "  </thead>\n",
       "  <tbody>\n",
       "    <tr>\n",
       "      <th>count</th>\n",
       "      <td>200.000000</td>\n",
       "      <td>200.000000</td>\n",
       "      <td>200.000000</td>\n",
       "      <td>200.000000</td>\n",
       "    </tr>\n",
       "    <tr>\n",
       "      <th>mean</th>\n",
       "      <td>-0.100230</td>\n",
       "      <td>-0.170808</td>\n",
       "      <td>-0.306141</td>\n",
       "      <td>-0.192393</td>\n",
       "    </tr>\n",
       "    <tr>\n",
       "      <th>std</th>\n",
       "      <td>2.701490</td>\n",
       "      <td>2.152591</td>\n",
       "      <td>2.112167</td>\n",
       "      <td>2.060985</td>\n",
       "    </tr>\n",
       "    <tr>\n",
       "      <th>min</th>\n",
       "      <td>-4.116666</td>\n",
       "      <td>-5.783855</td>\n",
       "      <td>-3.518565</td>\n",
       "      <td>-2.818050</td>\n",
       "    </tr>\n",
       "    <tr>\n",
       "      <th>25%</th>\n",
       "      <td>-1.431858</td>\n",
       "      <td>-1.035201</td>\n",
       "      <td>-1.302727</td>\n",
       "      <td>-1.264147</td>\n",
       "    </tr>\n",
       "    <tr>\n",
       "      <th>50%</th>\n",
       "      <td>-1.041588</td>\n",
       "      <td>-0.825671</td>\n",
       "      <td>-1.167516</td>\n",
       "      <td>-0.870971</td>\n",
       "    </tr>\n",
       "    <tr>\n",
       "      <th>75%</th>\n",
       "      <td>0.238695</td>\n",
       "      <td>0.048969</td>\n",
       "      <td>-0.067935</td>\n",
       "      <td>0.133675</td>\n",
       "    </tr>\n",
       "    <tr>\n",
       "      <th>max</th>\n",
       "      <td>14.346552</td>\n",
       "      <td>19.182379</td>\n",
       "      <td>13.886437</td>\n",
       "      <td>15.761792</td>\n",
       "    </tr>\n",
       "  </tbody>\n",
       "</table>\n",
       "</div>"
      ],
      "text/plain": [
       "               rc          hb          ln         avg\n",
       "count  200.000000  200.000000  200.000000  200.000000\n",
       "mean    -0.100230   -0.170808   -0.306141   -0.192393\n",
       "std      2.701490    2.152591    2.112167    2.060985\n",
       "min     -4.116666   -5.783855   -3.518565   -2.818050\n",
       "25%     -1.431858   -1.035201   -1.302727   -1.264147\n",
       "50%     -1.041588   -0.825671   -1.167516   -0.870971\n",
       "75%      0.238695    0.048969   -0.067935    0.133675\n",
       "max     14.346552   19.182379   13.886437   15.761792"
      ]
     },
     "execution_count": 17,
     "metadata": {},
     "output_type": "execute_result"
    }
   ],
   "source": [
    "np.log(eti_cats).describe()"
   ]
  },
  {
   "cell_type": "code",
   "execution_count": 18,
   "metadata": {},
   "outputs": [
    {
     "data": {
      "text/plain": [
       "array([[1.        , 0.73522107, 0.52143156],\n",
       "       [0.73522107, 1.        , 0.80658274],\n",
       "       [0.52143156, 0.80658274, 1.        ]])"
      ]
     },
     "execution_count": 18,
     "metadata": {},
     "output_type": "execute_result"
    }
   ],
   "source": [
    "np.corrcoef(np.log(eti_cats)[['rc', 'hb', 'ln']].T)"
   ]
  },
  {
   "cell_type": "code",
   "execution_count": 19,
   "metadata": {},
   "outputs": [],
   "source": [
    "log_eti = np.log(eti_cats)"
   ]
  },
  {
   "cell_type": "code",
   "execution_count": 20,
   "metadata": {},
   "outputs": [
    {
     "data": {
      "text/plain": [
       "<matplotlib.collections.PathCollection at 0x19e28bfbb20>"
      ]
     },
     "execution_count": 20,
     "metadata": {},
     "output_type": "execute_result"
    },
    {
     "data": {
      "image/png": "[encoded data removed]",
      "text/plain": [
       "<Figure size 432x288 with 1 Axes>"
      ]
     },
     "metadata": {
      "needs_background": "light"
     },
     "output_type": "display_data"
    }
   ],
   "source": [
    "plt.scatter(log_eti['rc'], log_eti['hb'])"
   ]
  },
  {
   "cell_type": "code",
   "execution_count": 21,
   "metadata": {},
   "outputs": [
    {
     "data": {
      "text/plain": [
       "<matplotlib.collections.PathCollection at 0x19e2ad36a10>"
      ]
     },
     "execution_count": 21,
     "metadata": {},
     "output_type": "execute_result"
    },
    {
     "data": {
      "image/png": "[encoded data removed]",
      "text/plain": [
       "<Figure size 432x288 with 1 Axes>"
      ]
     },
     "metadata": {
      "needs_background": "light"
     },
     "output_type": "display_data"
    }
   ],
   "source": [
    "plt.scatter(log_eti['ln'], log_eti['hb'])"
   ]
  },
  {
   "cell_type": "code",
   "execution_count": 22,
   "metadata": {},
   "outputs": [
    {
     "data": {
      "text/plain": [
       "<matplotlib.collections.PathCollection at 0x19e2ada6410>"
      ]
     },
     "execution_count": 22,
     "metadata": {},
     "output_type": "execute_result"
    },
    {
     "data": {
      "image/png": "[encoded data removed]",
      "text/plain": [
       "<Figure size 432x288 with 1 Axes>"
      ]
     },
     "metadata": {
      "needs_background": "light"
     },
     "output_type": "display_data"
    }
   ],
   "source": [
    "plt.scatter(log_eti['rc'], log_eti['ln'])"
   ]
  },
  {
   "cell_type": "code",
   "execution_count": 23,
   "metadata": {},
   "outputs": [],
   "source": [
    "def regression_function(x, y):\n",
    "    xbar = np.mean(x)\n",
    "    ybar = np.mean(y)\n",
    "    b1 = np.sum((x - xbar) * (y - ybar)) / np.sum((x - xbar) ** 2)\n",
    "    b0 = ybar - b1 * xbar\n",
    "    print(b1, b0)\n",
    "    return lambda x: b1 * x + b0"
   ]
  },
  {
   "cell_type": "code",
   "execution_count": 24,
   "metadata": {},
   "outputs": [
    {
     "name": "stdout",
     "output_type": "stream",
     "text": [
      "0.585836077624996 -0.1120897663344045\n",
      "0.8220197058557505 0.08084563982433002\n"
     ]
    }
   ],
   "source": [
    "rc_hb = regression_function(log_eti['rc'].values, log_eti['hb'].values)\n",
    "ln_hb = regression_function(log_eti['ln'].values, log_eti['hb'].values)"
   ]
  },
  {
   "cell_type": "code",
   "execution_count": 25,
   "metadata": {},
   "outputs": [],
   "source": [
    "x_rc, y_rc = (-2.5, 15), (rc_hb(-2.5), rc_hb(15))\n",
    "x_ln, y_ln = (-2.5, 12.5), (ln_hb(-2.5), ln_hb(12.5))"
   ]
  },
  {
   "cell_type": "code",
   "execution_count": 26,
   "metadata": {},
   "outputs": [
    {
     "data": {
      "image/png": "[encoded data removed]",
      "text/plain": [
       "<Figure size 432x288 with 1 Axes>"
      ]
     },
     "metadata": {
      "needs_background": "light"
     },
     "output_type": "display_data"
    }
   ],
   "source": [
    "plt.scatter(log_eti['rc'], log_eti['hb'])\n",
    "plt.plot(x_rc, y_rc, c='orange')\n",
    "plt.show()"
   ]
  },
  {
   "cell_type": "code",
   "execution_count": 27,
   "metadata": {},
   "outputs": [
    {
     "data": {
      "image/png": "[encoded data removed]",
      "text/plain": [
       "<Figure size 432x288 with 1 Axes>"
      ]
     },
     "metadata": {
      "needs_background": "light"
     },
     "output_type": "display_data"
    }
   ],
   "source": [
    "plt.scatter(log_eti['ln'], log_eti['hb'])\n",
    "plt.plot(x_ln, y_ln, c='orange')\n",
    "plt.show()"
   ]
  },
  {
   "cell_type": "code",
   "execution_count": 28,
   "metadata": {},
   "outputs": [],
   "source": [
    "from scipy.stats import shapiro\n",
    "\n",
    "def residual(y_true, y_pred):\n",
    "    return y_true - y_pred\n",
    "\n",
    "residual_rc = residual(log_eti['hb'].values, rc_hb(log_eti['rc'].values))\n",
    "residual_ln = residual(log_eti['hb'].values, ln_hb(log_eti['ln'].values))"
   ]
  },
  {
   "cell_type": "code",
   "execution_count": 29,
   "metadata": {},
   "outputs": [
    {
     "data": {
      "text/plain": [
       "(array([  1.,   8.,  30., 138.,  16.,   5.,   1.,   0.,   0.,   1.]),\n",
       " array([-5.65284595, -3.99097185, -2.32909776, -0.66722366,  0.99465044,\n",
       "         2.65652454,  4.31839864,  5.98027274,  7.64214684,  9.30402094,\n",
       "        10.96589504]),\n",
       " <BarContainer object of 10 artists>)"
      ]
     },
     "execution_count": 29,
     "metadata": {},
     "output_type": "execute_result"
    },
    {
     "data": {
      "image/png": "[encoded data removed]",
      "text/plain": [
       "<Figure size 432x288 with 1 Axes>"
      ]
     },
     "metadata": {
      "needs_background": "light"
     },
     "output_type": "display_data"
    }
   ],
   "source": [
    "plt.hist(residual_rc)"
   ]
  },
  {
   "cell_type": "code",
   "execution_count": 30,
   "metadata": {},
   "outputs": [
    {
     "data": {
      "text/plain": [
       "(array([  1.,   1.,   7.,  24., 138.,  21.,   5.,   1.,   1.,   1.]),\n",
       " array([-6.23224234, -4.84035728, -3.44847222, -2.05658717, -0.66470211,\n",
       "         0.72718295,  2.119068  ,  3.51095306,  4.90283811,  6.29472317,\n",
       "         7.68660823]),\n",
       " <BarContainer object of 10 artists>)"
      ]
     },
     "execution_count": 30,
     "metadata": {},
     "output_type": "execute_result"
    },
    {
     "data": {
      "image/png": "[encoded data removed]",
      "text/plain": [
       "<Figure size 432x288 with 1 Axes>"
      ]
     },
     "metadata": {
      "needs_background": "light"
     },
     "output_type": "display_data"
    }
   ],
   "source": [
    "plt.hist(residual_ln)"
   ]
  },
  {
   "cell_type": "code",
   "execution_count": 31,
   "metadata": {},
   "outputs": [
    {
     "data": {
      "text/plain": [
       "ShapiroResult(statistic=0.7718916535377502, pvalue=2.4150052820698896e-16)"
      ]
     },
     "execution_count": 31,
     "metadata": {},
     "output_type": "execute_result"
    }
   ],
   "source": [
    "shapiro(residual_rc)"
   ]
  },
  {
   "cell_type": "code",
   "execution_count": 32,
   "metadata": {},
   "outputs": [
    {
     "data": {
      "text/plain": [
       "ShapiroResult(statistic=0.7978919148445129, pvalue=2.3025637759042494e-15)"
      ]
     },
     "execution_count": 32,
     "metadata": {},
     "output_type": "execute_result"
    }
   ],
   "source": [
    "shapiro(residual_ln)"
   ]
  },
  {
   "cell_type": "code",
   "execution_count": 33,
   "metadata": {},
   "outputs": [
    {
     "data": {
      "text/plain": [
       "(array([  2., 104.,  73.,  11.,   8.,   1.,   0.,   0.,   0.,   1.]),\n",
       " array([-5.78385487, -3.28723151, -0.79060816,  1.70601519,  4.20263855,\n",
       "         6.6992619 ,  9.19588526, 11.69250861, 14.18913197, 16.68575532,\n",
       "        19.18237868]),\n",
       " <BarContainer object of 10 artists>)"
      ]
     },
     "execution_count": 33,
     "metadata": {},
     "output_type": "execute_result"
    },
    {
     "data": {
      "image/png": "[encoded data removed]",
      "text/plain": [
       "<Figure size 432x288 with 1 Axes>"
      ]
     },
     "metadata": {
      "needs_background": "light"
     },
     "output_type": "display_data"
    }
   ],
   "source": [
    "plt.hist(log_eti['hb'].values)"
   ]
  },
  {
   "cell_type": "code",
   "execution_count": 34,
   "metadata": {},
   "outputs": [
    {
     "data": {
      "text/plain": [
       "(array([  8., 122.,  36.,  16.,   8.,   3.,   3.,   1.,   1.,   2.]),\n",
       " array([-4.11666645, -2.27034459, -0.42402272,  1.42229915,  3.26862102,\n",
       "         5.11494289,  6.96126476,  8.80758663, 10.6539085 , 12.50023037,\n",
       "        14.34655224]),\n",
       " <BarContainer object of 10 artists>)"
      ]
     },
     "execution_count": 34,
     "metadata": {},
     "output_type": "execute_result"
    },
    {
     "data": {
      "image/png": "[encoded data removed]",
      "text/plain": [
       "<Figure size 432x288 with 1 Axes>"
      ]
     },
     "metadata": {
      "needs_background": "light"
     },
     "output_type": "display_data"
    }
   ],
   "source": [
    "plt.hist(log_eti['rc'].values)"
   ]
  },
  {
   "cell_type": "code",
   "execution_count": 35,
   "metadata": {},
   "outputs": [
    {
     "data": {
      "text/plain": [
       "(array([ 18., 132.,  28.,   9.,   3.,   8.,   1.,   0.,   0.,   1.]),\n",
       " array([-3.51856503, -1.77806483, -0.03756464,  1.70293556,  3.44343576,\n",
       "         5.18393595,  6.92443615,  8.66493635, 10.40543654, 12.14593674,\n",
       "        13.88643694]),\n",
       " <BarContainer object of 10 artists>)"
      ]
     },
     "execution_count": 35,
     "metadata": {},
     "output_type": "execute_result"
    },
    {
     "data": {
      "image/png": "[encoded data removed]",
      "text/plain": [
       "<Figure size 432x288 with 1 Axes>"
      ]
     },
     "metadata": {
      "needs_background": "light"
     },
     "output_type": "display_data"
    }
   ],
   "source": [
    "plt.hist(log_eti['ln'].values)"
   ]
  },
  {
   "cell_type": "code",
   "execution_count": null,
   "metadata": {},
   "outputs": [],
   "source": []
  }
 ],
 "metadata": {
  "kernelspec": {
   "display_name": "Python 3.10.4 64-bit",
   "language": "python",
   "name": "python3"
  },
  "language_info": {
   "codemirror_mode": {
    "name": "ipython",
    "version": 3
   },
   "file_extension": ".py",
   "mimetype": "text/x-python",
   "name": "python",
   "nbconvert_exporter": "python",
   "pygments_lexer": "ipython3",
   "version": "3.10.4"
  },
  "orig_nbformat": 4,
  "vscode": {
   "interpreter": {
    "hash": "a9cff5a362bc38ef45d817ae74b1af54d6a076e3d773891282bce078b815ba34"
   }
  }
 },
 "nbformat": 4,
 "nbformat_minor": 2
}
