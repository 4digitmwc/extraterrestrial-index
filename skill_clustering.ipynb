{
 "cells": [
  {
   "cell_type": "code",
   "execution_count": 1,
   "metadata": {},
   "outputs": [],
   "source": [
    "import pandas as pd\n",
    "import numpy as np\n",
    "import matplotlib.pyplot as plt\n",
    "import sqlite3\n",
    "from sklearn.cluster import DBSCAN, KMeans\n",
    "from sklearn.impute import SimpleImputer, KNNImputer\n",
    "from sklearn.preprocessing import MinMaxScaler, StandardScaler\n",
    "from sklearn.pipeline import Pipeline\n",
    "from sklearn.decomposition import PCA\n",
    "from scipy.spatial.distance import correlation"
   ]
  },
  {
   "cell_type": "code",
   "execution_count": 2,
   "metadata": {},
   "outputs": [],
   "source": [
    "from sklearn.preprocessing import FunctionTransformer\n",
    "\n",
    "transpose_layer = FunctionTransformer(lambda x: x.T)"
   ]
  },
  {
   "cell_type": "code",
   "execution_count": 3,
   "metadata": {},
   "outputs": [],
   "source": [
    "# SQLite db\n",
    "ranked_dataset_fp = \"dataset/rankedscores_top_10000.db\"\n",
    "\n",
    "# csv\n",
    "_4kpp_estimate_fp = \"dataset/4kpp_estimate.csv\"\n",
    "beatmaps_list_fp = \"dataset/map_dump.csv\""
   ]
  },
  {
   "cell_type": "code",
   "execution_count": 4,
   "metadata": {},
   "outputs": [],
   "source": [
    "# Connect sqlite3\n",
    "ranked_connection = sqlite3.connect(ranked_dataset_fp)\n",
    "\n",
    "# read csv\n",
    "_4kpp_estimate = pd.read_csv(_4kpp_estimate_fp)\n",
    "beatmaps_list = pd.read_csv(beatmaps_list_fp)"
   ]
  },
  {
   "cell_type": "code",
   "execution_count": 5,
   "metadata": {},
   "outputs": [],
   "source": [
    "player_id_name = pd.read_sql('SELECT * FROM sample_users', ranked_connection)"
   ]
  },
  {
   "cell_type": "code",
   "execution_count": 6,
   "metadata": {},
   "outputs": [],
   "source": [
    "beatmaps_list = beatmaps_list.rename({\"beatmap id\": \"beatmap_id\"}, axis=1)"
   ]
  },
  {
   "cell_type": "code",
   "execution_count": 7,
   "metadata": {},
   "outputs": [],
   "source": [
    "user_ids = tuple(_4kpp_estimate['user_id'])\n",
    "beatmaps_list_query = tuple(beatmaps_list['beatmap_id'])"
   ]
  },
  {
   "cell_type": "code",
   "execution_count": 8,
   "metadata": {},
   "outputs": [],
   "source": [
    "sql_scores = f\"\"\"SELECT user_id, beatmap_id, max(score) as score, date FROM osu_scores_mania_high \n",
    "WHERE user_id in {user_ids} AND beatmap_id in {beatmaps_list_query} AND enabled_mods in {(0, 1073741824)}\n",
    "GROUP BY user_id, beatmap_id\"\"\"\n",
    "\n",
    "ranked_scores = pd.read_sql(sql_scores, ranked_connection)"
   ]
  },
  {
   "cell_type": "code",
   "execution_count": 9,
   "metadata": {},
   "outputs": [],
   "source": [
    "def logit(x):\n",
    "    return np.log(x / (1e6 - x))\n",
    "\n",
    "ranked_scores['score_logit'] = ranked_scores['score'].apply(logit)"
   ]
  },
  {
   "cell_type": "code",
   "execution_count": 10,
   "metadata": {},
   "outputs": [],
   "source": [
    "ranked_scores = ranked_scores.merge(beatmaps_list, how='inner').merge(player_id_name, how='inner').merge(_4kpp_estimate, how='inner')\n",
    "ranked_scores = ranked_scores[['user_id', 'rank', 'username', 'weighted_pp', 'category', 'beatmap_id', 'score', 'score_logit']]"
   ]
  },
  {
   "cell_type": "code",
   "execution_count": 11,
   "metadata": {},
   "outputs": [
    {
     "data": {
      "text/html": [
       "<div>\n",
       "<style scoped>\n",
       "    .dataframe tbody tr th:only-of-type {\n",
       "        vertical-align: middle;\n",
       "    }\n",
       "\n",
       "    .dataframe tbody tr th {\n",
       "        vertical-align: top;\n",
       "    }\n",
       "\n",
       "    .dataframe thead th {\n",
       "        text-align: right;\n",
       "    }\n",
       "</style>\n",
       "<table border=\"1\" class=\"dataframe\">\n",
       "  <thead>\n",
       "    <tr style=\"text-align: right;\">\n",
       "      <th></th>\n",
       "      <th>user_id</th>\n",
       "      <th>rank</th>\n",
       "      <th>username</th>\n",
       "      <th>weighted_pp</th>\n",
       "      <th>category</th>\n",
       "      <th>beatmap_id</th>\n",
       "      <th>score</th>\n",
       "      <th>score_logit</th>\n",
       "    </tr>\n",
       "  </thead>\n",
       "  <tbody>\n",
       "    <tr>\n",
       "      <th>0</th>\n",
       "      <td>65724</td>\n",
       "      <td>714</td>\n",
       "      <td>BL5 MI WAIFU</td>\n",
       "      <td>9186.134227</td>\n",
       "      <td>RC</td>\n",
       "      <td>659238</td>\n",
       "      <td>928698</td>\n",
       "      <td>2.566859</td>\n",
       "    </tr>\n",
       "    <tr>\n",
       "      <th>1</th>\n",
       "      <td>65724</td>\n",
       "      <td>714</td>\n",
       "      <td>BL5 MI WAIFU</td>\n",
       "      <td>9186.134227</td>\n",
       "      <td>RC</td>\n",
       "      <td>770548</td>\n",
       "      <td>881799</td>\n",
       "      <td>2.009578</td>\n",
       "    </tr>\n",
       "    <tr>\n",
       "      <th>2</th>\n",
       "      <td>65724</td>\n",
       "      <td>714</td>\n",
       "      <td>BL5 MI WAIFU</td>\n",
       "      <td>9186.134227</td>\n",
       "      <td>RC</td>\n",
       "      <td>777356</td>\n",
       "      <td>871584</td>\n",
       "      <td>1.915037</td>\n",
       "    </tr>\n",
       "    <tr>\n",
       "      <th>3</th>\n",
       "      <td>65724</td>\n",
       "      <td>714</td>\n",
       "      <td>BL5 MI WAIFU</td>\n",
       "      <td>9186.134227</td>\n",
       "      <td>RC</td>\n",
       "      <td>1026047</td>\n",
       "      <td>951690</td>\n",
       "      <td>2.980601</td>\n",
       "    </tr>\n",
       "    <tr>\n",
       "      <th>4</th>\n",
       "      <td>65724</td>\n",
       "      <td>714</td>\n",
       "      <td>BL5 MI WAIFU</td>\n",
       "      <td>9186.134227</td>\n",
       "      <td>RC</td>\n",
       "      <td>1026048</td>\n",
       "      <td>869111</td>\n",
       "      <td>1.893121</td>\n",
       "    </tr>\n",
       "    <tr>\n",
       "      <th>...</th>\n",
       "      <td>...</td>\n",
       "      <td>...</td>\n",
       "      <td>...</td>\n",
       "      <td>...</td>\n",
       "      <td>...</td>\n",
       "      <td>...</td>\n",
       "      <td>...</td>\n",
       "      <td>...</td>\n",
       "    </tr>\n",
       "    <tr>\n",
       "      <th>187664</th>\n",
       "      <td>8291500</td>\n",
       "      <td>9172</td>\n",
       "      <td>Seiren Shikino</td>\n",
       "      <td>5670.620917</td>\n",
       "      <td>RC</td>\n",
       "      <td>2984819</td>\n",
       "      <td>638667</td>\n",
       "      <td>0.569583</td>\n",
       "    </tr>\n",
       "    <tr>\n",
       "      <th>187665</th>\n",
       "      <td>24462978</td>\n",
       "      <td>8364</td>\n",
       "      <td>Axelex35</td>\n",
       "      <td>6055.726874</td>\n",
       "      <td>HB</td>\n",
       "      <td>3068709</td>\n",
       "      <td>682321</td>\n",
       "      <td>0.764459</td>\n",
       "    </tr>\n",
       "    <tr>\n",
       "      <th>187666</th>\n",
       "      <td>25129518</td>\n",
       "      <td>7783</td>\n",
       "      <td>1llu3ions</td>\n",
       "      <td>6174.211172</td>\n",
       "      <td>HB</td>\n",
       "      <td>3068709</td>\n",
       "      <td>722867</td>\n",
       "      <td>0.958728</td>\n",
       "    </tr>\n",
       "    <tr>\n",
       "      <th>187667</th>\n",
       "      <td>19043915</td>\n",
       "      <td>8840</td>\n",
       "      <td>Shibera</td>\n",
       "      <td>5933.850049</td>\n",
       "      <td>LN</td>\n",
       "      <td>2285299</td>\n",
       "      <td>749325</td>\n",
       "      <td>1.095016</td>\n",
       "    </tr>\n",
       "    <tr>\n",
       "      <th>187668</th>\n",
       "      <td>24481271</td>\n",
       "      <td>8906</td>\n",
       "      <td>tea12935</td>\n",
       "      <td>5910.657422</td>\n",
       "      <td>RC</td>\n",
       "      <td>3042160</td>\n",
       "      <td>506241</td>\n",
       "      <td>0.024965</td>\n",
       "    </tr>\n",
       "  </tbody>\n",
       "</table>\n",
       "<p>187669 rows × 8 columns</p>\n",
       "</div>"
      ],
      "text/plain": [
       "         user_id  rank        username  weighted_pp category  beatmap_id  \\\n",
       "0          65724   714    BL5 MI WAIFU  9186.134227       RC      659238   \n",
       "1          65724   714    BL5 MI WAIFU  9186.134227       RC      770548   \n",
       "2          65724   714    BL5 MI WAIFU  9186.134227       RC      777356   \n",
       "3          65724   714    BL5 MI WAIFU  9186.134227       RC     1026047   \n",
       "4          65724   714    BL5 MI WAIFU  9186.134227       RC     1026048   \n",
       "...          ...   ...             ...          ...      ...         ...   \n",
       "187664   8291500  9172  Seiren Shikino  5670.620917       RC     2984819   \n",
       "187665  24462978  8364        Axelex35  6055.726874       HB     3068709   \n",
       "187666  25129518  7783       1llu3ions  6174.211172       HB     3068709   \n",
       "187667  19043915  8840         Shibera  5933.850049       LN     2285299   \n",
       "187668  24481271  8906        tea12935  5910.657422       RC     3042160   \n",
       "\n",
       "         score  score_logit  \n",
       "0       928698     2.566859  \n",
       "1       881799     2.009578  \n",
       "2       871584     1.915037  \n",
       "3       951690     2.980601  \n",
       "4       869111     1.893121  \n",
       "...        ...          ...  \n",
       "187664  638667     0.569583  \n",
       "187665  682321     0.764459  \n",
       "187666  722867     0.958728  \n",
       "187667  749325     1.095016  \n",
       "187668  506241     0.024965  \n",
       "\n",
       "[187669 rows x 8 columns]"
      ]
     },
     "execution_count": 11,
     "metadata": {},
     "output_type": "execute_result"
    }
   ],
   "source": [
    "ranked_scores"
   ]
  },
  {
   "cell_type": "code",
   "execution_count": 12,
   "metadata": {},
   "outputs": [],
   "source": [
    "ranked_table = ranked_scores.pivot(index='username', columns='beatmap_id', values='score_logit')"
   ]
  },
  {
   "cell_type": "code",
   "execution_count": 13,
   "metadata": {},
   "outputs": [],
   "source": [
    "def get_preprocessing_model():\n",
    "    return Pipeline([('transpose', transpose_layer), ('scaler', MinMaxScaler()), ('impute', KNNImputer()), ('transpose2', transpose_layer)])"
   ]
  },
  {
   "cell_type": "code",
   "execution_count": 14,
   "metadata": {},
   "outputs": [],
   "source": [
    "def get_similarity_model(n_clusters):\n",
    "    return Pipeline([('transpose', transpose_layer), ('scaler', MinMaxScaler()), ('impute', KNNImputer()), ('transpose2', transpose_layer), ('cluster', KMeans(n_clusters))])"
   ]
  },
  {
   "cell_type": "markdown",
   "metadata": {},
   "source": [
    "## User similarity"
   ]
  },
  {
   "cell_type": "code",
   "execution_count": 15,
   "metadata": {},
   "outputs": [],
   "source": [
    "user_based_scores = ranked_table.values"
   ]
  },
  {
   "cell_type": "code",
   "execution_count": 16,
   "metadata": {},
   "outputs": [],
   "source": [
    "imputed_similarity = get_preprocessing_model().fit(user_based_scores)"
   ]
  },
  {
   "cell_type": "code",
   "execution_count": 17,
   "metadata": {},
   "outputs": [],
   "source": [
    "imputed_user_scores = imputed_similarity.transform(user_based_scores)"
   ]
  },
  {
   "cell_type": "code",
   "execution_count": 18,
   "metadata": {},
   "outputs": [],
   "source": [
    "pca_model = PCA(n_components=2)\n",
    "\n",
    "pca_res = pca_model.fit_transform(imputed_user_scores)"
   ]
  },
  {
   "cell_type": "code",
   "execution_count": 19,
   "metadata": {},
   "outputs": [
    {
     "data": {
      "image/png": "[encoded data removed]",
      "text/plain": [
       "<Figure size 432x288 with 1 Axes>"
      ]
     },
     "metadata": {
      "needs_background": "light"
     },
     "output_type": "display_data"
    }
   ],
   "source": [
    "# this is for u\n",
    "\n",
    "plt.scatter(*pca_res.T, c='red')\n",
    "plt.show()"
   ]
  },
  {
   "cell_type": "code",
   "execution_count": 56,
   "metadata": {},
   "outputs": [
    {
     "name": "stdout",
     "output_type": "stream",
     "text": [
      "2\n",
      "3\n",
      "4\n",
      "5\n",
      "6\n",
      "7\n",
      "8\n",
      "9\n",
      "10\n",
      "11\n",
      "12\n",
      "13\n",
      "14\n",
      "15\n",
      "16\n",
      "17\n",
      "18\n",
      "19\n",
      "20\n"
     ]
    }
   ],
   "source": [
    "from sklearn.metrics import silhouette_score\n",
    "\n",
    "sil = []\n",
    "kmax = 20\n",
    "\n",
    "# dissimilarity would not be defined for a single cluster, thus, minimum number of clusters should be 2\n",
    "for k in range(2, kmax+1):\n",
    "    print(k)\n",
    "    model = get_similarity_model(n_clusters = k).fit(user_based_scores)\n",
    "    labels = model['cluster'].labels_\n",
    "    sil.append(silhouette_score(imputed_user_scores, labels, metric = 'euclidean'))"
   ]
  },
  {
   "cell_type": "code",
   "execution_count": 57,
   "metadata": {},
   "outputs": [
    {
     "data": {
      "text/plain": [
       "[<matplotlib.lines.Line2D at 0x27633db3880>]"
      ]
     },
     "execution_count": 57,
     "metadata": {},
     "output_type": "execute_result"
    },
    {
     "data": {
      "image/png": "[encoded data removed]",
      "text/plain": [
       "<Figure size 432x288 with 1 Axes>"
      ]
     },
     "metadata": {
      "needs_background": "light"
     },
     "output_type": "display_data"
    }
   ],
   "source": [
    "plt.plot(sil)"
   ]
  },
  {
   "cell_type": "code",
   "execution_count": 58,
   "metadata": {},
   "outputs": [
    {
     "data": {
      "text/plain": [
       "[0.30446021726559863,\n",
       " 0.35579417040517713,\n",
       " 0.29171092843970897,\n",
       " 0.2732150221112941,\n",
       " 0.2519087085018874,\n",
       " 0.23473098682561408,\n",
       " 0.21460140625584528,\n",
       " 0.2062943805002901,\n",
       " 0.19617186523382518,\n",
       " 0.19666393402818277,\n",
       " 0.19265758568268865,\n",
       " 0.19251594333932606,\n",
       " 0.18244578161642253,\n",
       " 0.1814712183648345,\n",
       " 0.16301810837474043,\n",
       " 0.1587235322526898,\n",
       " 0.14969960715318342,\n",
       " 0.15070469256934324,\n",
       " 0.1466180894526452]"
      ]
     },
     "execution_count": 58,
     "metadata": {},
     "output_type": "execute_result"
    }
   ],
   "source": [
    "sil"
   ]
  },
  {
   "cell_type": "code",
   "execution_count": 20,
   "metadata": {},
   "outputs": [],
   "source": [
    "similarity_model = get_similarity_model(n_clusters=3)"
   ]
  },
  {
   "cell_type": "code",
   "execution_count": 21,
   "metadata": {},
   "outputs": [
    {
     "data": {
      "text/html": [
       "<style>#sk-container-id-1 {color: black;background-color: white;}#sk-container-id-1 pre{padding: 0;}#sk-container-id-1 div.sk-toggleable {background-color: white;}#sk-container-id-1 label.sk-toggleable__label {cursor: pointer;display: block;width: 100%;margin-bottom: 0;padding: 0.3em;box-sizing: border-box;text-align: center;}#sk-container-id-1 label.sk-toggleable__label-arrow:before {content: \"▸\";float: left;margin-right: 0.25em;color: #696969;}#sk-container-id-1 label.sk-toggleable__label-arrow:hover:before {color: black;}#sk-container-id-1 div.sk-estimator:hover label.sk-toggleable__label-arrow:before {color: black;}#sk-container-id-1 div.sk-toggleable__content {max-height: 0;max-width: 0;overflow: hidden;text-align: left;background-color: #f0f8ff;}#sk-container-id-1 div.sk-toggleable__content pre {margin: 0.2em;color: black;border-radius: 0.25em;background-color: #f0f8ff;}#sk-container-id-1 input.sk-toggleable__control:checked~div.sk-toggleable__content {max-height: 200px;max-width: 100%;overflow: auto;}#sk-container-id-1 input.sk-toggleable__control:checked~label.sk-toggleable__label-arrow:before {content: \"▾\";}#sk-container-id-1 div.sk-estimator input.sk-toggleable__control:checked~label.sk-toggleable__label {background-color: #d4ebff;}#sk-container-id-1 div.sk-label input.sk-toggleable__control:checked~label.sk-toggleable__label {background-color: #d4ebff;}#sk-container-id-1 input.sk-hidden--visually {border: 0;clip: rect(1px 1px 1px 1px);clip: rect(1px, 1px, 1px, 1px);height: 1px;margin: -1px;overflow: hidden;padding: 0;position: absolute;width: 1px;}#sk-container-id-1 div.sk-estimator {font-family: monospace;background-color: #f0f8ff;border: 1px dotted black;border-radius: 0.25em;box-sizing: border-box;margin-bottom: 0.5em;}#sk-container-id-1 div.sk-estimator:hover {background-color: #d4ebff;}#sk-container-id-1 div.sk-parallel-item::after {content: \"\";width: 100%;border-bottom: 1px solid gray;flex-grow: 1;}#sk-container-id-1 div.sk-label:hover label.sk-toggleable__label {background-color: #d4ebff;}#sk-container-id-1 div.sk-serial::before {content: \"\";position: absolute;border-left: 1px solid gray;box-sizing: border-box;top: 0;bottom: 0;left: 50%;z-index: 0;}#sk-container-id-1 div.sk-serial {display: flex;flex-direction: column;align-items: center;background-color: white;padding-right: 0.2em;padding-left: 0.2em;position: relative;}#sk-container-id-1 div.sk-item {position: relative;z-index: 1;}#sk-container-id-1 div.sk-parallel {display: flex;align-items: stretch;justify-content: center;background-color: white;position: relative;}#sk-container-id-1 div.sk-item::before, #sk-container-id-1 div.sk-parallel-item::before {content: \"\";position: absolute;border-left: 1px solid gray;box-sizing: border-box;top: 0;bottom: 0;left: 50%;z-index: -1;}#sk-container-id-1 div.sk-parallel-item {display: flex;flex-direction: column;z-index: 1;position: relative;background-color: white;}#sk-container-id-1 div.sk-parallel-item:first-child::after {align-self: flex-end;width: 50%;}#sk-container-id-1 div.sk-parallel-item:last-child::after {align-self: flex-start;width: 50%;}#sk-container-id-1 div.sk-parallel-item:only-child::after {width: 0;}#sk-container-id-1 div.sk-dashed-wrapped {border: 1px dashed gray;margin: 0 0.4em 0.5em 0.4em;box-sizing: border-box;padding-bottom: 0.4em;background-color: white;}#sk-container-id-1 div.sk-label label {font-family: monospace;font-weight: bold;display: inline-block;line-height: 1.2em;}#sk-container-id-1 div.sk-label-container {text-align: center;}#sk-container-id-1 div.sk-container {/* jupyter's `normalize.less` sets `[hidden] { display: none; }` but bootstrap.min.css set `[hidden] { display: none !important; }` so we also need the `!important` here to be able to override the default hidden behavior on the sphinx rendered scikit-learn.org. See: https://github.com/scikit-learn/scikit-learn/issues/21755 */display: inline-block !important;position: relative;}#sk-container-id-1 div.sk-text-repr-fallback {display: none;}</style><div id=\"sk-container-id-1\" class=\"sk-top-container\"><div class=\"sk-text-repr-fallback\"><pre>Pipeline(steps=[(&#x27;transpose&#x27;,\n",
       "                 FunctionTransformer(func=&lt;function &lt;lambda&gt; at 0x0000025796A29F30&gt;)),\n",
       "                (&#x27;scaler&#x27;, MinMaxScaler()), (&#x27;impute&#x27;, KNNImputer()),\n",
       "                (&#x27;transpose2&#x27;,\n",
       "                 FunctionTransformer(func=&lt;function &lt;lambda&gt; at 0x0000025796A29F30&gt;)),\n",
       "                (&#x27;cluster&#x27;, KMeans(n_clusters=3))])</pre><b>In a Jupyter environment, please rerun this cell to show the HTML representation or trust the notebook. <br />On GitHub, the HTML representation is unable to render, please try loading this page with nbviewer.org.</b></div><div class=\"sk-container\" hidden><div class=\"sk-item sk-dashed-wrapped\"><div class=\"sk-label-container\"><div class=\"sk-label sk-toggleable\"><input class=\"sk-toggleable__control sk-hidden--visually\" id=\"sk-estimator-id-1\" type=\"checkbox\" ><label for=\"sk-estimator-id-1\" class=\"sk-toggleable__label sk-toggleable__label-arrow\">Pipeline</label><div class=\"sk-toggleable__content\"><pre>Pipeline(steps=[(&#x27;transpose&#x27;,\n",
       "                 FunctionTransformer(func=&lt;function &lt;lambda&gt; at 0x0000025796A29F30&gt;)),\n",
       "                (&#x27;scaler&#x27;, MinMaxScaler()), (&#x27;impute&#x27;, KNNImputer()),\n",
       "                (&#x27;transpose2&#x27;,\n",
       "                 FunctionTransformer(func=&lt;function &lt;lambda&gt; at 0x0000025796A29F30&gt;)),\n",
       "                (&#x27;cluster&#x27;, KMeans(n_clusters=3))])</pre></div></div></div><div class=\"sk-serial\"><div class=\"sk-item\"><div class=\"sk-estimator sk-toggleable\"><input class=\"sk-toggleable__control sk-hidden--visually\" id=\"sk-estimator-id-2\" type=\"checkbox\" ><label for=\"sk-estimator-id-2\" class=\"sk-toggleable__label sk-toggleable__label-arrow\">FunctionTransformer</label><div class=\"sk-toggleable__content\"><pre>FunctionTransformer(func=&lt;function &lt;lambda&gt; at 0x0000025796A29F30&gt;)</pre></div></div></div><div class=\"sk-item\"><div class=\"sk-estimator sk-toggleable\"><input class=\"sk-toggleable__control sk-hidden--visually\" id=\"sk-estimator-id-3\" type=\"checkbox\" ><label for=\"sk-estimator-id-3\" class=\"sk-toggleable__label sk-toggleable__label-arrow\">MinMaxScaler</label><div class=\"sk-toggleable__content\"><pre>MinMaxScaler()</pre></div></div></div><div class=\"sk-item\"><div class=\"sk-estimator sk-toggleable\"><input class=\"sk-toggleable__control sk-hidden--visually\" id=\"sk-estimator-id-4\" type=\"checkbox\" ><label for=\"sk-estimator-id-4\" class=\"sk-toggleable__label sk-toggleable__label-arrow\">KNNImputer</label><div class=\"sk-toggleable__content\"><pre>KNNImputer()</pre></div></div></div><div class=\"sk-item\"><div class=\"sk-estimator sk-toggleable\"><input class=\"sk-toggleable__control sk-hidden--visually\" id=\"sk-estimator-id-5\" type=\"checkbox\" ><label for=\"sk-estimator-id-5\" class=\"sk-toggleable__label sk-toggleable__label-arrow\">FunctionTransformer</label><div class=\"sk-toggleable__content\"><pre>FunctionTransformer(func=&lt;function &lt;lambda&gt; at 0x0000025796A29F30&gt;)</pre></div></div></div><div class=\"sk-item\"><div class=\"sk-estimator sk-toggleable\"><input class=\"sk-toggleable__control sk-hidden--visually\" id=\"sk-estimator-id-6\" type=\"checkbox\" ><label for=\"sk-estimator-id-6\" class=\"sk-toggleable__label sk-toggleable__label-arrow\">KMeans</label><div class=\"sk-toggleable__content\"><pre>KMeans(n_clusters=3)</pre></div></div></div></div></div></div></div>"
      ],
      "text/plain": [
       "Pipeline(steps=[('transpose',\n",
       "                 FunctionTransformer(func=<function <lambda> at 0x0000025796A29F30>)),\n",
       "                ('scaler', MinMaxScaler()), ('impute', KNNImputer()),\n",
       "                ('transpose2',\n",
       "                 FunctionTransformer(func=<function <lambda> at 0x0000025796A29F30>)),\n",
       "                ('cluster', KMeans(n_clusters=3))])"
      ]
     },
     "execution_count": 21,
     "metadata": {},
     "output_type": "execute_result"
    }
   ],
   "source": [
    "similarity_model.fit(user_based_scores)"
   ]
  },
  {
   "cell_type": "code",
   "execution_count": 22,
   "metadata": {},
   "outputs": [
    {
     "data": {
      "text/plain": [
       "array([1, 2, 1, ..., 1, 0, 2])"
      ]
     },
     "execution_count": 22,
     "metadata": {},
     "output_type": "execute_result"
    }
   ],
   "source": [
    "similarity_model['cluster'].labels_"
   ]
  },
  {
   "cell_type": "code",
   "execution_count": 29,
   "metadata": {},
   "outputs": [],
   "source": [
    "labels = similarity_model['cluster'].labels_"
   ]
  },
  {
   "cell_type": "code",
   "execution_count": 23,
   "metadata": {},
   "outputs": [],
   "source": [
    "label_table = pd.DataFrame(similarity_model['cluster'].labels_, index=ranked_table.index)"
   ]
  },
  {
   "cell_type": "code",
   "execution_count": 24,
   "metadata": {},
   "outputs": [
    {
     "data": {
      "text/html": [
       "<div>\n",
       "<style scoped>\n",
       "    .dataframe tbody tr th:only-of-type {\n",
       "        vertical-align: middle;\n",
       "    }\n",
       "\n",
       "    .dataframe tbody tr th {\n",
       "        vertical-align: top;\n",
       "    }\n",
       "\n",
       "    .dataframe thead th {\n",
       "        text-align: right;\n",
       "    }\n",
       "</style>\n",
       "<table border=\"1\" class=\"dataframe\">\n",
       "  <thead>\n",
       "    <tr style=\"text-align: right;\">\n",
       "      <th></th>\n",
       "      <th>0</th>\n",
       "    </tr>\n",
       "    <tr>\n",
       "      <th>username</th>\n",
       "      <th></th>\n",
       "    </tr>\n",
       "  </thead>\n",
       "  <tbody>\n",
       "    <tr>\n",
       "      <th>- A s u s a -</th>\n",
       "      <td>2</td>\n",
       "    </tr>\n",
       "    <tr>\n",
       "      <th>- Edgeworth -</th>\n",
       "      <td>2</td>\n",
       "    </tr>\n",
       "    <tr>\n",
       "      <th>- Fleaty -</th>\n",
       "      <td>2</td>\n",
       "    </tr>\n",
       "    <tr>\n",
       "      <th>- Hago -</th>\n",
       "      <td>2</td>\n",
       "    </tr>\n",
       "    <tr>\n",
       "      <th>- K a n o -</th>\n",
       "      <td>2</td>\n",
       "    </tr>\n",
       "    <tr>\n",
       "      <th>...</th>\n",
       "      <td>...</td>\n",
       "    </tr>\n",
       "    <tr>\n",
       "      <th>zsourlemon07</th>\n",
       "      <td>2</td>\n",
       "    </tr>\n",
       "    <tr>\n",
       "      <th>zureff</th>\n",
       "      <td>2</td>\n",
       "    </tr>\n",
       "    <tr>\n",
       "      <th>zvirtual</th>\n",
       "      <td>2</td>\n",
       "    </tr>\n",
       "    <tr>\n",
       "      <th>zxibs</th>\n",
       "      <td>2</td>\n",
       "    </tr>\n",
       "    <tr>\n",
       "      <th>zzzz</th>\n",
       "      <td>2</td>\n",
       "    </tr>\n",
       "  </tbody>\n",
       "</table>\n",
       "<p>3276 rows × 1 columns</p>\n",
       "</div>"
      ],
      "text/plain": [
       "               0\n",
       "username        \n",
       "- A s u s a -  2\n",
       "- Edgeworth -  2\n",
       "- Fleaty -     2\n",
       "- Hago -       2\n",
       "- K a n o -    2\n",
       "...           ..\n",
       "zsourlemon07   2\n",
       "zureff         2\n",
       "zvirtual       2\n",
       "zxibs          2\n",
       "zzzz           2\n",
       "\n",
       "[3276 rows x 1 columns]"
      ]
     },
     "execution_count": 24,
     "metadata": {},
     "output_type": "execute_result"
    }
   ],
   "source": [
    "label_table[label_table[0] == 2]"
   ]
  },
  {
   "cell_type": "code",
   "execution_count": 25,
   "metadata": {},
   "outputs": [
    {
     "data": {
      "text/plain": [
       "0    2\n",
       "Name: HowToPlayLN, dtype: int32"
      ]
     },
     "execution_count": 25,
     "metadata": {},
     "output_type": "execute_result"
    }
   ],
   "source": [
    "label_table.loc['HowToPlayLN']"
   ]
  },
  {
   "cell_type": "code",
   "execution_count": 33,
   "metadata": {},
   "outputs": [
    {
     "data": {
      "text/html": [
       "<div>\n",
       "<style scoped>\n",
       "    .dataframe tbody tr th:only-of-type {\n",
       "        vertical-align: middle;\n",
       "    }\n",
       "\n",
       "    .dataframe tbody tr th {\n",
       "        vertical-align: top;\n",
       "    }\n",
       "\n",
       "    .dataframe thead th {\n",
       "        text-align: right;\n",
       "    }\n",
       "</style>\n",
       "<table border=\"1\" class=\"dataframe\">\n",
       "  <thead>\n",
       "    <tr style=\"text-align: right;\">\n",
       "      <th></th>\n",
       "      <th>username</th>\n",
       "      <th>0</th>\n",
       "    </tr>\n",
       "  </thead>\n",
       "  <tbody>\n",
       "    <tr>\n",
       "      <th>4153</th>\n",
       "      <td>Polytetral</td>\n",
       "      <td>1</td>\n",
       "    </tr>\n",
       "  </tbody>\n",
       "</table>\n",
       "</div>"
      ],
      "text/plain": [
       "        username  0\n",
       "4153  Polytetral  1"
      ]
     },
     "execution_count": 33,
     "metadata": {},
     "output_type": "execute_result"
    }
   ],
   "source": [
    "label_table[label_table['username'] == 'Polytetral']"
   ]
  },
  {
   "cell_type": "code",
   "execution_count": 27,
   "metadata": {},
   "outputs": [],
   "source": [
    "label_table = label_table.reset_index()"
   ]
  },
  {
   "cell_type": "code",
   "execution_count": 28,
   "metadata": {},
   "outputs": [
    {
     "data": {
      "text/html": [
       "<div>\n",
       "<style scoped>\n",
       "    .dataframe tbody tr th:only-of-type {\n",
       "        vertical-align: middle;\n",
       "    }\n",
       "\n",
       "    .dataframe tbody tr th {\n",
       "        vertical-align: top;\n",
       "    }\n",
       "\n",
       "    .dataframe thead th {\n",
       "        text-align: right;\n",
       "    }\n",
       "</style>\n",
       "<table border=\"1\" class=\"dataframe\">\n",
       "  <thead>\n",
       "    <tr style=\"text-align: right;\">\n",
       "      <th></th>\n",
       "      <th>username</th>\n",
       "      <th>0</th>\n",
       "    </tr>\n",
       "  </thead>\n",
       "  <tbody>\n",
       "    <tr>\n",
       "      <th>0</th>\n",
       "      <td>- A n l u -</td>\n",
       "      <td>1</td>\n",
       "    </tr>\n",
       "    <tr>\n",
       "      <th>1</th>\n",
       "      <td>- A s u s a -</td>\n",
       "      <td>2</td>\n",
       "    </tr>\n",
       "    <tr>\n",
       "      <th>2</th>\n",
       "      <td>- Abby -</td>\n",
       "      <td>1</td>\n",
       "    </tr>\n",
       "    <tr>\n",
       "      <th>3</th>\n",
       "      <td>- AlKaid -</td>\n",
       "      <td>0</td>\n",
       "    </tr>\n",
       "    <tr>\n",
       "      <th>4</th>\n",
       "      <td>- Astaroth -</td>\n",
       "      <td>1</td>\n",
       "    </tr>\n",
       "    <tr>\n",
       "      <th>...</th>\n",
       "      <td>...</td>\n",
       "      <td>...</td>\n",
       "    </tr>\n",
       "    <tr>\n",
       "      <th>9075</th>\n",
       "      <td>zyf666</td>\n",
       "      <td>0</td>\n",
       "    </tr>\n",
       "    <tr>\n",
       "      <th>9076</th>\n",
       "      <td>zzfzzzcr</td>\n",
       "      <td>1</td>\n",
       "    </tr>\n",
       "    <tr>\n",
       "      <th>9077</th>\n",
       "      <td>zznith</td>\n",
       "      <td>1</td>\n",
       "    </tr>\n",
       "    <tr>\n",
       "      <th>9078</th>\n",
       "      <td>zzyzheng</td>\n",
       "      <td>0</td>\n",
       "    </tr>\n",
       "    <tr>\n",
       "      <th>9079</th>\n",
       "      <td>zzzz</td>\n",
       "      <td>2</td>\n",
       "    </tr>\n",
       "  </tbody>\n",
       "</table>\n",
       "<p>9080 rows × 2 columns</p>\n",
       "</div>"
      ],
      "text/plain": [
       "           username  0\n",
       "0       - A n l u -  1\n",
       "1     - A s u s a -  2\n",
       "2          - Abby -  1\n",
       "3        - AlKaid -  0\n",
       "4      - Astaroth -  1\n",
       "...             ... ..\n",
       "9075         zyf666  0\n",
       "9076       zzfzzzcr  1\n",
       "9077         zznith  1\n",
       "9078       zzyzheng  0\n",
       "9079           zzzz  2\n",
       "\n",
       "[9080 rows x 2 columns]"
      ]
     },
     "execution_count": 28,
     "metadata": {},
     "output_type": "execute_result"
    }
   ],
   "source": [
    "label_table"
   ]
  },
  {
   "cell_type": "code",
   "execution_count": 31,
   "metadata": {},
   "outputs": [
    {
     "data": {
      "image/png": "[encoded data removed]",
      "text/plain": [
       "<Figure size 432x288 with 1 Axes>"
      ]
     },
     "metadata": {
      "needs_background": "light"
     },
     "output_type": "display_data"
    }
   ],
   "source": [
    "plt.scatter(*pca_res[labels == 0].T)\n",
    "plt.scatter(*pca_res[labels == 1].T)\n",
    "plt.scatter(*pca_res[labels == 2].T)\n",
    "plt.show()"
   ]
  },
  {
   "cell_type": "code",
   "execution_count": 41,
   "metadata": {},
   "outputs": [
    {
     "data": {
      "text/plain": [
       "array([[ 2.3695415 , -0.58954681]])"
      ]
     },
     "execution_count": 41,
     "metadata": {},
     "output_type": "execute_result"
    }
   ],
   "source": [
    "pca_res[label_table[label_table['username'] == 'DemiFiendSMT'].index]"
   ]
  },
  {
   "cell_type": "code",
   "execution_count": 59,
   "metadata": {},
   "outputs": [],
   "source": [
    "beatmap_idx = pca_model.components_.argsort(axis=1)[:, ::-1][:, :10]"
   ]
  },
  {
   "cell_type": "code",
   "execution_count": 60,
   "metadata": {},
   "outputs": [
    {
     "name": "stderr",
     "output_type": "stream",
     "text": [
      "C:\\Users\\HP\\AppData\\Local\\Temp\\ipykernel_9864\\930080564.py:1: FutureWarning: Support for multi-dimensional indexing (e.g. `obj[:, None]`) is deprecated and will be removed in a future version.  Convert to a numpy array before indexing instead.\n",
      "  bm_ids = ranked_table.columns[beatmap_idx]\n"
     ]
    }
   ],
   "source": [
    "bm_ids = ranked_table.columns[beatmap_idx]"
   ]
  },
  {
   "cell_type": "code",
   "execution_count": 61,
   "metadata": {},
   "outputs": [
    {
     "data": {
      "text/plain": [
       "array([['DJ Sharpnel - Lolit Speed (IcyWorld) [Marathon]',\n",
       "        'pencil - little (girl) goodbye.rah (Elekton) [parting [1.2x Rate]]',\n",
       "        'Akiyama Uni - Odoru Mizushibuki (Shoegazer) [Macabre 1.1x (152bpm)]',\n",
       "        'Yu_Asahina - Trickstarz (hi19hi19) [STEPMANIA]',\n",
       "        'Neil Cicierega - Wallspin (Pope Gadget) [Wonderround]',\n",
       "        'Camellia - K.Y.A.F.A. (Evening) [UNSTOPPABLE DOMINATION]',\n",
       "        'Tatsh - IMAGE -MATERIAL- <Version 0> (Fullerene-) [Refraction]',\n",
       "        \"LeaF - LeaF Style Super * Shredder (Cherry Blossom) [Fullerene's 4K Shredder]\",\n",
       "        'Camellia - GHOST (Lynessa) [x1.1]',\n",
       "        'Terminal 11 - Staple On Smile (hi19hi19) [Extreme]'],\n",
       "       ['Sharkey & Arkitech - Quadraphinix (Xay) [Challenge 1.5x]',\n",
       "        'Silentroom - Nhelv (Guilhermeziat) [Silent]',\n",
       "        'goreshit - slavik goblins (stankill) [Extreme]',\n",
       "        'The Ghost of 3.13 - Forgotten (Shoegazer) [Extra (350bpm)]',\n",
       "        'Camellia - GHOST (Lynessa) [x1.3]',\n",
       "        'Dev/Null - Rave 7 (hi19hi19) [Insane]',\n",
       "        'Evoke - Edison (Elekton) [Challenge 1.3]',\n",
       "        'Sharkey & Arkitech - Quadraphinix (Xay) [Challenge 1.4x]',\n",
       "        'Se-U-Ra - LOSHAXI (Elekton) [alonewithi [1.3x Rate]]',\n",
       "        'Akiyama Uni - Odoru Mizushibuki (Shoegazer) [Macabre 1.3x (179bpm)]']],\n",
       "      dtype='<U77')"
      ]
     },
     "execution_count": 61,
     "metadata": {},
     "output_type": "execute_result"
    }
   ],
   "source": [
    "@np.vectorize\n",
    "def get_metadata(id):\n",
    "    return beatmaps_list[beatmaps_list['beatmap_id'] == id]['artist - title'].values[0]\n",
    "\n",
    "get_metadata(bm_ids)"
   ]
  },
  {
   "cell_type": "code",
   "execution_count": null,
   "metadata": {},
   "outputs": [],
   "source": []
  }
 ],
 "metadata": {
  "kernelspec": {
   "display_name": "Python 3.10.4 64-bit",
   "language": "python",
   "name": "python3"
  },
  "language_info": {
   "codemirror_mode": {
    "name": "ipython",
    "version": 3
   },
   "file_extension": ".py",
   "mimetype": "text/x-python",
   "name": "python",
   "nbconvert_exporter": "python",
   "pygments_lexer": "ipython3",
   "version": "3.10.4"
  },
  "orig_nbformat": 4,
  "vscode": {
   "interpreter": {
    "hash": "a9cff5a362bc38ef45d817ae74b1af54d6a076e3d773891282bce078b815ba34"
   }
  }
 },
 "nbformat": 4,
 "nbformat_minor": 2
}
