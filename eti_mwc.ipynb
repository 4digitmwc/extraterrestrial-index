{
 "cells": [
  {
   "cell_type": "code",
   "execution_count": 1,
   "metadata": {},
   "outputs": [],
   "source": [
    "import pandas as pd\n",
    "import numpy as np\n",
    "import matplotlib.pyplot as plt\n",
    "import sqlite3"
   ]
  },
  {
   "cell_type": "code",
   "execution_count": 2,
   "metadata": {},
   "outputs": [],
   "source": [
    "import warnings\n",
    "warnings.filterwarnings(action='ignore')"
   ]
  },
  {
   "cell_type": "code",
   "execution_count": 3,
   "metadata": {},
   "outputs": [],
   "source": [
    "_4dm4_data_fp = 'dataset/4dm4.db'\n",
    "mwc2021_data_fp = 'dataset/mwc2021.db'\n",
    "mwc2022_data_fp = 'dataset/mwc2022.db'\n",
    "\n",
    "_4dm4_data = sqlite3.connect(_4dm4_data_fp)\n",
    "mwc2021_data = sqlite3.connect(mwc2021_data_fp)\n",
    "mwc2022_data = sqlite3.connect(mwc2022_data_fp)"
   ]
  },
  {
   "cell_type": "code",
   "execution_count": 4,
   "metadata": {},
   "outputs": [],
   "source": [
    "mwc2022_query = \"\"\"SELECT players.player_id, players.player_name, \n",
    "beatmaps.beatmap_id, beatmaps.beatmap_typetag, beatmaps.round,\n",
    "scores.score \n",
    "FROM scores JOIN players ON scores.player_id = players.player_id\n",
    "JOIN beatmaps ON scores.beatmap_id = beatmaps.beatmap_id\"\"\"\n",
    "mwc2021_query = mwc2022_query.replace(\"players\", \"player_data\").replace(\"scores\", \"player_scores\")\n",
    "_4dm4_sql = \"\"\"SELECT * FROM scores WHERE beatmap_type != \\\"SV\\\"\"\"\""
   ]
  },
  {
   "cell_type": "code",
   "execution_count": 5,
   "metadata": {},
   "outputs": [],
   "source": [
    "mwc2021_dataset = pd.read_sql(mwc2021_query, mwc2021_data)\n",
    "mwc2022_dataset = pd.read_sql(mwc2022_query, mwc2022_data)\n",
    "_4dm4_dataset = pd.read_sql(_4dm4_sql, _4dm4_data)"
   ]
  },
  {
   "cell_type": "code",
   "execution_count": 6,
   "metadata": {},
   "outputs": [],
   "source": [
    "mwc2021_dataset['beatmap_typetag'] = mwc2021_dataset['beatmap_typetag'].apply(lambda x: x[:2])\n",
    "mwc2022_dataset['beatmap_typetag'] = mwc2022_dataset['beatmap_typetag'].apply(lambda x: x[:2])"
   ]
  },
  {
   "cell_type": "code",
   "execution_count": 7,
   "metadata": {},
   "outputs": [],
   "source": [
    "def logit(x):\n",
    "    return np.log(x / (1e6 - x))\n",
    "\n",
    "mwc2021_dataset['score_logit'] = mwc2021_dataset['score'].apply(logit)\n",
    "mwc2022_dataset['score_logit'] = mwc2022_dataset['score'].apply(logit)"
   ]
  },
  {
   "cell_type": "code",
   "execution_count": 8,
   "metadata": {},
   "outputs": [],
   "source": [
    "mwc2021_dataset = mwc2021_dataset.rename({'beatmap_typetag': 'beatmap_type', 'beatmap_id': 'beatmap_tag'}, axis=1)\n",
    "mwc2022_dataset = mwc2022_dataset.rename({'beatmap_typetag': 'beatmap_type', 'beatmap_id': 'beatmap_tag'}, axis=1)"
   ]
  },
  {
   "cell_type": "code",
   "execution_count": 9,
   "metadata": {},
   "outputs": [],
   "source": [
    "from utils.etimodel import ETIModel, GeneralizedETIModel\n",
    "\n",
    "mwc2021_model = GeneralizedETIModel(_4dm4_dataset, ['RC', 'HB', 'LN'], l1_alpha=0, l2_alpha=1)\n",
    "mwc2022_model = GeneralizedETIModel(_4dm4_dataset, ['RC', 'HB', 'LN'], l1_alpha=0, l2_alpha=1)"
   ]
  },
  {
   "cell_type": "code",
   "execution_count": 10,
   "metadata": {},
   "outputs": [],
   "source": [
    "mwc2021_model.fit_regression(mwc2021_dataset)"
   ]
  },
  {
   "cell_type": "code",
   "execution_count": 11,
   "metadata": {},
   "outputs": [],
   "source": [
    "mwc2022_model.fit_regression(mwc2022_dataset)"
   ]
  },
  {
   "cell_type": "code",
   "execution_count": 12,
   "metadata": {},
   "outputs": [],
   "source": [
    "_4dm4_players = _4dm4_dataset['player_name'].unique()\n",
    "mwc2021_players = mwc2021_dataset['player_name'].unique()\n",
    "mwc2022_players = mwc2022_dataset['player_name'].unique()"
   ]
  },
  {
   "cell_type": "code",
   "execution_count": 13,
   "metadata": {},
   "outputs": [],
   "source": [
    "intersect_mwc2021 = np.intersect1d(_4dm4_players, mwc2021_players)\n",
    "intersect_mwc2022 = np.intersect1d(_4dm4_players, mwc2022_players)"
   ]
  },
  {
   "cell_type": "code",
   "execution_count": 14,
   "metadata": {},
   "outputs": [],
   "source": [
    "mwc2021_eti = mwc2021_model.transform_eti(mwc2021_dataset)\n",
    "mwc2022_eti = mwc2022_model.transform_eti(mwc2022_dataset)"
   ]
  },
  {
   "cell_type": "code",
   "execution_count": 15,
   "metadata": {},
   "outputs": [],
   "source": [
    "mwc2021_eti['4dm4'] = mwc2021_model.predict(mwc2021_dataset)\n",
    "mwc2022_eti['4dm4'] = mwc2022_model.predict(mwc2022_dataset)"
   ]
  },
  {
   "cell_type": "code",
   "execution_count": 16,
   "metadata": {},
   "outputs": [],
   "source": [
    "_4dm4_eti = mwc2021_model._4dm_eti()"
   ]
  },
  {
   "cell_type": "code",
   "execution_count": 17,
   "metadata": {},
   "outputs": [],
   "source": [
    "_4dm4_eti['4dm4'] = _4dm4_eti.mean(axis=1)"
   ]
  },
  {
   "cell_type": "code",
   "execution_count": 18,
   "metadata": {},
   "outputs": [
    {
     "data": {
      "text/html": [
       "<div>\n",
       "<style scoped>\n",
       "    .dataframe tbody tr th:only-of-type {\n",
       "        vertical-align: middle;\n",
       "    }\n",
       "\n",
       "    .dataframe tbody tr th {\n",
       "        vertical-align: top;\n",
       "    }\n",
       "\n",
       "    .dataframe thead th {\n",
       "        text-align: right;\n",
       "    }\n",
       "</style>\n",
       "<table border=\"1\" class=\"dataframe\">\n",
       "  <thead>\n",
       "    <tr style=\"text-align: right;\">\n",
       "      <th></th>\n",
       "      <th>RC</th>\n",
       "      <th>HB</th>\n",
       "      <th>LN</th>\n",
       "      <th>4dm4</th>\n",
       "    </tr>\n",
       "  </thead>\n",
       "  <tbody>\n",
       "    <tr>\n",
       "      <th>drag_</th>\n",
       "      <td>-2.203943</td>\n",
       "      <td>-1.922962</td>\n",
       "      <td>-1.848750</td>\n",
       "      <td>-1.991885</td>\n",
       "    </tr>\n",
       "    <tr>\n",
       "      <th>JPBenedictGame</th>\n",
       "      <td>-2.034906</td>\n",
       "      <td>-1.485538</td>\n",
       "      <td>-1.881729</td>\n",
       "      <td>-1.800725</td>\n",
       "    </tr>\n",
       "    <tr>\n",
       "      <th>iVALORUS</th>\n",
       "      <td>-2.368395</td>\n",
       "      <td>-1.628269</td>\n",
       "      <td>-2.113531</td>\n",
       "      <td>-2.036732</td>\n",
       "    </tr>\n",
       "    <tr>\n",
       "      <th>BL5</th>\n",
       "      <td>-1.515542</td>\n",
       "      <td>-1.421774</td>\n",
       "      <td>-1.379444</td>\n",
       "      <td>-1.438920</td>\n",
       "    </tr>\n",
       "    <tr>\n",
       "      <th>-Tebo-</th>\n",
       "      <td>1.049462</td>\n",
       "      <td>0.151761</td>\n",
       "      <td>-1.019061</td>\n",
       "      <td>0.060721</td>\n",
       "    </tr>\n",
       "    <tr>\n",
       "      <th>...</th>\n",
       "      <td>...</td>\n",
       "      <td>...</td>\n",
       "      <td>...</td>\n",
       "      <td>...</td>\n",
       "    </tr>\n",
       "    <tr>\n",
       "      <th>oliverq</th>\n",
       "      <td>-1.845866</td>\n",
       "      <td>-1.815909</td>\n",
       "      <td>-2.073226</td>\n",
       "      <td>-1.911667</td>\n",
       "    </tr>\n",
       "    <tr>\n",
       "      <th>TheFunk</th>\n",
       "      <td>-2.227620</td>\n",
       "      <td>-1.522535</td>\n",
       "      <td>-2.290171</td>\n",
       "      <td>-2.013442</td>\n",
       "    </tr>\n",
       "    <tr>\n",
       "      <th>Herarudo</th>\n",
       "      <td>-2.308657</td>\n",
       "      <td>-1.922962</td>\n",
       "      <td>-2.120954</td>\n",
       "      <td>-2.117524</td>\n",
       "    </tr>\n",
       "    <tr>\n",
       "      <th>[Antonio]</th>\n",
       "      <td>-2.664934</td>\n",
       "      <td>-1.588431</td>\n",
       "      <td>-2.290171</td>\n",
       "      <td>-2.181179</td>\n",
       "    </tr>\n",
       "    <tr>\n",
       "      <th>NotXbxx</th>\n",
       "      <td>-2.485708</td>\n",
       "      <td>-1.922962</td>\n",
       "      <td>-2.290171</td>\n",
       "      <td>-2.232947</td>\n",
       "    </tr>\n",
       "  </tbody>\n",
       "</table>\n",
       "<p>200 rows × 4 columns</p>\n",
       "</div>"
      ],
      "text/plain": [
       "                      RC        HB        LN      4dm4\n",
       "drag_          -2.203943 -1.922962 -1.848750 -1.991885\n",
       "JPBenedictGame -2.034906 -1.485538 -1.881729 -1.800725\n",
       "iVALORUS       -2.368395 -1.628269 -2.113531 -2.036732\n",
       "BL5            -1.515542 -1.421774 -1.379444 -1.438920\n",
       "-Tebo-          1.049462  0.151761 -1.019061  0.060721\n",
       "...                  ...       ...       ...       ...\n",
       "oliverq        -1.845866 -1.815909 -2.073226 -1.911667\n",
       "TheFunk        -2.227620 -1.522535 -2.290171 -2.013442\n",
       "Herarudo       -2.308657 -1.922962 -2.120954 -2.117524\n",
       "[Antonio]      -2.664934 -1.588431 -2.290171 -2.181179\n",
       "NotXbxx        -2.485708 -1.922962 -2.290171 -2.232947\n",
       "\n",
       "[200 rows x 4 columns]"
      ]
     },
     "execution_count": 18,
     "metadata": {},
     "output_type": "execute_result"
    }
   ],
   "source": [
    "_4dm4_eti"
   ]
  },
  {
   "cell_type": "code",
   "execution_count": 24,
   "metadata": {},
   "outputs": [],
   "source": [
    "def plot_category(mwc_eti, players, category):\n",
    "    plt.scatter(mwc_eti.loc[players][category], _4dm4_eti.loc[players]['4dm4'])"
   ]
  },
  {
   "cell_type": "code",
   "execution_count": 25,
   "metadata": {},
   "outputs": [
    {
     "data": {
      "image/png": "[encoded data removed]",
      "text/plain": [
       "<Figure size 432x288 with 1 Axes>"
      ]
     },
     "metadata": {
      "needs_background": "light"
     },
     "output_type": "display_data"
    }
   ],
   "source": [
    "plot_category(mwc2022_eti, intersect_mwc2022, 'RC')"
   ]
  },
  {
   "cell_type": "code",
   "execution_count": 26,
   "metadata": {},
   "outputs": [
    {
     "data": {
      "image/png": "[encoded data removed]",
      "text/plain": [
       "<Figure size 432x288 with 1 Axes>"
      ]
     },
     "metadata": {
      "needs_background": "light"
     },
     "output_type": "display_data"
    }
   ],
   "source": [
    "plot_category(mwc2022_eti, intersect_mwc2022, 'HB')"
   ]
  },
  {
   "cell_type": "code",
   "execution_count": 27,
   "metadata": {},
   "outputs": [
    {
     "data": {
      "image/png": "[encoded data removed]",
      "text/plain": [
       "<Figure size 432x288 with 1 Axes>"
      ]
     },
     "metadata": {
      "needs_background": "light"
     },
     "output_type": "display_data"
    }
   ],
   "source": [
    "plot_category(mwc2022_eti, intersect_mwc2022, 'LN')"
   ]
  },
  {
   "cell_type": "code",
   "execution_count": 28,
   "metadata": {},
   "outputs": [
    {
     "data": {
      "image/png": "[encoded data removed]",
      "text/plain": [
       "<Figure size 432x288 with 1 Axes>"
      ]
     },
     "metadata": {
      "needs_background": "light"
     },
     "output_type": "display_data"
    }
   ],
   "source": [
    "plot_category(mwc2021_eti, intersect_mwc2021, 'RC')"
   ]
  },
  {
   "cell_type": "code",
   "execution_count": 29,
   "metadata": {},
   "outputs": [
    {
     "data": {
      "image/png": "[encoded data removed]",
      "text/plain": [
       "<Figure size 432x288 with 1 Axes>"
      ]
     },
     "metadata": {
      "needs_background": "light"
     },
     "output_type": "display_data"
    }
   ],
   "source": [
    "plot_category(mwc2021_eti, intersect_mwc2021, 'HB')"
   ]
  },
  {
   "cell_type": "code",
   "execution_count": 30,
   "metadata": {},
   "outputs": [
    {
     "data": {
      "image/png": "[encoded data removed]",
      "text/plain": [
       "<Figure size 432x288 with 1 Axes>"
      ]
     },
     "metadata": {
      "needs_background": "light"
     },
     "output_type": "display_data"
    }
   ],
   "source": [
    "plot_category(mwc2021_eti, intersect_mwc2021, 'LN')"
   ]
  },
  {
   "cell_type": "code",
   "execution_count": 32,
   "metadata": {},
   "outputs": [
    {
     "data": {
      "text/plain": [
       "array([[1.        , 0.32688046, 0.45738266, 0.60158948],\n",
       "       [0.32688046, 1.        , 0.49097963, 0.67672905],\n",
       "       [0.45738266, 0.49097963, 1.        , 0.43178267],\n",
       "       [0.60158948, 0.67672905, 0.43178267, 1.        ]])"
      ]
     },
     "execution_count": 32,
     "metadata": {},
     "output_type": "execute_result"
    }
   ],
   "source": [
    "x = mwc2022_eti.loc[intersect_mwc2022][['RC', 'HB', 'LN']].values\n",
    "y = _4dm4_eti.loc[intersect_mwc2022]['4dm4']\n",
    "\n",
    "np.corrcoef(x.T, y)"
   ]
  },
  {
   "cell_type": "code",
   "execution_count": 33,
   "metadata": {},
   "outputs": [
    {
     "data": {
      "text/plain": [
       "array([[ 1.        ,  0.16481461, -0.26820072,  0.04550392],\n",
       "       [ 0.16481461,  1.        ,  0.77810453,  0.49539654],\n",
       "       [-0.26820072,  0.77810453,  1.        ,  0.67577757],\n",
       "       [ 0.04550392,  0.49539654,  0.67577757,  1.        ]])"
      ]
     },
     "execution_count": 33,
     "metadata": {},
     "output_type": "execute_result"
    }
   ],
   "source": [
    "x = mwc2021_eti.loc[intersect_mwc2021][['RC', 'HB', 'LN']].values\n",
    "y = _4dm4_eti.loc[intersect_mwc2021]['4dm4']\n",
    "\n",
    "np.corrcoef(x.T, y)"
   ]
  },
  {
   "cell_type": "code",
   "execution_count": 40,
   "metadata": {},
   "outputs": [
    {
     "data": {
      "text/html": [
       "<div>\n",
       "<style scoped>\n",
       "    .dataframe tbody tr th:only-of-type {\n",
       "        vertical-align: middle;\n",
       "    }\n",
       "\n",
       "    .dataframe tbody tr th {\n",
       "        vertical-align: top;\n",
       "    }\n",
       "\n",
       "    .dataframe thead th {\n",
       "        text-align: right;\n",
       "    }\n",
       "</style>\n",
       "<table border=\"1\" class=\"dataframe\">\n",
       "  <thead>\n",
       "    <tr style=\"text-align: right;\">\n",
       "      <th></th>\n",
       "      <th>RC</th>\n",
       "      <th>HB</th>\n",
       "      <th>LN</th>\n",
       "      <th>4dm4</th>\n",
       "    </tr>\n",
       "  </thead>\n",
       "  <tbody>\n",
       "    <tr>\n",
       "      <th>cheewee10</th>\n",
       "      <td>6.036247</td>\n",
       "      <td>6.312968</td>\n",
       "      <td>8.545633</td>\n",
       "      <td>18.018527</td>\n",
       "    </tr>\n",
       "    <tr>\n",
       "      <th>CrewK</th>\n",
       "      <td>8.203799</td>\n",
       "      <td>5.973097</td>\n",
       "      <td>5.615798</td>\n",
       "      <td>14.866764</td>\n",
       "    </tr>\n",
       "    <tr>\n",
       "      <th>SillyFangirl</th>\n",
       "      <td>8.462638</td>\n",
       "      <td>9.250862</td>\n",
       "      <td>3.390216</td>\n",
       "      <td>13.427519</td>\n",
       "    </tr>\n",
       "    <tr>\n",
       "      <th>xxxxxx2800</th>\n",
       "      <td>6.578387</td>\n",
       "      <td>3.690497</td>\n",
       "      <td>4.952869</td>\n",
       "      <td>12.957597</td>\n",
       "    </tr>\n",
       "    <tr>\n",
       "      <th>Lothus</th>\n",
       "      <td>7.901374</td>\n",
       "      <td>7.898577</td>\n",
       "      <td>3.352533</td>\n",
       "      <td>12.797816</td>\n",
       "    </tr>\n",
       "    <tr>\n",
       "      <th>-Aishiteru-</th>\n",
       "      <td>6.954726</td>\n",
       "      <td>3.137075</td>\n",
       "      <td>4.607196</td>\n",
       "      <td>12.430832</td>\n",
       "    </tr>\n",
       "    <tr>\n",
       "      <th>Amerom</th>\n",
       "      <td>-0.826117</td>\n",
       "      <td>7.151736</td>\n",
       "      <td>4.611012</td>\n",
       "      <td>12.270062</td>\n",
       "    </tr>\n",
       "    <tr>\n",
       "      <th>TriDoanGaming</th>\n",
       "      <td>3.345627</td>\n",
       "      <td>3.470016</td>\n",
       "      <td>4.426408</td>\n",
       "      <td>11.606237</td>\n",
       "    </tr>\n",
       "    <tr>\n",
       "      <th>Eliminate</th>\n",
       "      <td>7.034746</td>\n",
       "      <td>4.572104</td>\n",
       "      <td>3.307227</td>\n",
       "      <td>11.408439</td>\n",
       "    </tr>\n",
       "    <tr>\n",
       "      <th>jhleetgirl</th>\n",
       "      <td>6.214631</td>\n",
       "      <td>4.405338</td>\n",
       "      <td>3.179980</td>\n",
       "      <td>11.034397</td>\n",
       "    </tr>\n",
       "    <tr>\n",
       "      <th>Onta_Bekasi</th>\n",
       "      <td>-1.681815</td>\n",
       "      <td>2.475179</td>\n",
       "      <td>4.791467</td>\n",
       "      <td>10.678945</td>\n",
       "    </tr>\n",
       "    <tr>\n",
       "      <th>IJosephI[GS]</th>\n",
       "      <td>2.649731</td>\n",
       "      <td>1.973554</td>\n",
       "      <td>3.914142</td>\n",
       "      <td>10.337084</td>\n",
       "    </tr>\n",
       "    <tr>\n",
       "      <th>Auraah</th>\n",
       "      <td>1.780267</td>\n",
       "      <td>1.971879</td>\n",
       "      <td>4.021793</td>\n",
       "      <td>10.288907</td>\n",
       "    </tr>\n",
       "    <tr>\n",
       "      <th>CPT_Sivelia</th>\n",
       "      <td>1.288314</td>\n",
       "      <td>1.358531</td>\n",
       "      <td>3.763567</td>\n",
       "      <td>9.669940</td>\n",
       "    </tr>\n",
       "    <tr>\n",
       "      <th>Reyi</th>\n",
       "      <td>2.064627</td>\n",
       "      <td>2.301822</td>\n",
       "      <td>3.314760</td>\n",
       "      <td>9.624060</td>\n",
       "    </tr>\n",
       "    <tr>\n",
       "      <th>[Crz]Caicium</th>\n",
       "      <td>1.218660</td>\n",
       "      <td>3.790204</td>\n",
       "      <td>2.713378</td>\n",
       "      <td>9.261119</td>\n",
       "    </tr>\n",
       "    <tr>\n",
       "      <th>Tuyet</th>\n",
       "      <td>-0.266133</td>\n",
       "      <td>0.915825</td>\n",
       "      <td>3.676717</td>\n",
       "      <td>9.099548</td>\n",
       "    </tr>\n",
       "    <tr>\n",
       "      <th>Silhoueska Elze</th>\n",
       "      <td>-1.342756</td>\n",
       "      <td>1.094349</td>\n",
       "      <td>3.616839</td>\n",
       "      <td>8.874170</td>\n",
       "    </tr>\n",
       "    <tr>\n",
       "      <th>XxNewson1234xX</th>\n",
       "      <td>0.499471</td>\n",
       "      <td>0.492542</td>\n",
       "      <td>3.416555</td>\n",
       "      <td>8.797857</td>\n",
       "    </tr>\n",
       "    <tr>\n",
       "      <th>[GS]Myuka</th>\n",
       "      <td>4.684657</td>\n",
       "      <td>1.399550</td>\n",
       "      <td>1.985835</td>\n",
       "      <td>8.262916</td>\n",
       "    </tr>\n",
       "  </tbody>\n",
       "</table>\n",
       "</div>"
      ],
      "text/plain": [
       "                       RC        HB        LN       4dm4\n",
       "cheewee10        6.036247  6.312968  8.545633  18.018527\n",
       "CrewK            8.203799  5.973097  5.615798  14.866764\n",
       "SillyFangirl     8.462638  9.250862  3.390216  13.427519\n",
       "xxxxxx2800       6.578387  3.690497  4.952869  12.957597\n",
       "Lothus           7.901374  7.898577  3.352533  12.797816\n",
       "-Aishiteru-      6.954726  3.137075  4.607196  12.430832\n",
       "Amerom          -0.826117  7.151736  4.611012  12.270062\n",
       "TriDoanGaming    3.345627  3.470016  4.426408  11.606237\n",
       "Eliminate        7.034746  4.572104  3.307227  11.408439\n",
       "jhleetgirl       6.214631  4.405338  3.179980  11.034397\n",
       "Onta_Bekasi     -1.681815  2.475179  4.791467  10.678945\n",
       "IJosephI[GS]     2.649731  1.973554  3.914142  10.337084\n",
       "Auraah           1.780267  1.971879  4.021793  10.288907\n",
       "CPT_Sivelia      1.288314  1.358531  3.763567   9.669940\n",
       "Reyi             2.064627  2.301822  3.314760   9.624060\n",
       "[Crz]Caicium     1.218660  3.790204  2.713378   9.261119\n",
       "Tuyet           -0.266133  0.915825  3.676717   9.099548\n",
       "Silhoueska Elze -1.342756  1.094349  3.616839   8.874170\n",
       "XxNewson1234xX   0.499471  0.492542  3.416555   8.797857\n",
       "[GS]Myuka        4.684657  1.399550  1.985835   8.262916"
      ]
     },
     "execution_count": 40,
     "metadata": {},
     "output_type": "execute_result"
    }
   ],
   "source": [
    "mwc2021_eti.sort_values(by='4dm4', ascending=False).head(20)"
   ]
  },
  {
   "cell_type": "code",
   "execution_count": 37,
   "metadata": {},
   "outputs": [
    {
     "data": {
      "text/html": [
       "<div>\n",
       "<style scoped>\n",
       "    .dataframe tbody tr th:only-of-type {\n",
       "        vertical-align: middle;\n",
       "    }\n",
       "\n",
       "    .dataframe tbody tr th {\n",
       "        vertical-align: top;\n",
       "    }\n",
       "\n",
       "    .dataframe thead th {\n",
       "        text-align: right;\n",
       "    }\n",
       "</style>\n",
       "<table border=\"1\" class=\"dataframe\">\n",
       "  <thead>\n",
       "    <tr style=\"text-align: right;\">\n",
       "      <th></th>\n",
       "      <th>RC</th>\n",
       "      <th>HB</th>\n",
       "      <th>LN</th>\n",
       "      <th>4dm4</th>\n",
       "    </tr>\n",
       "  </thead>\n",
       "  <tbody>\n",
       "    <tr>\n",
       "      <th>SnowScent</th>\n",
       "      <td>13.566323</td>\n",
       "      <td>11.649826</td>\n",
       "      <td>4.282944</td>\n",
       "      <td>23.839939</td>\n",
       "    </tr>\n",
       "    <tr>\n",
       "      <th>GripWarrior</th>\n",
       "      <td>11.197839</td>\n",
       "      <td>7.482314</td>\n",
       "      <td>11.631462</td>\n",
       "      <td>22.507524</td>\n",
       "    </tr>\n",
       "    <tr>\n",
       "      <th>[Crz]Mitter</th>\n",
       "      <td>12.583247</td>\n",
       "      <td>2.898507</td>\n",
       "      <td>-0.248809</td>\n",
       "      <td>15.996090</td>\n",
       "    </tr>\n",
       "    <tr>\n",
       "      <th>bojii</th>\n",
       "      <td>8.406981</td>\n",
       "      <td>4.227826</td>\n",
       "      <td>4.035570</td>\n",
       "      <td>15.401815</td>\n",
       "    </tr>\n",
       "    <tr>\n",
       "      <th>Lothus</th>\n",
       "      <td>6.385503</td>\n",
       "      <td>9.258995</td>\n",
       "      <td>-0.423595</td>\n",
       "      <td>15.138012</td>\n",
       "    </tr>\n",
       "    <tr>\n",
       "      <th>SillyFangirl</th>\n",
       "      <td>7.670597</td>\n",
       "      <td>4.131022</td>\n",
       "      <td>3.208535</td>\n",
       "      <td>14.460601</td>\n",
       "    </tr>\n",
       "    <tr>\n",
       "      <th>gaesol</th>\n",
       "      <td>3.763166</td>\n",
       "      <td>4.779078</td>\n",
       "      <td>7.265180</td>\n",
       "      <td>13.564021</td>\n",
       "    </tr>\n",
       "    <tr>\n",
       "      <th>Orost</th>\n",
       "      <td>11.113713</td>\n",
       "      <td>-1.308088</td>\n",
       "      <td>1.789969</td>\n",
       "      <td>13.176577</td>\n",
       "    </tr>\n",
       "    <tr>\n",
       "      <th>Poca</th>\n",
       "      <td>2.644928</td>\n",
       "      <td>6.447482</td>\n",
       "      <td>5.046070</td>\n",
       "      <td>12.844192</td>\n",
       "    </tr>\n",
       "    <tr>\n",
       "      <th>-Aishiteru-</th>\n",
       "      <td>6.778221</td>\n",
       "      <td>1.598350</td>\n",
       "      <td>2.883705</td>\n",
       "      <td>12.133159</td>\n",
       "    </tr>\n",
       "    <tr>\n",
       "      <th>[LS]Dev</th>\n",
       "      <td>10.262164</td>\n",
       "      <td>-1.368513</td>\n",
       "      <td>-2.131811</td>\n",
       "      <td>10.926864</td>\n",
       "    </tr>\n",
       "    <tr>\n",
       "      <th>Eliminate</th>\n",
       "      <td>6.654651</td>\n",
       "      <td>1.445123</td>\n",
       "      <td>0.013744</td>\n",
       "      <td>10.794219</td>\n",
       "    </tr>\n",
       "    <tr>\n",
       "      <th>Reyi</th>\n",
       "      <td>4.923028</td>\n",
       "      <td>1.015720</td>\n",
       "      <td>2.892758</td>\n",
       "      <td>10.398748</td>\n",
       "    </tr>\n",
       "    <tr>\n",
       "      <th>xxxxxx2800</th>\n",
       "      <td>3.924275</td>\n",
       "      <td>1.892965</td>\n",
       "      <td>3.019405</td>\n",
       "      <td>10.233470</td>\n",
       "    </tr>\n",
       "    <tr>\n",
       "      <th>TingMomentum</th>\n",
       "      <td>3.592951</td>\n",
       "      <td>1.544845</td>\n",
       "      <td>1.437007</td>\n",
       "      <td>9.139312</td>\n",
       "    </tr>\n",
       "    <tr>\n",
       "      <th>4Kenn</th>\n",
       "      <td>2.324039</td>\n",
       "      <td>2.319098</td>\n",
       "      <td>2.148659</td>\n",
       "      <td>8.945207</td>\n",
       "    </tr>\n",
       "    <tr>\n",
       "      <th>Lott</th>\n",
       "      <td>2.213799</td>\n",
       "      <td>0.728214</td>\n",
       "      <td>4.706720</td>\n",
       "      <td>8.930342</td>\n",
       "    </tr>\n",
       "    <tr>\n",
       "      <th>Miyes</th>\n",
       "      <td>4.221619</td>\n",
       "      <td>1.230101</td>\n",
       "      <td>0.071112</td>\n",
       "      <td>8.869609</td>\n",
       "    </tr>\n",
       "    <tr>\n",
       "      <th>cheewee10</th>\n",
       "      <td>-0.684247</td>\n",
       "      <td>3.483555</td>\n",
       "      <td>5.674953</td>\n",
       "      <td>8.819120</td>\n",
       "    </tr>\n",
       "    <tr>\n",
       "      <th>[GS]Myuka</th>\n",
       "      <td>2.455631</td>\n",
       "      <td>1.823002</td>\n",
       "      <td>2.302407</td>\n",
       "      <td>8.805631</td>\n",
       "    </tr>\n",
       "  </tbody>\n",
       "</table>\n",
       "</div>"
      ],
      "text/plain": [
       "                     RC         HB         LN       4dm4\n",
       "SnowScent     13.566323  11.649826   4.282944  23.839939\n",
       "GripWarrior   11.197839   7.482314  11.631462  22.507524\n",
       "[Crz]Mitter   12.583247   2.898507  -0.248809  15.996090\n",
       "bojii          8.406981   4.227826   4.035570  15.401815\n",
       "Lothus         6.385503   9.258995  -0.423595  15.138012\n",
       "SillyFangirl   7.670597   4.131022   3.208535  14.460601\n",
       "gaesol         3.763166   4.779078   7.265180  13.564021\n",
       "Orost         11.113713  -1.308088   1.789969  13.176577\n",
       "Poca           2.644928   6.447482   5.046070  12.844192\n",
       "-Aishiteru-    6.778221   1.598350   2.883705  12.133159\n",
       "[LS]Dev       10.262164  -1.368513  -2.131811  10.926864\n",
       "Eliminate      6.654651   1.445123   0.013744  10.794219\n",
       "Reyi           4.923028   1.015720   2.892758  10.398748\n",
       "xxxxxx2800     3.924275   1.892965   3.019405  10.233470\n",
       "TingMomentum   3.592951   1.544845   1.437007   9.139312\n",
       "4Kenn          2.324039   2.319098   2.148659   8.945207\n",
       "Lott           2.213799   0.728214   4.706720   8.930342\n",
       "Miyes          4.221619   1.230101   0.071112   8.869609\n",
       "cheewee10     -0.684247   3.483555   5.674953   8.819120\n",
       "[GS]Myuka      2.455631   1.823002   2.302407   8.805631"
      ]
     },
     "execution_count": 37,
     "metadata": {},
     "output_type": "execute_result"
    }
   ],
   "source": [
    "mwc2022_eti.sort_values(by='4dm4', ascending=False).head(20)"
   ]
  }
 ],
 "metadata": {
  "kernelspec": {
   "display_name": "Python 3.10.4 64-bit",
   "language": "python",
   "name": "python3"
  },
  "language_info": {
   "codemirror_mode": {
    "name": "ipython",
    "version": 3
   },
   "file_extension": ".py",
   "mimetype": "text/x-python",
   "name": "python",
   "nbconvert_exporter": "python",
   "pygments_lexer": "ipython3",
   "version": "3.10.4"
  },
  "orig_nbformat": 4,
  "vscode": {
   "interpreter": {
    "hash": "a9cff5a362bc38ef45d817ae74b1af54d6a076e3d773891282bce078b815ba34"
   }
  }
 },
 "nbformat": 4,
 "nbformat_minor": 2
}
