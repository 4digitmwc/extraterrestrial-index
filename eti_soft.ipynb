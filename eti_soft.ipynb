{
 "cells": [
  {
   "cell_type": "code",
   "execution_count": 1,
   "metadata": {},
   "outputs": [],
   "source": [
    "import warnings\n",
    "warnings.filterwarnings(action='ignore')"
   ]
  },
  {
   "cell_type": "code",
   "execution_count": 2,
   "metadata": {},
   "outputs": [],
   "source": [
    "import sqlite3\n",
    "import numpy as np\n",
    "import pandas as pd\n",
    "import matplotlib.pyplot as plt"
   ]
  },
  {
   "cell_type": "code",
   "execution_count": 3,
   "metadata": {},
   "outputs": [],
   "source": [
    "_4dm4_data_fp = 'dataset/4dm4.db'\n",
    "soft5_data_fp = 'dataset/soft5.db'\n",
    "soft6_data_fp = 'dataset/soft6.db'\n",
    "\n",
    "_4dm4_data = sqlite3.connect(_4dm4_data_fp)\n",
    "soft5_data = sqlite3.connect(soft5_data_fp)\n",
    "soft6_data = sqlite3.connect(soft6_data_fp)"
   ]
  },
  {
   "cell_type": "code",
   "execution_count": 4,
   "metadata": {},
   "outputs": [],
   "source": [
    "_4dm4_sql = \"\"\"SELECT * FROM scores WHERE beatmap_type != \\\"SV\\\"\"\"\"\n",
    "soft_sql = \"\"\"SELECT players.name as player_name, scores.beatmap_id, mappools.round, mappools.beatmap_type, scores.score\n",
    "FROM scores LEFT JOIN mappools ON (scores.beatmap_id = mappools.beatmap_id)\n",
    "INNER JOIN players ON (scores.player_id = players.id)\"\"\"\n",
    "\n",
    "_4dm4_dataset = pd.read_sql(_4dm4_sql, _4dm4_data)\n",
    "soft5_dataset = pd.read_sql(soft_sql, soft5_data)\n",
    "soft6_dataset = pd.read_sql(soft_sql, soft6_data)"
   ]
  },
  {
   "cell_type": "code",
   "execution_count": 5,
   "metadata": {},
   "outputs": [
    {
     "data": {
      "text/html": [
       "<div>\n",
       "<style scoped>\n",
       "    .dataframe tbody tr th:only-of-type {\n",
       "        vertical-align: middle;\n",
       "    }\n",
       "\n",
       "    .dataframe tbody tr th {\n",
       "        vertical-align: top;\n",
       "    }\n",
       "\n",
       "    .dataframe thead th {\n",
       "        text-align: right;\n",
       "    }\n",
       "</style>\n",
       "<table border=\"1\" class=\"dataframe\">\n",
       "  <thead>\n",
       "    <tr style=\"text-align: right;\">\n",
       "      <th></th>\n",
       "      <th>player_name</th>\n",
       "      <th>round</th>\n",
       "      <th>beatmap_type</th>\n",
       "      <th>beatmap_tag</th>\n",
       "      <th>score</th>\n",
       "      <th>score_logit</th>\n",
       "    </tr>\n",
       "  </thead>\n",
       "  <tbody>\n",
       "    <tr>\n",
       "      <th>0</th>\n",
       "      <td>drag_</td>\n",
       "      <td>Q</td>\n",
       "      <td>RC</td>\n",
       "      <td>1</td>\n",
       "      <td>980590</td>\n",
       "      <td>3.922366</td>\n",
       "    </tr>\n",
       "    <tr>\n",
       "      <th>1</th>\n",
       "      <td>JPBenedictGame</td>\n",
       "      <td>Q</td>\n",
       "      <td>RC</td>\n",
       "      <td>1</td>\n",
       "      <td>991778</td>\n",
       "      <td>4.792686</td>\n",
       "    </tr>\n",
       "    <tr>\n",
       "      <th>2</th>\n",
       "      <td>iVALORUS</td>\n",
       "      <td>Q</td>\n",
       "      <td>RC</td>\n",
       "      <td>1</td>\n",
       "      <td>950399</td>\n",
       "      <td>2.952871</td>\n",
       "    </tr>\n",
       "    <tr>\n",
       "      <th>3</th>\n",
       "      <td>BL5</td>\n",
       "      <td>Q</td>\n",
       "      <td>RC</td>\n",
       "      <td>1</td>\n",
       "      <td>994054</td>\n",
       "      <td>5.119073</td>\n",
       "    </tr>\n",
       "    <tr>\n",
       "      <th>4</th>\n",
       "      <td>-Tebo-</td>\n",
       "      <td>Q</td>\n",
       "      <td>RC</td>\n",
       "      <td>1</td>\n",
       "      <td>994631</td>\n",
       "      <td>5.221730</td>\n",
       "    </tr>\n",
       "    <tr>\n",
       "      <th>...</th>\n",
       "      <td>...</td>\n",
       "      <td>...</td>\n",
       "      <td>...</td>\n",
       "      <td>...</td>\n",
       "      <td>...</td>\n",
       "      <td>...</td>\n",
       "    </tr>\n",
       "    <tr>\n",
       "      <th>2760</th>\n",
       "      <td>MisteurFR</td>\n",
       "      <td>GF</td>\n",
       "      <td>TB</td>\n",
       "      <td>1</td>\n",
       "      <td>932066</td>\n",
       "      <td>2.618867</td>\n",
       "    </tr>\n",
       "    <tr>\n",
       "      <th>2761</th>\n",
       "      <td>Gray Hardrock</td>\n",
       "      <td>GF</td>\n",
       "      <td>TB</td>\n",
       "      <td>1</td>\n",
       "      <td>908730</td>\n",
       "      <td>2.298226</td>\n",
       "    </tr>\n",
       "    <tr>\n",
       "      <th>2762</th>\n",
       "      <td>--Pavin--</td>\n",
       "      <td>GF</td>\n",
       "      <td>TB</td>\n",
       "      <td>1</td>\n",
       "      <td>919303</td>\n",
       "      <td>2.432914</td>\n",
       "    </tr>\n",
       "    <tr>\n",
       "      <th>2763</th>\n",
       "      <td>shokoha</td>\n",
       "      <td>GF</td>\n",
       "      <td>TB</td>\n",
       "      <td>1</td>\n",
       "      <td>910134</td>\n",
       "      <td>2.315272</td>\n",
       "    </tr>\n",
       "    <tr>\n",
       "      <th>2764</th>\n",
       "      <td>iN0SleePz</td>\n",
       "      <td>GF</td>\n",
       "      <td>TB</td>\n",
       "      <td>1</td>\n",
       "      <td>932661</td>\n",
       "      <td>2.628302</td>\n",
       "    </tr>\n",
       "  </tbody>\n",
       "</table>\n",
       "<p>2765 rows × 6 columns</p>\n",
       "</div>"
      ],
      "text/plain": [
       "         player_name round beatmap_type  beatmap_tag   score  score_logit\n",
       "0              drag_     Q           RC            1  980590     3.922366\n",
       "1     JPBenedictGame     Q           RC            1  991778     4.792686\n",
       "2           iVALORUS     Q           RC            1  950399     2.952871\n",
       "3                BL5     Q           RC            1  994054     5.119073\n",
       "4             -Tebo-     Q           RC            1  994631     5.221730\n",
       "...              ...   ...          ...          ...     ...          ...\n",
       "2760       MisteurFR    GF           TB            1  932066     2.618867\n",
       "2761   Gray Hardrock    GF           TB            1  908730     2.298226\n",
       "2762       --Pavin--    GF           TB            1  919303     2.432914\n",
       "2763         shokoha    GF           TB            1  910134     2.315272\n",
       "2764       iN0SleePz    GF           TB            1  932661     2.628302\n",
       "\n",
       "[2765 rows x 6 columns]"
      ]
     },
     "execution_count": 5,
     "metadata": {},
     "output_type": "execute_result"
    }
   ],
   "source": [
    "_4dm4_dataset"
   ]
  },
  {
   "cell_type": "code",
   "execution_count": 6,
   "metadata": {},
   "outputs": [
    {
     "data": {
      "text/html": [
       "<div>\n",
       "<style scoped>\n",
       "    .dataframe tbody tr th:only-of-type {\n",
       "        vertical-align: middle;\n",
       "    }\n",
       "\n",
       "    .dataframe tbody tr th {\n",
       "        vertical-align: top;\n",
       "    }\n",
       "\n",
       "    .dataframe thead th {\n",
       "        text-align: right;\n",
       "    }\n",
       "</style>\n",
       "<table border=\"1\" class=\"dataframe\">\n",
       "  <thead>\n",
       "    <tr style=\"text-align: right;\">\n",
       "      <th></th>\n",
       "      <th>player_name</th>\n",
       "      <th>beatmap_id</th>\n",
       "      <th>round</th>\n",
       "      <th>beatmap_type</th>\n",
       "      <th>score</th>\n",
       "    </tr>\n",
       "  </thead>\n",
       "  <tbody>\n",
       "    <tr>\n",
       "      <th>0</th>\n",
       "      <td>[KN]Lordieee</td>\n",
       "      <td>2121101</td>\n",
       "      <td>PO</td>\n",
       "      <td>HB</td>\n",
       "      <td>980915</td>\n",
       "    </tr>\n",
       "    <tr>\n",
       "      <th>1</th>\n",
       "      <td>[KN]Lordieee</td>\n",
       "      <td>2388838</td>\n",
       "      <td>PO</td>\n",
       "      <td>HB</td>\n",
       "      <td>983744</td>\n",
       "    </tr>\n",
       "    <tr>\n",
       "      <th>2</th>\n",
       "      <td>[KN]Lordieee</td>\n",
       "      <td>3202329</td>\n",
       "      <td>PO</td>\n",
       "      <td>RC</td>\n",
       "      <td>987171</td>\n",
       "    </tr>\n",
       "    <tr>\n",
       "      <th>3</th>\n",
       "      <td>[KN]Lordieee</td>\n",
       "      <td>3392120</td>\n",
       "      <td>PO</td>\n",
       "      <td>RC</td>\n",
       "      <td>957210</td>\n",
       "    </tr>\n",
       "    <tr>\n",
       "      <th>4</th>\n",
       "      <td>[KN]Lordieee</td>\n",
       "      <td>3501159</td>\n",
       "      <td>PO</td>\n",
       "      <td>LN</td>\n",
       "      <td>981079</td>\n",
       "    </tr>\n",
       "    <tr>\n",
       "      <th>...</th>\n",
       "      <td>...</td>\n",
       "      <td>...</td>\n",
       "      <td>...</td>\n",
       "      <td>...</td>\n",
       "      <td>...</td>\n",
       "    </tr>\n",
       "    <tr>\n",
       "      <th>1465</th>\n",
       "      <td>Lothus</td>\n",
       "      <td>3588596</td>\n",
       "      <td>F</td>\n",
       "      <td>HB</td>\n",
       "      <td>985477</td>\n",
       "    </tr>\n",
       "    <tr>\n",
       "      <th>1466</th>\n",
       "      <td>Lothus</td>\n",
       "      <td>3589150</td>\n",
       "      <td>F</td>\n",
       "      <td>RC</td>\n",
       "      <td>970469</td>\n",
       "    </tr>\n",
       "    <tr>\n",
       "      <th>1467</th>\n",
       "      <td>Lothus</td>\n",
       "      <td>3589487</td>\n",
       "      <td>F</td>\n",
       "      <td>HB</td>\n",
       "      <td>956582</td>\n",
       "    </tr>\n",
       "    <tr>\n",
       "      <th>1468</th>\n",
       "      <td>Lothus</td>\n",
       "      <td>3590133</td>\n",
       "      <td>F</td>\n",
       "      <td>RC</td>\n",
       "      <td>984770</td>\n",
       "    </tr>\n",
       "    <tr>\n",
       "      <th>1469</th>\n",
       "      <td>Lothus</td>\n",
       "      <td>3590552</td>\n",
       "      <td>F</td>\n",
       "      <td>RC</td>\n",
       "      <td>983446</td>\n",
       "    </tr>\n",
       "  </tbody>\n",
       "</table>\n",
       "<p>1470 rows × 5 columns</p>\n",
       "</div>"
      ],
      "text/plain": [
       "       player_name beatmap_id round beatmap_type   score\n",
       "0     [KN]Lordieee    2121101    PO           HB  980915\n",
       "1     [KN]Lordieee    2388838    PO           HB  983744\n",
       "2     [KN]Lordieee    3202329    PO           RC  987171\n",
       "3     [KN]Lordieee    3392120    PO           RC  957210\n",
       "4     [KN]Lordieee    3501159    PO           LN  981079\n",
       "...            ...        ...   ...          ...     ...\n",
       "1465        Lothus    3588596     F           HB  985477\n",
       "1466        Lothus    3589150     F           RC  970469\n",
       "1467        Lothus    3589487     F           HB  956582\n",
       "1468        Lothus    3590133     F           RC  984770\n",
       "1469        Lothus    3590552     F           RC  983446\n",
       "\n",
       "[1470 rows x 5 columns]"
      ]
     },
     "execution_count": 6,
     "metadata": {},
     "output_type": "execute_result"
    }
   ],
   "source": [
    "soft6_dataset"
   ]
  },
  {
   "cell_type": "code",
   "execution_count": 7,
   "metadata": {},
   "outputs": [],
   "source": [
    "def logit(x):\n",
    "    return np.log(x / (1e6 - x))"
   ]
  },
  {
   "cell_type": "code",
   "execution_count": 8,
   "metadata": {},
   "outputs": [],
   "source": [
    "soft6_dataset['score_logit'] = soft6_dataset['score'].apply(logit)\n",
    "soft5_dataset['score_logit'] = soft5_dataset['score'].apply(logit)"
   ]
  },
  {
   "cell_type": "code",
   "execution_count": 9,
   "metadata": {},
   "outputs": [],
   "source": [
    "soft5_dataset = soft5_dataset.rename({'beatmap_id': 'beatmap_tag'}, axis=1)\n",
    "soft6_dataset = soft6_dataset.rename({'beatmap_id': 'beatmap_tag'}, axis=1)"
   ]
  },
  {
   "cell_type": "code",
   "execution_count": 10,
   "metadata": {},
   "outputs": [],
   "source": [
    "from utils.etimodel import ETIModel, GeneralizedETIModel"
   ]
  },
  {
   "cell_type": "code",
   "execution_count": 11,
   "metadata": {},
   "outputs": [],
   "source": [
    "_4dm4_players = _4dm4_dataset['player_name'].unique().astype(str)\n",
    "soft5_players = soft5_dataset['player_name'].unique().astype(str)\n",
    "soft6_players = soft6_dataset['player_name'].unique().astype(str)"
   ]
  },
  {
   "cell_type": "code",
   "execution_count": 12,
   "metadata": {},
   "outputs": [
    {
     "data": {
      "text/plain": [
       "array(['ERA medium kek', 'Miaurichesu', 'Mr_adamello', 'NightNarumi',\n",
       "       'Zergh', '_Seth', 'samuelhklumpers', 'shokoha', 'soutin',\n",
       "       'spamblock', 'wolfpup08'], dtype='<U15')"
      ]
     },
     "execution_count": 12,
     "metadata": {},
     "output_type": "execute_result"
    }
   ],
   "source": [
    "np.intersect1d(_4dm4_players, soft5_players)"
   ]
  },
  {
   "cell_type": "code",
   "execution_count": 13,
   "metadata": {},
   "outputs": [
    {
     "data": {
      "text/plain": [
       "array(['Akatsumi Chan', 'Doryoku', 'ERA medium kek', 'Enthalpy',\n",
       "       'Froggie09', 'Mateo12345', 'Mr_adamello', 'Nikita3006', 'Satsukel',\n",
       "       'ShiroPeDeFresa', 'TheFunk', 'Tiger', 'Zergh', 'shokoha',\n",
       "       'wolfpup08'], dtype='<U15')"
      ]
     },
     "execution_count": 13,
     "metadata": {},
     "output_type": "execute_result"
    }
   ],
   "source": [
    "np.intersect1d(_4dm4_players, soft6_players)"
   ]
  },
  {
   "cell_type": "code",
   "execution_count": 14,
   "metadata": {},
   "outputs": [],
   "source": [
    "from utils.tables import get_table_from_records\n",
    "\n",
    "eti_4dm4 = ETIModel()\n",
    "\n",
    "def get_beatmap_category_table(records: pd.DataFrame, category: str):\n",
    "    return get_table_from_records(records[records['beatmap_type'] == category], 'player_name', 'beatmap', 'score_logit')\n",
    "\n",
    "_4dm4_dataset['beatmap'] = _4dm4_dataset['round'] + \"_\" + _4dm4_dataset['beatmap_type'] + \"_\" + _4dm4_dataset['beatmap_tag'].astype(str)\n",
    "rc = get_beatmap_category_table(_4dm4_dataset, \"RC\")\n",
    "hb = get_beatmap_category_table(_4dm4_dataset, \"HB\")\n",
    "ln = get_beatmap_category_table(_4dm4_dataset, \"LN\")\n",
    "\n",
    "rc_eti = pd.DataFrame(eti_4dm4.fit(rc.values), index=rc.index)\n",
    "hb_eti = pd.DataFrame(eti_4dm4.fit(hb.values), index=hb.index)\n",
    "ln_eti = pd.DataFrame(eti_4dm4.fit(ln.values), index=ln.index)\n",
    "\n",
    "eti_cats = pd.DataFrame(index=_4dm4_players)\n",
    "eti_cats['rc'] = rc_eti\n",
    "eti_cats['hb'] = hb_eti\n",
    "eti_cats['ln'] = ln_eti\n",
    "eti_cats['rc'] = eti_cats['rc'].fillna(eti_cats['rc'].min())\n",
    "eti_cats['hb'] = eti_cats['hb'].fillna(eti_cats['hb'].min())\n",
    "eti_cats['ln'] = eti_cats['ln'].fillna(eti_cats['ln'].min())"
   ]
  },
  {
   "cell_type": "code",
   "execution_count": 15,
   "metadata": {},
   "outputs": [
    {
     "data": {
      "text/html": [
       "<div>\n",
       "<style scoped>\n",
       "    .dataframe tbody tr th:only-of-type {\n",
       "        vertical-align: middle;\n",
       "    }\n",
       "\n",
       "    .dataframe tbody tr th {\n",
       "        vertical-align: top;\n",
       "    }\n",
       "\n",
       "    .dataframe thead th {\n",
       "        text-align: right;\n",
       "    }\n",
       "</style>\n",
       "<table border=\"1\" class=\"dataframe\">\n",
       "  <thead>\n",
       "    <tr style=\"text-align: right;\">\n",
       "      <th></th>\n",
       "      <th>rc</th>\n",
       "      <th>hb</th>\n",
       "      <th>ln</th>\n",
       "    </tr>\n",
       "  </thead>\n",
       "  <tbody>\n",
       "    <tr>\n",
       "      <th>drag_</th>\n",
       "      <td>-2.203943</td>\n",
       "      <td>-1.922962</td>\n",
       "      <td>-1.848750</td>\n",
       "    </tr>\n",
       "    <tr>\n",
       "      <th>JPBenedictGame</th>\n",
       "      <td>-2.034906</td>\n",
       "      <td>-1.485538</td>\n",
       "      <td>-1.881729</td>\n",
       "    </tr>\n",
       "    <tr>\n",
       "      <th>iVALORUS</th>\n",
       "      <td>-2.368395</td>\n",
       "      <td>-1.628269</td>\n",
       "      <td>-2.113531</td>\n",
       "    </tr>\n",
       "    <tr>\n",
       "      <th>BL5</th>\n",
       "      <td>-1.515542</td>\n",
       "      <td>-1.421774</td>\n",
       "      <td>-1.379444</td>\n",
       "    </tr>\n",
       "    <tr>\n",
       "      <th>-Tebo-</th>\n",
       "      <td>1.049462</td>\n",
       "      <td>0.151761</td>\n",
       "      <td>-1.019061</td>\n",
       "    </tr>\n",
       "    <tr>\n",
       "      <th>...</th>\n",
       "      <td>...</td>\n",
       "      <td>...</td>\n",
       "      <td>...</td>\n",
       "    </tr>\n",
       "    <tr>\n",
       "      <th>oliverq</th>\n",
       "      <td>-1.845866</td>\n",
       "      <td>-1.815909</td>\n",
       "      <td>-2.073226</td>\n",
       "    </tr>\n",
       "    <tr>\n",
       "      <th>TheFunk</th>\n",
       "      <td>-2.227620</td>\n",
       "      <td>-1.522535</td>\n",
       "      <td>-2.290171</td>\n",
       "    </tr>\n",
       "    <tr>\n",
       "      <th>Herarudo</th>\n",
       "      <td>-2.308657</td>\n",
       "      <td>-1.922962</td>\n",
       "      <td>-2.120954</td>\n",
       "    </tr>\n",
       "    <tr>\n",
       "      <th>[Antonio]</th>\n",
       "      <td>-2.664934</td>\n",
       "      <td>-1.588431</td>\n",
       "      <td>-2.290171</td>\n",
       "    </tr>\n",
       "    <tr>\n",
       "      <th>NotXbxx</th>\n",
       "      <td>-2.485708</td>\n",
       "      <td>-1.922962</td>\n",
       "      <td>-2.290171</td>\n",
       "    </tr>\n",
       "  </tbody>\n",
       "</table>\n",
       "<p>200 rows × 3 columns</p>\n",
       "</div>"
      ],
      "text/plain": [
       "                      rc        hb        ln\n",
       "drag_          -2.203943 -1.922962 -1.848750\n",
       "JPBenedictGame -2.034906 -1.485538 -1.881729\n",
       "iVALORUS       -2.368395 -1.628269 -2.113531\n",
       "BL5            -1.515542 -1.421774 -1.379444\n",
       "-Tebo-          1.049462  0.151761 -1.019061\n",
       "...                  ...       ...       ...\n",
       "oliverq        -1.845866 -1.815909 -2.073226\n",
       "TheFunk        -2.227620 -1.522535 -2.290171\n",
       "Herarudo       -2.308657 -1.922962 -2.120954\n",
       "[Antonio]      -2.664934 -1.588431 -2.290171\n",
       "NotXbxx        -2.485708 -1.922962 -2.290171\n",
       "\n",
       "[200 rows x 3 columns]"
      ]
     },
     "execution_count": 15,
     "metadata": {},
     "output_type": "execute_result"
    }
   ],
   "source": [
    "eti_cats"
   ]
  },
  {
   "cell_type": "code",
   "execution_count": 16,
   "metadata": {},
   "outputs": [],
   "source": [
    "soft6_model = GeneralizedETIModel(_4dm4_dataset, ['RC', 'HB', 'LN'])"
   ]
  },
  {
   "cell_type": "code",
   "execution_count": 17,
   "metadata": {},
   "outputs": [],
   "source": [
    "soft6_model.fit_regression(soft6_dataset)"
   ]
  },
  {
   "cell_type": "code",
   "execution_count": 18,
   "metadata": {},
   "outputs": [
    {
     "data": {
      "text/html": [
       "<div>\n",
       "<style scoped>\n",
       "    .dataframe tbody tr th:only-of-type {\n",
       "        vertical-align: middle;\n",
       "    }\n",
       "\n",
       "    .dataframe tbody tr th {\n",
       "        vertical-align: top;\n",
       "    }\n",
       "\n",
       "    .dataframe thead th {\n",
       "        text-align: right;\n",
       "    }\n",
       "</style>\n",
       "<table border=\"1\" class=\"dataframe\">\n",
       "  <thead>\n",
       "    <tr style=\"text-align: right;\">\n",
       "      <th></th>\n",
       "      <th>0</th>\n",
       "    </tr>\n",
       "  </thead>\n",
       "  <tbody>\n",
       "    <tr>\n",
       "      <th>[GS]Myuka</th>\n",
       "      <td>25.975869</td>\n",
       "    </tr>\n",
       "    <tr>\n",
       "      <th>Amerom</th>\n",
       "      <td>20.429936</td>\n",
       "    </tr>\n",
       "    <tr>\n",
       "      <th>Reyi</th>\n",
       "      <td>18.339128</td>\n",
       "    </tr>\n",
       "    <tr>\n",
       "      <th>SillyFangirl</th>\n",
       "      <td>18.014781</td>\n",
       "    </tr>\n",
       "    <tr>\n",
       "      <th>-Aishiteru-</th>\n",
       "      <td>16.792270</td>\n",
       "    </tr>\n",
       "    <tr>\n",
       "      <th>Silhoueska Elze</th>\n",
       "      <td>16.465279</td>\n",
       "    </tr>\n",
       "    <tr>\n",
       "      <th>XxNewson1234xX</th>\n",
       "      <td>14.947089</td>\n",
       "    </tr>\n",
       "    <tr>\n",
       "      <th>Lothus</th>\n",
       "      <td>12.895434</td>\n",
       "    </tr>\n",
       "    <tr>\n",
       "      <th>Lott</th>\n",
       "      <td>11.348112</td>\n",
       "    </tr>\n",
       "    <tr>\n",
       "      <th>MegMewtwoZ</th>\n",
       "      <td>9.657195</td>\n",
       "    </tr>\n",
       "    <tr>\n",
       "      <th>banan</th>\n",
       "      <td>9.476945</td>\n",
       "    </tr>\n",
       "    <tr>\n",
       "      <th>ASharpp</th>\n",
       "      <td>8.122177</td>\n",
       "    </tr>\n",
       "    <tr>\n",
       "      <th>Stability</th>\n",
       "      <td>7.911546</td>\n",
       "    </tr>\n",
       "    <tr>\n",
       "      <th>LeMarcinho</th>\n",
       "      <td>7.835214</td>\n",
       "    </tr>\n",
       "    <tr>\n",
       "      <th>SuddenDeath</th>\n",
       "      <td>7.115226</td>\n",
       "    </tr>\n",
       "  </tbody>\n",
       "</table>\n",
       "</div>"
      ],
      "text/plain": [
       "                         0\n",
       "[GS]Myuka        25.975869\n",
       "Amerom           20.429936\n",
       "Reyi             18.339128\n",
       "SillyFangirl     18.014781\n",
       "-Aishiteru-      16.792270\n",
       "Silhoueska Elze  16.465279\n",
       "XxNewson1234xX   14.947089\n",
       "Lothus           12.895434\n",
       "Lott             11.348112\n",
       "MegMewtwoZ        9.657195\n",
       "banan             9.476945\n",
       "ASharpp           8.122177\n",
       "Stability         7.911546\n",
       "LeMarcinho        7.835214\n",
       "SuddenDeath       7.115226"
      ]
     },
     "execution_count": 18,
     "metadata": {},
     "output_type": "execute_result"
    }
   ],
   "source": [
    "soft6_model.predict(soft6_dataset).sort_values(0, ascending=False).head(15)"
   ]
  },
  {
   "cell_type": "code",
   "execution_count": 19,
   "metadata": {},
   "outputs": [],
   "source": [
    "soft5_model = GeneralizedETIModel(_4dm4_dataset, ['RC', 'HB', 'LN'])\n",
    "soft5_model.fit_regression(soft5_dataset)"
   ]
  },
  {
   "cell_type": "code",
   "execution_count": 20,
   "metadata": {},
   "outputs": [
    {
     "data": {
      "text/html": [
       "<div>\n",
       "<style scoped>\n",
       "    .dataframe tbody tr th:only-of-type {\n",
       "        vertical-align: middle;\n",
       "    }\n",
       "\n",
       "    .dataframe tbody tr th {\n",
       "        vertical-align: top;\n",
       "    }\n",
       "\n",
       "    .dataframe thead th {\n",
       "        text-align: right;\n",
       "    }\n",
       "</style>\n",
       "<table border=\"1\" class=\"dataframe\">\n",
       "  <thead>\n",
       "    <tr style=\"text-align: right;\">\n",
       "      <th></th>\n",
       "      <th>0</th>\n",
       "    </tr>\n",
       "  </thead>\n",
       "  <tbody>\n",
       "    <tr>\n",
       "      <th>AMDuskia1996</th>\n",
       "      <td>1.723566</td>\n",
       "    </tr>\n",
       "    <tr>\n",
       "      <th>AdamAckerville</th>\n",
       "      <td>1.723124</td>\n",
       "    </tr>\n",
       "    <tr>\n",
       "      <th>jkzu123</th>\n",
       "      <td>1.718962</td>\n",
       "    </tr>\n",
       "    <tr>\n",
       "      <th>Pope Gadget</th>\n",
       "      <td>1.715159</td>\n",
       "    </tr>\n",
       "    <tr>\n",
       "      <th>Yonk_</th>\n",
       "      <td>1.714188</td>\n",
       "    </tr>\n",
       "    <tr>\n",
       "      <th>Alter-</th>\n",
       "      <td>1.709511</td>\n",
       "    </tr>\n",
       "    <tr>\n",
       "      <th>LeMarcinho</th>\n",
       "      <td>1.703783</td>\n",
       "    </tr>\n",
       "    <tr>\n",
       "      <th>mashu</th>\n",
       "      <td>1.696689</td>\n",
       "    </tr>\n",
       "    <tr>\n",
       "      <th>BaniiYanii</th>\n",
       "      <td>1.696479</td>\n",
       "    </tr>\n",
       "    <tr>\n",
       "      <th>BossPlays</th>\n",
       "      <td>1.695126</td>\n",
       "    </tr>\n",
       "    <tr>\n",
       "      <th>xSnaggles</th>\n",
       "      <td>1.691447</td>\n",
       "    </tr>\n",
       "    <tr>\n",
       "      <th>bojii</th>\n",
       "      <td>1.658973</td>\n",
       "    </tr>\n",
       "    <tr>\n",
       "      <th>HowToPlayLN</th>\n",
       "      <td>1.658430</td>\n",
       "    </tr>\n",
       "    <tr>\n",
       "      <th>SillyFangirl</th>\n",
       "      <td>1.598902</td>\n",
       "    </tr>\n",
       "    <tr>\n",
       "      <th>[GS]Myuka</th>\n",
       "      <td>1.592459</td>\n",
       "    </tr>\n",
       "  </tbody>\n",
       "</table>\n",
       "</div>"
      ],
      "text/plain": [
       "                       0\n",
       "AMDuskia1996    1.723566\n",
       "AdamAckerville  1.723124\n",
       "jkzu123         1.718962\n",
       "Pope Gadget     1.715159\n",
       "Yonk_           1.714188\n",
       "Alter-          1.709511\n",
       "LeMarcinho      1.703783\n",
       "mashu           1.696689\n",
       "BaniiYanii      1.696479\n",
       "BossPlays       1.695126\n",
       "xSnaggles       1.691447\n",
       "bojii           1.658973\n",
       "HowToPlayLN     1.658430\n",
       "SillyFangirl    1.598902\n",
       "[GS]Myuka       1.592459"
      ]
     },
     "execution_count": 20,
     "metadata": {},
     "output_type": "execute_result"
    }
   ],
   "source": [
    "soft5_model.predict(soft5_dataset).sort_values(0, ascending=False).tail(15)"
   ]
  },
  {
   "cell_type": "code",
   "execution_count": 21,
   "metadata": {},
   "outputs": [],
   "source": [
    "soft6_etis = soft6_model.predict(soft6_dataset).sort_values(0, ascending=False)\n",
    "soft6_etis.to_csv('soft6_4dm_eti.csv')\n",
    "\n",
    "soft5_etis = soft5_model.predict(soft5_dataset).sort_values(0, ascending=False)\n",
    "soft5_etis.to_csv('soft5_4dm_eti.csv')"
   ]
  },
  {
   "cell_type": "code",
   "execution_count": 22,
   "metadata": {},
   "outputs": [],
   "source": [
    "eti_cats['avg'] = np.mean(eti_cats[['rc', 'hb', 'ln']].values, axis=1)"
   ]
  },
  {
   "cell_type": "code",
   "execution_count": 23,
   "metadata": {},
   "outputs": [
    {
     "data": {
      "text/html": [
       "<div>\n",
       "<style scoped>\n",
       "    .dataframe tbody tr th:only-of-type {\n",
       "        vertical-align: middle;\n",
       "    }\n",
       "\n",
       "    .dataframe tbody tr th {\n",
       "        vertical-align: top;\n",
       "    }\n",
       "\n",
       "    .dataframe thead th {\n",
       "        text-align: right;\n",
       "    }\n",
       "</style>\n",
       "<table border=\"1\" class=\"dataframe\">\n",
       "  <thead>\n",
       "    <tr style=\"text-align: right;\">\n",
       "      <th></th>\n",
       "      <th>rc</th>\n",
       "      <th>hb</th>\n",
       "      <th>ln</th>\n",
       "      <th>avg</th>\n",
       "    </tr>\n",
       "  </thead>\n",
       "  <tbody>\n",
       "    <tr>\n",
       "      <th>drag_</th>\n",
       "      <td>-2.203943</td>\n",
       "      <td>-1.922962</td>\n",
       "      <td>-1.848750</td>\n",
       "      <td>-1.991885</td>\n",
       "    </tr>\n",
       "    <tr>\n",
       "      <th>JPBenedictGame</th>\n",
       "      <td>-2.034906</td>\n",
       "      <td>-1.485538</td>\n",
       "      <td>-1.881729</td>\n",
       "      <td>-1.800725</td>\n",
       "    </tr>\n",
       "    <tr>\n",
       "      <th>iVALORUS</th>\n",
       "      <td>-2.368395</td>\n",
       "      <td>-1.628269</td>\n",
       "      <td>-2.113531</td>\n",
       "      <td>-2.036732</td>\n",
       "    </tr>\n",
       "    <tr>\n",
       "      <th>BL5</th>\n",
       "      <td>-1.515542</td>\n",
       "      <td>-1.421774</td>\n",
       "      <td>-1.379444</td>\n",
       "      <td>-1.438920</td>\n",
       "    </tr>\n",
       "    <tr>\n",
       "      <th>-Tebo-</th>\n",
       "      <td>1.049462</td>\n",
       "      <td>0.151761</td>\n",
       "      <td>-1.019061</td>\n",
       "      <td>0.060721</td>\n",
       "    </tr>\n",
       "    <tr>\n",
       "      <th>...</th>\n",
       "      <td>...</td>\n",
       "      <td>...</td>\n",
       "      <td>...</td>\n",
       "      <td>...</td>\n",
       "    </tr>\n",
       "    <tr>\n",
       "      <th>oliverq</th>\n",
       "      <td>-1.845866</td>\n",
       "      <td>-1.815909</td>\n",
       "      <td>-2.073226</td>\n",
       "      <td>-1.911667</td>\n",
       "    </tr>\n",
       "    <tr>\n",
       "      <th>TheFunk</th>\n",
       "      <td>-2.227620</td>\n",
       "      <td>-1.522535</td>\n",
       "      <td>-2.290171</td>\n",
       "      <td>-2.013442</td>\n",
       "    </tr>\n",
       "    <tr>\n",
       "      <th>Herarudo</th>\n",
       "      <td>-2.308657</td>\n",
       "      <td>-1.922962</td>\n",
       "      <td>-2.120954</td>\n",
       "      <td>-2.117524</td>\n",
       "    </tr>\n",
       "    <tr>\n",
       "      <th>[Antonio]</th>\n",
       "      <td>-2.664934</td>\n",
       "      <td>-1.588431</td>\n",
       "      <td>-2.290171</td>\n",
       "      <td>-2.181179</td>\n",
       "    </tr>\n",
       "    <tr>\n",
       "      <th>NotXbxx</th>\n",
       "      <td>-2.485708</td>\n",
       "      <td>-1.922962</td>\n",
       "      <td>-2.290171</td>\n",
       "      <td>-2.232947</td>\n",
       "    </tr>\n",
       "  </tbody>\n",
       "</table>\n",
       "<p>200 rows × 4 columns</p>\n",
       "</div>"
      ],
      "text/plain": [
       "                      rc        hb        ln       avg\n",
       "drag_          -2.203943 -1.922962 -1.848750 -1.991885\n",
       "JPBenedictGame -2.034906 -1.485538 -1.881729 -1.800725\n",
       "iVALORUS       -2.368395 -1.628269 -2.113531 -2.036732\n",
       "BL5            -1.515542 -1.421774 -1.379444 -1.438920\n",
       "-Tebo-          1.049462  0.151761 -1.019061  0.060721\n",
       "...                  ...       ...       ...       ...\n",
       "oliverq        -1.845866 -1.815909 -2.073226 -1.911667\n",
       "TheFunk        -2.227620 -1.522535 -2.290171 -2.013442\n",
       "Herarudo       -2.308657 -1.922962 -2.120954 -2.117524\n",
       "[Antonio]      -2.664934 -1.588431 -2.290171 -2.181179\n",
       "NotXbxx        -2.485708 -1.922962 -2.290171 -2.232947\n",
       "\n",
       "[200 rows x 4 columns]"
      ]
     },
     "execution_count": 23,
     "metadata": {},
     "output_type": "execute_result"
    }
   ],
   "source": [
    "eti_cats"
   ]
  },
  {
   "cell_type": "code",
   "execution_count": 24,
   "metadata": {},
   "outputs": [],
   "source": [
    "soft6_eti_cor = soft6_model.transform_eti(soft6_dataset)"
   ]
  },
  {
   "cell_type": "code",
   "execution_count": 25,
   "metadata": {},
   "outputs": [],
   "source": [
    "soft6_eti_cor = soft6_eti_cor.loc[np.intersect1d(_4dm4_players, soft6_players)]"
   ]
  },
  {
   "cell_type": "code",
   "execution_count": 26,
   "metadata": {},
   "outputs": [],
   "source": [
    "soft6_eti_cor['4dm_avg'] = eti_cats['avg'].loc[np.intersect1d(_4dm4_players, soft6_players)]"
   ]
  },
  {
   "cell_type": "code",
   "execution_count": 27,
   "metadata": {},
   "outputs": [
    {
     "data": {
      "text/html": [
       "<div>\n",
       "<style scoped>\n",
       "    .dataframe tbody tr th:only-of-type {\n",
       "        vertical-align: middle;\n",
       "    }\n",
       "\n",
       "    .dataframe tbody tr th {\n",
       "        vertical-align: top;\n",
       "    }\n",
       "\n",
       "    .dataframe thead th {\n",
       "        text-align: right;\n",
       "    }\n",
       "</style>\n",
       "<table border=\"1\" class=\"dataframe\">\n",
       "  <thead>\n",
       "    <tr style=\"text-align: right;\">\n",
       "      <th></th>\n",
       "      <th>RC</th>\n",
       "      <th>HB</th>\n",
       "      <th>LN</th>\n",
       "      <th>4dm_avg</th>\n",
       "    </tr>\n",
       "  </thead>\n",
       "  <tbody>\n",
       "    <tr>\n",
       "      <th>Akatsumi Chan</th>\n",
       "      <td>-1.729172</td>\n",
       "      <td>-1.480894</td>\n",
       "      <td>-0.799387</td>\n",
       "      <td>3.066538</td>\n",
       "    </tr>\n",
       "    <tr>\n",
       "      <th>Doryoku</th>\n",
       "      <td>-0.746197</td>\n",
       "      <td>-1.305196</td>\n",
       "      <td>-1.481015</td>\n",
       "      <td>0.008597</td>\n",
       "    </tr>\n",
       "    <tr>\n",
       "      <th>ERA medium kek</th>\n",
       "      <td>-1.638790</td>\n",
       "      <td>-0.849618</td>\n",
       "      <td>-0.863816</td>\n",
       "      <td>0.377547</td>\n",
       "    </tr>\n",
       "    <tr>\n",
       "      <th>Enthalpy</th>\n",
       "      <td>-1.943235</td>\n",
       "      <td>-0.590761</td>\n",
       "      <td>-1.252410</td>\n",
       "      <td>0.795579</td>\n",
       "    </tr>\n",
       "    <tr>\n",
       "      <th>Froggie09</th>\n",
       "      <td>-1.790185</td>\n",
       "      <td>-1.433849</td>\n",
       "      <td>-1.339777</td>\n",
       "      <td>-1.779117</td>\n",
       "    </tr>\n",
       "    <tr>\n",
       "      <th>Mateo12345</th>\n",
       "      <td>-1.925356</td>\n",
       "      <td>-1.335147</td>\n",
       "      <td>-1.293951</td>\n",
       "      <td>-2.009170</td>\n",
       "    </tr>\n",
       "    <tr>\n",
       "      <th>Mr_adamello</th>\n",
       "      <td>-1.928404</td>\n",
       "      <td>-1.241086</td>\n",
       "      <td>-1.720015</td>\n",
       "      <td>0.534947</td>\n",
       "    </tr>\n",
       "    <tr>\n",
       "      <th>Nikita3006</th>\n",
       "      <td>-1.051122</td>\n",
       "      <td>-1.296068</td>\n",
       "      <td>-1.609489</td>\n",
       "      <td>0.454752</td>\n",
       "    </tr>\n",
       "    <tr>\n",
       "      <th>Satsukel</th>\n",
       "      <td>-1.697740</td>\n",
       "      <td>-0.958518</td>\n",
       "      <td>-1.505649</td>\n",
       "      <td>-1.077961</td>\n",
       "    </tr>\n",
       "    <tr>\n",
       "      <th>ShiroPeDeFresa</th>\n",
       "      <td>-1.450982</td>\n",
       "      <td>-1.254559</td>\n",
       "      <td>-0.997091</td>\n",
       "      <td>-0.117521</td>\n",
       "    </tr>\n",
       "    <tr>\n",
       "      <th>TheFunk</th>\n",
       "      <td>-1.755909</td>\n",
       "      <td>-1.017517</td>\n",
       "      <td>-1.720015</td>\n",
       "      <td>-2.013442</td>\n",
       "    </tr>\n",
       "    <tr>\n",
       "      <th>Tiger</th>\n",
       "      <td>-1.500897</td>\n",
       "      <td>-1.537055</td>\n",
       "      <td>-0.866005</td>\n",
       "      <td>0.751280</td>\n",
       "    </tr>\n",
       "    <tr>\n",
       "      <th>Zergh</th>\n",
       "      <td>-1.635755</td>\n",
       "      <td>-1.227107</td>\n",
       "      <td>-1.223683</td>\n",
       "      <td>2.572955</td>\n",
       "    </tr>\n",
       "    <tr>\n",
       "      <th>shokoha</th>\n",
       "      <td>-0.360001</td>\n",
       "      <td>-1.230843</td>\n",
       "      <td>0.268833</td>\n",
       "      <td>13.858188</td>\n",
       "    </tr>\n",
       "    <tr>\n",
       "      <th>wolfpup08</th>\n",
       "      <td>-1.341951</td>\n",
       "      <td>-0.277459</td>\n",
       "      <td>-0.486080</td>\n",
       "      <td>1.751301</td>\n",
       "    </tr>\n",
       "  </tbody>\n",
       "</table>\n",
       "</div>"
      ],
      "text/plain": [
       "                      RC        HB        LN    4dm_avg\n",
       "Akatsumi Chan  -1.729172 -1.480894 -0.799387   3.066538\n",
       "Doryoku        -0.746197 -1.305196 -1.481015   0.008597\n",
       "ERA medium kek -1.638790 -0.849618 -0.863816   0.377547\n",
       "Enthalpy       -1.943235 -0.590761 -1.252410   0.795579\n",
       "Froggie09      -1.790185 -1.433849 -1.339777  -1.779117\n",
       "Mateo12345     -1.925356 -1.335147 -1.293951  -2.009170\n",
       "Mr_adamello    -1.928404 -1.241086 -1.720015   0.534947\n",
       "Nikita3006     -1.051122 -1.296068 -1.609489   0.454752\n",
       "Satsukel       -1.697740 -0.958518 -1.505649  -1.077961\n",
       "ShiroPeDeFresa -1.450982 -1.254559 -0.997091  -0.117521\n",
       "TheFunk        -1.755909 -1.017517 -1.720015  -2.013442\n",
       "Tiger          -1.500897 -1.537055 -0.866005   0.751280\n",
       "Zergh          -1.635755 -1.227107 -1.223683   2.572955\n",
       "shokoha        -0.360001 -1.230843  0.268833  13.858188\n",
       "wolfpup08      -1.341951 -0.277459 -0.486080   1.751301"
      ]
     },
     "execution_count": 27,
     "metadata": {},
     "output_type": "execute_result"
    }
   ],
   "source": [
    "soft6_eti_cor"
   ]
  },
  {
   "cell_type": "code",
   "execution_count": 28,
   "metadata": {},
   "outputs": [
    {
     "data": {
      "text/plain": [
       "array([[ 1.        , -0.09787648,  0.52608283,  0.67889875],\n",
       "       [-0.09787648,  1.        ,  0.14046169, -0.02611305],\n",
       "       [ 0.52608283,  0.14046169,  1.        ,  0.81517407],\n",
       "       [ 0.67889875, -0.02611305,  0.81517407,  1.        ]])"
      ]
     },
     "execution_count": 28,
     "metadata": {},
     "output_type": "execute_result"
    }
   ],
   "source": [
    "np.corrcoef(soft6_eti_cor.values.T)"
   ]
  },
  {
   "cell_type": "code",
   "execution_count": 29,
   "metadata": {},
   "outputs": [],
   "source": [
    "def plot_soft6_vs_4dm4(cat):\n",
    "    plt.scatter(soft6_eti_cor[cat], soft6_eti_cor['4dm_avg'])"
   ]
  },
  {
   "cell_type": "code",
   "execution_count": 30,
   "metadata": {},
   "outputs": [
    {
     "data": {
      "image/png": "[encoded data removed]",
      "text/plain": [
       "<Figure size 432x288 with 1 Axes>"
      ]
     },
     "metadata": {
      "needs_background": "light"
     },
     "output_type": "display_data"
    }
   ],
   "source": [
    "plot_soft6_vs_4dm4('RC')"
   ]
  },
  {
   "cell_type": "code",
   "execution_count": 31,
   "metadata": {},
   "outputs": [
    {
     "data": {
      "image/png": "[encoded data removed]",
      "text/plain": [
       "<Figure size 432x288 with 1 Axes>"
      ]
     },
     "metadata": {
      "needs_background": "light"
     },
     "output_type": "display_data"
    }
   ],
   "source": [
    "plot_soft6_vs_4dm4('HB')"
   ]
  },
  {
   "cell_type": "code",
   "execution_count": 32,
   "metadata": {},
   "outputs": [
    {
     "data": {
      "image/png": "[encoded data removed]",
      "text/plain": [
       "<Figure size 432x288 with 1 Axes>"
      ]
     },
     "metadata": {
      "needs_background": "light"
     },
     "output_type": "display_data"
    }
   ],
   "source": [
    "plot_soft6_vs_4dm4('LN')"
   ]
  },
  {
   "cell_type": "code",
   "execution_count": 33,
   "metadata": {},
   "outputs": [
    {
     "data": {
      "text/plain": [
       "array([ 0.66347404, -0.        ,  1.26721913])"
      ]
     },
     "execution_count": 33,
     "metadata": {},
     "output_type": "execute_result"
    }
   ],
   "source": [
    "soft6_model._linearETIRegression.coef_"
   ]
  },
  {
   "cell_type": "code",
   "execution_count": 34,
   "metadata": {},
   "outputs": [
    {
     "data": {
      "text/plain": [
       "3.5668363238337166"
      ]
     },
     "execution_count": 34,
     "metadata": {},
     "output_type": "execute_result"
    }
   ],
   "source": [
    "soft6_model._linearETIRegression.intercept_"
   ]
  },
  {
   "cell_type": "code",
   "execution_count": 35,
   "metadata": {},
   "outputs": [],
   "source": [
    "soft6_etis = soft6_etis.rename(mapper={0: 'avg'}, axis=1)\n",
    "soft6_etis['source'] = 'soft6'"
   ]
  },
  {
   "cell_type": "code",
   "execution_count": 36,
   "metadata": {},
   "outputs": [],
   "source": [
    "_4dm4_eti = eti_cats[['avg']]\n",
    "_4dm4_eti['source'] = '4dm4'"
   ]
  },
  {
   "cell_type": "code",
   "execution_count": 37,
   "metadata": {},
   "outputs": [],
   "source": [
    "eti = pd.concat((soft6_etis, _4dm4_eti)).reset_index().groupby('index').max()"
   ]
  },
  {
   "cell_type": "code",
   "execution_count": 38,
   "metadata": {},
   "outputs": [
    {
     "data": {
      "text/html": [
       "<div>\n",
       "<style scoped>\n",
       "    .dataframe tbody tr th:only-of-type {\n",
       "        vertical-align: middle;\n",
       "    }\n",
       "\n",
       "    .dataframe tbody tr th {\n",
       "        vertical-align: top;\n",
       "    }\n",
       "\n",
       "    .dataframe thead th {\n",
       "        text-align: right;\n",
       "    }\n",
       "</style>\n",
       "<table border=\"1\" class=\"dataframe\">\n",
       "  <thead>\n",
       "    <tr style=\"text-align: right;\">\n",
       "      <th></th>\n",
       "      <th>avg</th>\n",
       "      <th>source</th>\n",
       "    </tr>\n",
       "    <tr>\n",
       "      <th>index</th>\n",
       "      <th></th>\n",
       "      <th></th>\n",
       "    </tr>\n",
       "  </thead>\n",
       "  <tbody>\n",
       "    <tr>\n",
       "      <th>--Pavin--</th>\n",
       "      <td>6.369292</td>\n",
       "      <td>4dm4</td>\n",
       "    </tr>\n",
       "    <tr>\n",
       "      <th>-Aishiteru-</th>\n",
       "      <td>16.792270</td>\n",
       "      <td>soft6</td>\n",
       "    </tr>\n",
       "    <tr>\n",
       "      <th>-Einar-</th>\n",
       "      <td>0.932870</td>\n",
       "      <td>soft6</td>\n",
       "    </tr>\n",
       "    <tr>\n",
       "      <th>-Guille</th>\n",
       "      <td>-1.914459</td>\n",
       "      <td>4dm4</td>\n",
       "    </tr>\n",
       "    <tr>\n",
       "      <th>-Julio</th>\n",
       "      <td>-0.983972</td>\n",
       "      <td>4dm4</td>\n",
       "    </tr>\n",
       "    <tr>\n",
       "      <th>...</th>\n",
       "      <td>...</td>\n",
       "      <td>...</td>\n",
       "    </tr>\n",
       "    <tr>\n",
       "      <th>u8_sunflower</th>\n",
       "      <td>-1.681280</td>\n",
       "      <td>4dm4</td>\n",
       "    </tr>\n",
       "    <tr>\n",
       "      <th>username1947</th>\n",
       "      <td>0.885702</td>\n",
       "      <td>4dm4</td>\n",
       "    </tr>\n",
       "    <tr>\n",
       "      <th>walmart5193</th>\n",
       "      <td>1.596166</td>\n",
       "      <td>soft6</td>\n",
       "    </tr>\n",
       "    <tr>\n",
       "      <th>wolfpup08</th>\n",
       "      <td>2.060517</td>\n",
       "      <td>soft6</td>\n",
       "    </tr>\n",
       "    <tr>\n",
       "      <th>yoppy-yugen</th>\n",
       "      <td>3.419043</td>\n",
       "      <td>soft6</td>\n",
       "    </tr>\n",
       "  </tbody>\n",
       "</table>\n",
       "<p>298 rows × 2 columns</p>\n",
       "</div>"
      ],
      "text/plain": [
       "                    avg source\n",
       "index                         \n",
       "--Pavin--      6.369292   4dm4\n",
       "-Aishiteru-   16.792270  soft6\n",
       "-Einar-        0.932870  soft6\n",
       "-Guille       -1.914459   4dm4\n",
       "-Julio        -0.983972   4dm4\n",
       "...                 ...    ...\n",
       "u8_sunflower  -1.681280   4dm4\n",
       "username1947   0.885702   4dm4\n",
       "walmart5193    1.596166  soft6\n",
       "wolfpup08      2.060517  soft6\n",
       "yoppy-yugen    3.419043  soft6\n",
       "\n",
       "[298 rows x 2 columns]"
      ]
     },
     "execution_count": 38,
     "metadata": {},
     "output_type": "execute_result"
    }
   ],
   "source": [
    "eti"
   ]
  },
  {
   "cell_type": "code",
   "execution_count": 39,
   "metadata": {},
   "outputs": [
    {
     "data": {
      "image/png": "[encoded data removed]",
      "text/plain": [
       "<Figure size 432x288 with 1 Axes>"
      ]
     },
     "metadata": {
      "needs_background": "light"
     },
     "output_type": "display_data"
    }
   ],
   "source": [
    "plt.boxplot([eti[eti['source'] == '4dm4']['avg'], eti[eti['source'] == 'soft6']['avg']])\n",
    "plt.show()"
   ]
  },
  {
   "cell_type": "code",
   "execution_count": 40,
   "metadata": {},
   "outputs": [],
   "source": [
    "eti['is_et'] = eti['source'].apply(lambda x: int(x == 'soft6'))"
   ]
  },
  {
   "cell_type": "code",
   "execution_count": 41,
   "metadata": {},
   "outputs": [
    {
     "data": {
      "text/html": [
       "<div>\n",
       "<style scoped>\n",
       "    .dataframe tbody tr th:only-of-type {\n",
       "        vertical-align: middle;\n",
       "    }\n",
       "\n",
       "    .dataframe tbody tr th {\n",
       "        vertical-align: top;\n",
       "    }\n",
       "\n",
       "    .dataframe thead th {\n",
       "        text-align: right;\n",
       "    }\n",
       "</style>\n",
       "<table border=\"1\" class=\"dataframe\">\n",
       "  <thead>\n",
       "    <tr style=\"text-align: right;\">\n",
       "      <th></th>\n",
       "      <th>avg</th>\n",
       "      <th>source</th>\n",
       "      <th>is_et</th>\n",
       "    </tr>\n",
       "    <tr>\n",
       "      <th>index</th>\n",
       "      <th></th>\n",
       "      <th></th>\n",
       "      <th></th>\n",
       "    </tr>\n",
       "  </thead>\n",
       "  <tbody>\n",
       "    <tr>\n",
       "      <th>--Pavin--</th>\n",
       "      <td>6.369292</td>\n",
       "      <td>4dm4</td>\n",
       "      <td>0</td>\n",
       "    </tr>\n",
       "    <tr>\n",
       "      <th>-Aishiteru-</th>\n",
       "      <td>16.792270</td>\n",
       "      <td>soft6</td>\n",
       "      <td>1</td>\n",
       "    </tr>\n",
       "    <tr>\n",
       "      <th>-Einar-</th>\n",
       "      <td>0.932870</td>\n",
       "      <td>soft6</td>\n",
       "      <td>1</td>\n",
       "    </tr>\n",
       "    <tr>\n",
       "      <th>-Guille</th>\n",
       "      <td>-1.914459</td>\n",
       "      <td>4dm4</td>\n",
       "      <td>0</td>\n",
       "    </tr>\n",
       "    <tr>\n",
       "      <th>-Julio</th>\n",
       "      <td>-0.983972</td>\n",
       "      <td>4dm4</td>\n",
       "      <td>0</td>\n",
       "    </tr>\n",
       "    <tr>\n",
       "      <th>...</th>\n",
       "      <td>...</td>\n",
       "      <td>...</td>\n",
       "      <td>...</td>\n",
       "    </tr>\n",
       "    <tr>\n",
       "      <th>u8_sunflower</th>\n",
       "      <td>-1.681280</td>\n",
       "      <td>4dm4</td>\n",
       "      <td>0</td>\n",
       "    </tr>\n",
       "    <tr>\n",
       "      <th>username1947</th>\n",
       "      <td>0.885702</td>\n",
       "      <td>4dm4</td>\n",
       "      <td>0</td>\n",
       "    </tr>\n",
       "    <tr>\n",
       "      <th>walmart5193</th>\n",
       "      <td>1.596166</td>\n",
       "      <td>soft6</td>\n",
       "      <td>1</td>\n",
       "    </tr>\n",
       "    <tr>\n",
       "      <th>wolfpup08</th>\n",
       "      <td>2.060517</td>\n",
       "      <td>soft6</td>\n",
       "      <td>1</td>\n",
       "    </tr>\n",
       "    <tr>\n",
       "      <th>yoppy-yugen</th>\n",
       "      <td>3.419043</td>\n",
       "      <td>soft6</td>\n",
       "      <td>1</td>\n",
       "    </tr>\n",
       "  </tbody>\n",
       "</table>\n",
       "<p>298 rows × 3 columns</p>\n",
       "</div>"
      ],
      "text/plain": [
       "                    avg source  is_et\n",
       "index                                \n",
       "--Pavin--      6.369292   4dm4      0\n",
       "-Aishiteru-   16.792270  soft6      1\n",
       "-Einar-        0.932870  soft6      1\n",
       "-Guille       -1.914459   4dm4      0\n",
       "-Julio        -0.983972   4dm4      0\n",
       "...                 ...    ...    ...\n",
       "u8_sunflower  -1.681280   4dm4      0\n",
       "username1947   0.885702   4dm4      0\n",
       "walmart5193    1.596166  soft6      1\n",
       "wolfpup08      2.060517  soft6      1\n",
       "yoppy-yugen    3.419043  soft6      1\n",
       "\n",
       "[298 rows x 3 columns]"
      ]
     },
     "execution_count": 41,
     "metadata": {},
     "output_type": "execute_result"
    }
   ],
   "source": [
    "eti"
   ]
  },
  {
   "cell_type": "code",
   "execution_count": 42,
   "metadata": {},
   "outputs": [],
   "source": [
    "from sklearn.linear_model import LogisticRegression\n",
    "\n",
    "x = eti['avg'].values.reshape(-1, 1)\n",
    "y = eti['is_et'].values"
   ]
  },
  {
   "cell_type": "code",
   "execution_count": 43,
   "metadata": {},
   "outputs": [],
   "source": [
    "et_model = LogisticRegression()"
   ]
  },
  {
   "cell_type": "code",
   "execution_count": 44,
   "metadata": {},
   "outputs": [
    {
     "data": {
      "text/html": [
       "<style>#sk-container-id-1 {color: black;background-color: white;}#sk-container-id-1 pre{padding: 0;}#sk-container-id-1 div.sk-toggleable {background-color: white;}#sk-container-id-1 label.sk-toggleable__label {cursor: pointer;display: block;width: 100%;margin-bottom: 0;padding: 0.3em;box-sizing: border-box;text-align: center;}#sk-container-id-1 label.sk-toggleable__label-arrow:before {content: \"▸\";float: left;margin-right: 0.25em;color: #696969;}#sk-container-id-1 label.sk-toggleable__label-arrow:hover:before {color: black;}#sk-container-id-1 div.sk-estimator:hover label.sk-toggleable__label-arrow:before {color: black;}#sk-container-id-1 div.sk-toggleable__content {max-height: 0;max-width: 0;overflow: hidden;text-align: left;background-color: #f0f8ff;}#sk-container-id-1 div.sk-toggleable__content pre {margin: 0.2em;color: black;border-radius: 0.25em;background-color: #f0f8ff;}#sk-container-id-1 input.sk-toggleable__control:checked~div.sk-toggleable__content {max-height: 200px;max-width: 100%;overflow: auto;}#sk-container-id-1 input.sk-toggleable__control:checked~label.sk-toggleable__label-arrow:before {content: \"▾\";}#sk-container-id-1 div.sk-estimator input.sk-toggleable__control:checked~label.sk-toggleable__label {background-color: #d4ebff;}#sk-container-id-1 div.sk-label input.sk-toggleable__control:checked~label.sk-toggleable__label {background-color: #d4ebff;}#sk-container-id-1 input.sk-hidden--visually {border: 0;clip: rect(1px 1px 1px 1px);clip: rect(1px, 1px, 1px, 1px);height: 1px;margin: -1px;overflow: hidden;padding: 0;position: absolute;width: 1px;}#sk-container-id-1 div.sk-estimator {font-family: monospace;background-color: #f0f8ff;border: 1px dotted black;border-radius: 0.25em;box-sizing: border-box;margin-bottom: 0.5em;}#sk-container-id-1 div.sk-estimator:hover {background-color: #d4ebff;}#sk-container-id-1 div.sk-parallel-item::after {content: \"\";width: 100%;border-bottom: 1px solid gray;flex-grow: 1;}#sk-container-id-1 div.sk-label:hover label.sk-toggleable__label {background-color: #d4ebff;}#sk-container-id-1 div.sk-serial::before {content: \"\";position: absolute;border-left: 1px solid gray;box-sizing: border-box;top: 0;bottom: 0;left: 50%;z-index: 0;}#sk-container-id-1 div.sk-serial {display: flex;flex-direction: column;align-items: center;background-color: white;padding-right: 0.2em;padding-left: 0.2em;position: relative;}#sk-container-id-1 div.sk-item {position: relative;z-index: 1;}#sk-container-id-1 div.sk-parallel {display: flex;align-items: stretch;justify-content: center;background-color: white;position: relative;}#sk-container-id-1 div.sk-item::before, #sk-container-id-1 div.sk-parallel-item::before {content: \"\";position: absolute;border-left: 1px solid gray;box-sizing: border-box;top: 0;bottom: 0;left: 50%;z-index: -1;}#sk-container-id-1 div.sk-parallel-item {display: flex;flex-direction: column;z-index: 1;position: relative;background-color: white;}#sk-container-id-1 div.sk-parallel-item:first-child::after {align-self: flex-end;width: 50%;}#sk-container-id-1 div.sk-parallel-item:last-child::after {align-self: flex-start;width: 50%;}#sk-container-id-1 div.sk-parallel-item:only-child::after {width: 0;}#sk-container-id-1 div.sk-dashed-wrapped {border: 1px dashed gray;margin: 0 0.4em 0.5em 0.4em;box-sizing: border-box;padding-bottom: 0.4em;background-color: white;}#sk-container-id-1 div.sk-label label {font-family: monospace;font-weight: bold;display: inline-block;line-height: 1.2em;}#sk-container-id-1 div.sk-label-container {text-align: center;}#sk-container-id-1 div.sk-container {/* jupyter's `normalize.less` sets `[hidden] { display: none; }` but bootstrap.min.css set `[hidden] { display: none !important; }` so we also need the `!important` here to be able to override the default hidden behavior on the sphinx rendered scikit-learn.org. See: https://github.com/scikit-learn/scikit-learn/issues/21755 */display: inline-block !important;position: relative;}#sk-container-id-1 div.sk-text-repr-fallback {display: none;}</style><div id=\"sk-container-id-1\" class=\"sk-top-container\"><div class=\"sk-text-repr-fallback\"><pre>LogisticRegression()</pre><b>In a Jupyter environment, please rerun this cell to show the HTML representation or trust the notebook. <br />On GitHub, the HTML representation is unable to render, please try loading this page with nbviewer.org.</b></div><div class=\"sk-container\" hidden><div class=\"sk-item\"><div class=\"sk-estimator sk-toggleable\"><input class=\"sk-toggleable__control sk-hidden--visually\" id=\"sk-estimator-id-1\" type=\"checkbox\" checked><label for=\"sk-estimator-id-1\" class=\"sk-toggleable__label sk-toggleable__label-arrow\">LogisticRegression</label><div class=\"sk-toggleable__content\"><pre>LogisticRegression()</pre></div></div></div></div></div>"
      ],
      "text/plain": [
       "LogisticRegression()"
      ]
     },
     "execution_count": 44,
     "metadata": {},
     "output_type": "execute_result"
    }
   ],
   "source": [
    "et_model.fit(x, y)"
   ]
  },
  {
   "cell_type": "code",
   "execution_count": 45,
   "metadata": {},
   "outputs": [],
   "source": [
    "is_et = et_model.predict_proba(x)\n",
    "\n",
    "eti['model_prediction'] = is_et[:, -1]"
   ]
  },
  {
   "cell_type": "code",
   "execution_count": 46,
   "metadata": {},
   "outputs": [],
   "source": [
    "_4dm4_et = eti.loc[_4dm4_players].sort_values('model_prediction', ascending=False)[['avg', 'model_prediction']]"
   ]
  },
  {
   "cell_type": "code",
   "execution_count": 47,
   "metadata": {},
   "outputs": [
    {
     "data": {
      "text/html": [
       "<div>\n",
       "<style scoped>\n",
       "    .dataframe tbody tr th:only-of-type {\n",
       "        vertical-align: middle;\n",
       "    }\n",
       "\n",
       "    .dataframe tbody tr th {\n",
       "        vertical-align: top;\n",
       "    }\n",
       "\n",
       "    .dataframe thead th {\n",
       "        text-align: right;\n",
       "    }\n",
       "</style>\n",
       "<table border=\"1\" class=\"dataframe\">\n",
       "  <thead>\n",
       "    <tr style=\"text-align: right;\">\n",
       "      <th></th>\n",
       "      <th>avg</th>\n",
       "      <th>model_prediction</th>\n",
       "    </tr>\n",
       "    <tr>\n",
       "      <th>index</th>\n",
       "      <th></th>\n",
       "      <th></th>\n",
       "    </tr>\n",
       "  </thead>\n",
       "  <tbody>\n",
       "    <tr>\n",
       "      <th>shokoha</th>\n",
       "      <td>13.858188</td>\n",
       "      <td>0.999208</td>\n",
       "    </tr>\n",
       "    <tr>\n",
       "      <th>Gray Hardrock</th>\n",
       "      <td>7.679832</td>\n",
       "      <td>0.972046</td>\n",
       "    </tr>\n",
       "    <tr>\n",
       "      <th>henryalexbr</th>\n",
       "      <td>6.792923</td>\n",
       "      <td>0.954054</td>\n",
       "    </tr>\n",
       "    <tr>\n",
       "      <th>Keskidi</th>\n",
       "      <td>6.506931</td>\n",
       "      <td>0.946191</td>\n",
       "    </tr>\n",
       "    <tr>\n",
       "      <th>MisteurFR</th>\n",
       "      <td>6.494432</td>\n",
       "      <td>0.945819</td>\n",
       "    </tr>\n",
       "    <tr>\n",
       "      <th>--Pavin--</th>\n",
       "      <td>6.369292</td>\n",
       "      <td>0.941968</td>\n",
       "    </tr>\n",
       "    <tr>\n",
       "      <th>[LS]Byte</th>\n",
       "      <td>5.556689</td>\n",
       "      <td>0.910077</td>\n",
       "    </tr>\n",
       "    <tr>\n",
       "      <th>Lazereed</th>\n",
       "      <td>5.500929</td>\n",
       "      <td>0.907389</td>\n",
       "    </tr>\n",
       "    <tr>\n",
       "      <th>RaGe Radical</th>\n",
       "      <td>5.089728</td>\n",
       "      <td>0.885250</td>\n",
       "    </tr>\n",
       "    <tr>\n",
       "      <th>Kamikho</th>\n",
       "      <td>4.794273</td>\n",
       "      <td>0.866614</td>\n",
       "    </tr>\n",
       "    <tr>\n",
       "      <th>Micleak</th>\n",
       "      <td>4.281936</td>\n",
       "      <td>0.828283</td>\n",
       "    </tr>\n",
       "    <tr>\n",
       "      <th>iN0SleePz</th>\n",
       "      <td>4.233357</td>\n",
       "      <td>0.824228</td>\n",
       "    </tr>\n",
       "    <tr>\n",
       "      <th>Maykee kee</th>\n",
       "      <td>3.548349</td>\n",
       "      <td>0.758969</td>\n",
       "    </tr>\n",
       "    <tr>\n",
       "      <th>Ricizus</th>\n",
       "      <td>3.362112</td>\n",
       "      <td>0.738612</td>\n",
       "    </tr>\n",
       "    <tr>\n",
       "      <th>Akatsumi Chan</th>\n",
       "      <td>3.066538</td>\n",
       "      <td>0.704108</td>\n",
       "    </tr>\n",
       "  </tbody>\n",
       "</table>\n",
       "</div>"
      ],
      "text/plain": [
       "                     avg  model_prediction\n",
       "index                                     \n",
       "shokoha        13.858188          0.999208\n",
       "Gray Hardrock   7.679832          0.972046\n",
       "henryalexbr     6.792923          0.954054\n",
       "Keskidi         6.506931          0.946191\n",
       "MisteurFR       6.494432          0.945819\n",
       "--Pavin--       6.369292          0.941968\n",
       "[LS]Byte        5.556689          0.910077\n",
       "Lazereed        5.500929          0.907389\n",
       "RaGe Radical    5.089728          0.885250\n",
       "Kamikho         4.794273          0.866614\n",
       "Micleak         4.281936          0.828283\n",
       "iN0SleePz       4.233357          0.824228\n",
       "Maykee kee      3.548349          0.758969\n",
       "Ricizus         3.362112          0.738612\n",
       "Akatsumi Chan   3.066538          0.704108"
      ]
     },
     "execution_count": 47,
     "metadata": {},
     "output_type": "execute_result"
    }
   ],
   "source": [
    "_4dm4_et.head(15)"
   ]
  },
  {
   "cell_type": "code",
   "execution_count": 48,
   "metadata": {},
   "outputs": [
    {
     "data": {
      "text/plain": [
       "array([[0.58134647]])"
      ]
     },
     "execution_count": 48,
     "metadata": {},
     "output_type": "execute_result"
    }
   ],
   "source": [
    "et_model.coef_"
   ]
  },
  {
   "cell_type": "code",
   "execution_count": 49,
   "metadata": {},
   "outputs": [
    {
     "data": {
      "text/plain": [
       "array([-0.9157845])"
      ]
     },
     "execution_count": 49,
     "metadata": {},
     "output_type": "execute_result"
    }
   ],
   "source": [
    "et_model.intercept_"
   ]
  },
  {
   "cell_type": "code",
   "execution_count": 50,
   "metadata": {},
   "outputs": [],
   "source": [
    "strong_skillban_boundary = 0.9\n",
    "log_strong_skillban_odds = np.log(strong_skillban_boundary / (1 - strong_skillban_boundary))\n",
    "weak_skillban_boundary = 0.75\n",
    "log_weak_skillban_odds = np.log(weak_skillban_boundary / (1 - weak_skillban_boundary))"
   ]
  },
  {
   "cell_type": "code",
   "execution_count": 51,
   "metadata": {},
   "outputs": [
    {
     "data": {
      "text/plain": [
       "(2.1972245773362196, 1.0986122886681098)"
      ]
     },
     "execution_count": 51,
     "metadata": {},
     "output_type": "execute_result"
    }
   ],
   "source": [
    "log_strong_skillban_odds, log_weak_skillban_odds"
   ]
  },
  {
   "cell_type": "code",
   "execution_count": 52,
   "metadata": {},
   "outputs": [],
   "source": [
    "coef = float(et_model.coef_)\n",
    "intercept = float(et_model.intercept_)"
   ]
  },
  {
   "cell_type": "code",
   "execution_count": 53,
   "metadata": {},
   "outputs": [],
   "source": [
    "strong_eti = (log_strong_skillban_odds - intercept) / coef\n",
    "weak_eti = (log_weak_skillban_odds - intercept) / coef"
   ]
  },
  {
   "cell_type": "code",
   "execution_count": 54,
   "metadata": {},
   "outputs": [
    {
     "data": {
      "text/plain": [
       "(3.4650537816307816, 5.35482578968731)"
      ]
     },
     "execution_count": 54,
     "metadata": {},
     "output_type": "execute_result"
    }
   ],
   "source": [
    "weak_eti, strong_eti"
   ]
  },
  {
   "cell_type": "code",
   "execution_count": 55,
   "metadata": {},
   "outputs": [],
   "source": [
    "skillban = _4dm4_et[_4dm4_et['model_prediction'] > 0.75]\n",
    "skillban['skillban_type'] = skillban['model_prediction'].apply(lambda x: \"Strong Skillban\" if x > 0.9 else \"Weak Skillban\")"
   ]
  },
  {
   "cell_type": "code",
   "execution_count": 56,
   "metadata": {},
   "outputs": [],
   "source": [
    "skillban.to_csv('skillbans_4dm_soft6_list.csv')"
   ]
  },
  {
   "cell_type": "code",
   "execution_count": 57,
   "metadata": {},
   "outputs": [
    {
     "data": {
      "text/html": [
       "<div>\n",
       "<style scoped>\n",
       "    .dataframe tbody tr th:only-of-type {\n",
       "        vertical-align: middle;\n",
       "    }\n",
       "\n",
       "    .dataframe tbody tr th {\n",
       "        vertical-align: top;\n",
       "    }\n",
       "\n",
       "    .dataframe thead th {\n",
       "        text-align: right;\n",
       "    }\n",
       "</style>\n",
       "<table border=\"1\" class=\"dataframe\">\n",
       "  <thead>\n",
       "    <tr style=\"text-align: right;\">\n",
       "      <th></th>\n",
       "      <th>avg</th>\n",
       "      <th>model_prediction</th>\n",
       "      <th>skillban_type</th>\n",
       "    </tr>\n",
       "    <tr>\n",
       "      <th>index</th>\n",
       "      <th></th>\n",
       "      <th></th>\n",
       "      <th></th>\n",
       "    </tr>\n",
       "  </thead>\n",
       "  <tbody>\n",
       "    <tr>\n",
       "      <th>shokoha</th>\n",
       "      <td>13.858188</td>\n",
       "      <td>0.999208</td>\n",
       "      <td>Strong Skillban</td>\n",
       "    </tr>\n",
       "    <tr>\n",
       "      <th>Gray Hardrock</th>\n",
       "      <td>7.679832</td>\n",
       "      <td>0.972046</td>\n",
       "      <td>Strong Skillban</td>\n",
       "    </tr>\n",
       "    <tr>\n",
       "      <th>henryalexbr</th>\n",
       "      <td>6.792923</td>\n",
       "      <td>0.954054</td>\n",
       "      <td>Strong Skillban</td>\n",
       "    </tr>\n",
       "    <tr>\n",
       "      <th>Keskidi</th>\n",
       "      <td>6.506931</td>\n",
       "      <td>0.946191</td>\n",
       "      <td>Strong Skillban</td>\n",
       "    </tr>\n",
       "    <tr>\n",
       "      <th>MisteurFR</th>\n",
       "      <td>6.494432</td>\n",
       "      <td>0.945819</td>\n",
       "      <td>Strong Skillban</td>\n",
       "    </tr>\n",
       "    <tr>\n",
       "      <th>--Pavin--</th>\n",
       "      <td>6.369292</td>\n",
       "      <td>0.941968</td>\n",
       "      <td>Strong Skillban</td>\n",
       "    </tr>\n",
       "    <tr>\n",
       "      <th>[LS]Byte</th>\n",
       "      <td>5.556689</td>\n",
       "      <td>0.910077</td>\n",
       "      <td>Strong Skillban</td>\n",
       "    </tr>\n",
       "    <tr>\n",
       "      <th>Lazereed</th>\n",
       "      <td>5.500929</td>\n",
       "      <td>0.907389</td>\n",
       "      <td>Strong Skillban</td>\n",
       "    </tr>\n",
       "    <tr>\n",
       "      <th>RaGe Radical</th>\n",
       "      <td>5.089728</td>\n",
       "      <td>0.885250</td>\n",
       "      <td>Weak Skillban</td>\n",
       "    </tr>\n",
       "    <tr>\n",
       "      <th>Kamikho</th>\n",
       "      <td>4.794273</td>\n",
       "      <td>0.866614</td>\n",
       "      <td>Weak Skillban</td>\n",
       "    </tr>\n",
       "    <tr>\n",
       "      <th>Micleak</th>\n",
       "      <td>4.281936</td>\n",
       "      <td>0.828283</td>\n",
       "      <td>Weak Skillban</td>\n",
       "    </tr>\n",
       "    <tr>\n",
       "      <th>iN0SleePz</th>\n",
       "      <td>4.233357</td>\n",
       "      <td>0.824228</td>\n",
       "      <td>Weak Skillban</td>\n",
       "    </tr>\n",
       "    <tr>\n",
       "      <th>Maykee kee</th>\n",
       "      <td>3.548349</td>\n",
       "      <td>0.758969</td>\n",
       "      <td>Weak Skillban</td>\n",
       "    </tr>\n",
       "  </tbody>\n",
       "</table>\n",
       "</div>"
      ],
      "text/plain": [
       "                     avg  model_prediction    skillban_type\n",
       "index                                                      \n",
       "shokoha        13.858188          0.999208  Strong Skillban\n",
       "Gray Hardrock   7.679832          0.972046  Strong Skillban\n",
       "henryalexbr     6.792923          0.954054  Strong Skillban\n",
       "Keskidi         6.506931          0.946191  Strong Skillban\n",
       "MisteurFR       6.494432          0.945819  Strong Skillban\n",
       "--Pavin--       6.369292          0.941968  Strong Skillban\n",
       "[LS]Byte        5.556689          0.910077  Strong Skillban\n",
       "Lazereed        5.500929          0.907389  Strong Skillban\n",
       "RaGe Radical    5.089728          0.885250    Weak Skillban\n",
       "Kamikho         4.794273          0.866614    Weak Skillban\n",
       "Micleak         4.281936          0.828283    Weak Skillban\n",
       "iN0SleePz       4.233357          0.824228    Weak Skillban\n",
       "Maykee kee      3.548349          0.758969    Weak Skillban"
      ]
     },
     "execution_count": 57,
     "metadata": {},
     "output_type": "execute_result"
    }
   ],
   "source": [
    "skillban"
   ]
  },
  {
   "cell_type": "code",
   "execution_count": 58,
   "metadata": {},
   "outputs": [],
   "source": [
    "skillbanned_players = skillban.index"
   ]
  },
  {
   "cell_type": "code",
   "execution_count": 59,
   "metadata": {},
   "outputs": [],
   "source": [
    "from utils.highlights import get_highlighted_scores"
   ]
  },
  {
   "cell_type": "code",
   "execution_count": 61,
   "metadata": {},
   "outputs": [],
   "source": [
    "shokoha_highlighted_scores = get_highlighted_scores('shokoha', _4dm4_dataset, 5)"
   ]
  },
  {
   "cell_type": "code",
   "execution_count": 65,
   "metadata": {},
   "outputs": [
    {
     "data": {
      "text/html": [
       "<div>\n",
       "<style scoped>\n",
       "    .dataframe tbody tr th:only-of-type {\n",
       "        vertical-align: middle;\n",
       "    }\n",
       "\n",
       "    .dataframe tbody tr th {\n",
       "        vertical-align: top;\n",
       "    }\n",
       "\n",
       "    .dataframe thead th {\n",
       "        text-align: right;\n",
       "    }\n",
       "</style>\n",
       "<table border=\"1\" class=\"dataframe\">\n",
       "  <thead>\n",
       "    <tr style=\"text-align: right;\">\n",
       "      <th></th>\n",
       "      <th>beatmap</th>\n",
       "      <th>score</th>\n",
       "    </tr>\n",
       "  </thead>\n",
       "  <tbody>\n",
       "    <tr>\n",
       "      <th>2308</th>\n",
       "      <td>SF_RC_5</td>\n",
       "      <td>993596</td>\n",
       "    </tr>\n",
       "  </tbody>\n",
       "</table>\n",
       "</div>"
      ],
      "text/plain": [
       "      beatmap   score\n",
       "2308  SF_RC_5  993596"
      ]
     },
     "execution_count": 65,
     "metadata": {},
     "output_type": "execute_result"
    }
   ],
   "source": [
    "_4dm4_dataset[(_4dm4_dataset['player_name'] == 'shokoha') & (_4dm4_dataset['beatmap'] == shokoha_highlighted_scores[0])][['beatmap', 'score']]"
   ]
  },
  {
   "cell_type": "code",
   "execution_count": 67,
   "metadata": {},
   "outputs": [],
   "source": [
    "highlighted_scores = pd.DataFrame(columns=['player_name', 'beatmap', 'score'])\n",
    "n_highlighted_scores = 5"
   ]
  },
  {
   "cell_type": "code",
   "execution_count": 69,
   "metadata": {},
   "outputs": [],
   "source": [
    "for player in skillbanned_players:\n",
    "    highlighted_player_score = get_highlighted_scores(player, _4dm4_dataset, n_highlighted_scores)\n",
    "    for beatmap in highlighted_player_score:\n",
    "        highlight_scr = _4dm4_dataset[(_4dm4_dataset['player_name'] == player) & (_4dm4_dataset['beatmap'] == beatmap)][['player_name', 'beatmap', 'score']]\n",
    "        highlighted_scores = pd.concat((highlighted_scores, highlight_scr))"
   ]
  },
  {
   "cell_type": "code",
   "execution_count": 70,
   "metadata": {},
   "outputs": [
    {
     "data": {
      "text/html": [
       "<div>\n",
       "<style scoped>\n",
       "    .dataframe tbody tr th:only-of-type {\n",
       "        vertical-align: middle;\n",
       "    }\n",
       "\n",
       "    .dataframe tbody tr th {\n",
       "        vertical-align: top;\n",
       "    }\n",
       "\n",
       "    .dataframe thead th {\n",
       "        text-align: right;\n",
       "    }\n",
       "</style>\n",
       "<table border=\"1\" class=\"dataframe\">\n",
       "  <thead>\n",
       "    <tr style=\"text-align: right;\">\n",
       "      <th></th>\n",
       "      <th>player_name</th>\n",
       "      <th>beatmap</th>\n",
       "      <th>score</th>\n",
       "    </tr>\n",
       "  </thead>\n",
       "  <tbody>\n",
       "    <tr>\n",
       "      <th>2308</th>\n",
       "      <td>shokoha</td>\n",
       "      <td>SF_RC_5</td>\n",
       "      <td>993596</td>\n",
       "    </tr>\n",
       "    <tr>\n",
       "      <th>2587</th>\n",
       "      <td>shokoha</td>\n",
       "      <td>F_HB_2</td>\n",
       "      <td>993893</td>\n",
       "    </tr>\n",
       "    <tr>\n",
       "      <th>2219</th>\n",
       "      <td>shokoha</td>\n",
       "      <td>SF_RC_1</td>\n",
       "      <td>995673</td>\n",
       "    </tr>\n",
       "    <tr>\n",
       "      <th>2574</th>\n",
       "      <td>shokoha</td>\n",
       "      <td>F_HB_1</td>\n",
       "      <td>992841</td>\n",
       "    </tr>\n",
       "    <tr>\n",
       "      <th>2653</th>\n",
       "      <td>shokoha</td>\n",
       "      <td>F_LN_3</td>\n",
       "      <td>990648</td>\n",
       "    </tr>\n",
       "    <tr>\n",
       "      <th>...</th>\n",
       "      <td>...</td>\n",
       "      <td>...</td>\n",
       "      <td>...</td>\n",
       "    </tr>\n",
       "    <tr>\n",
       "      <th>2065</th>\n",
       "      <td>Maykee kee</td>\n",
       "      <td>QF_LN_2</td>\n",
       "      <td>991941</td>\n",
       "    </tr>\n",
       "    <tr>\n",
       "      <th>2316</th>\n",
       "      <td>Maykee kee</td>\n",
       "      <td>SF_RC_6</td>\n",
       "      <td>981173</td>\n",
       "    </tr>\n",
       "    <tr>\n",
       "      <th>2576</th>\n",
       "      <td>Maykee kee</td>\n",
       "      <td>F_HB_2</td>\n",
       "      <td>985878</td>\n",
       "    </tr>\n",
       "    <tr>\n",
       "      <th>950</th>\n",
       "      <td>Maykee kee</td>\n",
       "      <td>RO32_LN_3</td>\n",
       "      <td>994739</td>\n",
       "    </tr>\n",
       "    <tr>\n",
       "      <th>1304</th>\n",
       "      <td>Maykee kee</td>\n",
       "      <td>RO16_HB_1</td>\n",
       "      <td>993171</td>\n",
       "    </tr>\n",
       "  </tbody>\n",
       "</table>\n",
       "<p>65 rows × 3 columns</p>\n",
       "</div>"
      ],
      "text/plain": [
       "     player_name    beatmap   score\n",
       "2308     shokoha    SF_RC_5  993596\n",
       "2587     shokoha     F_HB_2  993893\n",
       "2219     shokoha    SF_RC_1  995673\n",
       "2574     shokoha     F_HB_1  992841\n",
       "2653     shokoha     F_LN_3  990648\n",
       "...          ...        ...     ...\n",
       "2065  Maykee kee    QF_LN_2  991941\n",
       "2316  Maykee kee    SF_RC_6  981173\n",
       "2576  Maykee kee     F_HB_2  985878\n",
       "950   Maykee kee  RO32_LN_3  994739\n",
       "1304  Maykee kee  RO16_HB_1  993171\n",
       "\n",
       "[65 rows x 3 columns]"
      ]
     },
     "execution_count": 70,
     "metadata": {},
     "output_type": "execute_result"
    }
   ],
   "source": [
    "highlighted_scores"
   ]
  },
  {
   "cell_type": "code",
   "execution_count": 71,
   "metadata": {},
   "outputs": [],
   "source": [
    "highlighted_scores.to_csv('highlighted_scores.csv')"
   ]
  },
  {
   "cell_type": "code",
   "execution_count": null,
   "metadata": {},
   "outputs": [],
   "source": []
  }
 ],
 "metadata": {
  "kernelspec": {
   "display_name": "Python 3.10.4 64-bit",
   "language": "python",
   "name": "python3"
  },
  "language_info": {
   "codemirror_mode": {
    "name": "ipython",
    "version": 3
   },
   "file_extension": ".py",
   "mimetype": "text/x-python",
   "name": "python",
   "nbconvert_exporter": "python",
   "pygments_lexer": "ipython3",
   "version": "3.10.4"
  },
  "orig_nbformat": 4,
  "vscode": {
   "interpreter": {
    "hash": "a9cff5a362bc38ef45d817ae74b1af54d6a076e3d773891282bce078b815ba34"
   }
  }
 },
 "nbformat": 4,
 "nbformat_minor": 2
}
